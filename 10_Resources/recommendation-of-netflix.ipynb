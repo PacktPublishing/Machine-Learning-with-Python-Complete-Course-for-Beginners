{
 "cells": [
  {
   "cell_type": "code",
   "execution_count": 1,
   "id": "5e725068",
   "metadata": {
    "_cell_guid": "b1076dfc-b9ad-4769-8c92-a6c4dae69d19",
    "_uuid": "8f2839f25d086af736a60e9eeb907d3b93b6e0e5",
    "execution": {
     "iopub.execute_input": "2021-11-04T10:02:26.822983Z",
     "iopub.status.busy": "2021-11-04T10:02:26.820942Z",
     "iopub.status.idle": "2021-11-04T10:02:26.842946Z",
     "shell.execute_reply": "2021-11-04T10:02:26.842281Z",
     "shell.execute_reply.started": "2021-11-04T09:48:13.332647Z"
    },
    "papermill": {
     "duration": 0.052731,
     "end_time": "2021-11-04T10:02:26.843131",
     "exception": false,
     "start_time": "2021-11-04T10:02:26.790400",
     "status": "completed"
    },
    "tags": []
   },
   "outputs": [
    {
     "name": "stdout",
     "output_type": "stream",
     "text": [
      "/kaggle/input/trending-tv-shows-on-netflix/TV Shows - Netflix.csv\n"
     ]
    }
   ],
   "source": [
    "# This Python 3 environment comes with many helpful analytics libraries installed\n",
    "# It is defined by the kaggle/python Docker image: https://github.com/kaggle/docker-python\n",
    "# For example, here's several helpful packages to load\n",
    "\n",
    "import numpy as np # linear algebra\n",
    "import pandas as pd # data processing, CSV file I/O (e.g. pd.read_csv)\n",
    "\n",
    "# Input data files are available in the read-only \"../input/\" directory\n",
    "# For example, running this (by clicking run or pressing Shift+Enter) will list all files under the input directory\n",
    "\n",
    "import os\n",
    "for dirname, _, filenames in os.walk('/kaggle/input'):\n",
    "    for filename in filenames:\n",
    "        print(os.path.join(dirname, filename))\n",
    "\n",
    "# You can write up to 20GB to the current directory (/kaggle/working/) that gets preserved as output when you create a version using \"Save & Run All\" \n",
    "# You can also write temporary files to /kaggle/temp/, but they won't be saved outside of the current session"
   ]
  },
  {
   "cell_type": "markdown",
   "id": "7585c3aa",
   "metadata": {
    "papermill": {
     "duration": 0.021044,
     "end_time": "2021-11-04T10:02:26.886826",
     "exception": false,
     "start_time": "2021-11-04T10:02:26.865782",
     "status": "completed"
    },
    "tags": []
   },
   "source": [
    "# Recommendation of Netflix Data\n",
    "#### Link: https://www.kaggle.com/ritesh2000/trending-tv-shows-on-netflix"
   ]
  },
  {
   "cell_type": "code",
   "execution_count": 2,
   "id": "fe33bfd8",
   "metadata": {
    "execution": {
     "iopub.execute_input": "2021-11-04T10:02:26.933786Z",
     "iopub.status.busy": "2021-11-04T10:02:26.933105Z",
     "iopub.status.idle": "2021-11-04T10:02:27.823567Z",
     "shell.execute_reply": "2021-11-04T10:02:27.822996Z",
     "shell.execute_reply.started": "2021-11-04T09:48:13.376164Z"
    },
    "papermill": {
     "duration": 0.915149,
     "end_time": "2021-11-04T10:02:27.823756",
     "exception": false,
     "start_time": "2021-11-04T10:02:26.908607",
     "status": "completed"
    },
    "tags": []
   },
   "outputs": [],
   "source": [
    "import seaborn as sns\n",
    "import matplotlib.pyplot as plt"
   ]
  },
  {
   "cell_type": "markdown",
   "id": "27180ddc",
   "metadata": {
    "papermill": {
     "duration": 0.021508,
     "end_time": "2021-11-04T10:02:27.866876",
     "exception": false,
     "start_time": "2021-11-04T10:02:27.845368",
     "status": "completed"
    },
    "tags": []
   },
   "source": [
    "# 1. Data Loading "
   ]
  },
  {
   "cell_type": "code",
   "execution_count": 3,
   "id": "00b5521f",
   "metadata": {
    "execution": {
     "iopub.execute_input": "2021-11-04T10:02:27.914346Z",
     "iopub.status.busy": "2021-11-04T10:02:27.913704Z",
     "iopub.status.idle": "2021-11-04T10:02:27.945214Z",
     "shell.execute_reply": "2021-11-04T10:02:27.945734Z",
     "shell.execute_reply.started": "2021-11-04T09:48:14.350479Z"
    },
    "papermill": {
     "duration": 0.057335,
     "end_time": "2021-11-04T10:02:27.945921",
     "exception": false,
     "start_time": "2021-11-04T10:02:27.888586",
     "status": "completed"
    },
    "tags": []
   },
   "outputs": [
    {
     "data": {
      "text/html": [
       "<div>\n",
       "<style scoped>\n",
       "    .dataframe tbody tr th:only-of-type {\n",
       "        vertical-align: middle;\n",
       "    }\n",
       "\n",
       "    .dataframe tbody tr th {\n",
       "        vertical-align: top;\n",
       "    }\n",
       "\n",
       "    .dataframe thead th {\n",
       "        text-align: right;\n",
       "    }\n",
       "</style>\n",
       "<table border=\"1\" class=\"dataframe\">\n",
       "  <thead>\n",
       "    <tr style=\"text-align: right;\">\n",
       "      <th></th>\n",
       "      <th>Titles</th>\n",
       "      <th>Year</th>\n",
       "      <th>Rating</th>\n",
       "      <th>IMDB_Rating</th>\n",
       "      <th>Netflix</th>\n",
       "    </tr>\n",
       "  </thead>\n",
       "  <tbody>\n",
       "    <tr>\n",
       "      <th>0</th>\n",
       "      <td>Breaking Bad</td>\n",
       "      <td>2008</td>\n",
       "      <td>18+</td>\n",
       "      <td>9.5</td>\n",
       "      <td>1</td>\n",
       "    </tr>\n",
       "    <tr>\n",
       "      <th>1</th>\n",
       "      <td>Game of Thrones</td>\n",
       "      <td>2011</td>\n",
       "      <td>18+</td>\n",
       "      <td>9.3</td>\n",
       "      <td>0</td>\n",
       "    </tr>\n",
       "    <tr>\n",
       "      <th>2</th>\n",
       "      <td>Rick and Morty</td>\n",
       "      <td>2013</td>\n",
       "      <td>18+</td>\n",
       "      <td>9.2</td>\n",
       "      <td>0</td>\n",
       "    </tr>\n",
       "    <tr>\n",
       "      <th>3</th>\n",
       "      <td>Dark</td>\n",
       "      <td>2017</td>\n",
       "      <td>16+</td>\n",
       "      <td>8.8</td>\n",
       "      <td>1</td>\n",
       "    </tr>\n",
       "    <tr>\n",
       "      <th>4</th>\n",
       "      <td>Stranger Things</td>\n",
       "      <td>2016</td>\n",
       "      <td>16+</td>\n",
       "      <td>8.8</td>\n",
       "      <td>1</td>\n",
       "    </tr>\n",
       "  </tbody>\n",
       "</table>\n",
       "</div>"
      ],
      "text/plain": [
       "            Titles  Year Rating  IMDB_Rating  Netflix\n",
       "0     Breaking Bad  2008    18+          9.5        1\n",
       "1  Game of Thrones  2011    18+          9.3        0\n",
       "2   Rick and Morty  2013    18+          9.2        0\n",
       "3             Dark  2017    16+          8.8        1\n",
       "4  Stranger Things  2016    16+          8.8        1"
      ]
     },
     "execution_count": 3,
     "metadata": {},
     "output_type": "execute_result"
    }
   ],
   "source": [
    "data_frame = pd.read_csv('/kaggle/input/trending-tv-shows-on-netflix/TV Shows - Netflix.csv')\n",
    "data_frame.head()"
   ]
  },
  {
   "cell_type": "code",
   "execution_count": 4,
   "id": "7eb45ea3",
   "metadata": {
    "execution": {
     "iopub.execute_input": "2021-11-04T10:02:27.993411Z",
     "iopub.status.busy": "2021-11-04T10:02:27.992778Z",
     "iopub.status.idle": "2021-11-04T10:02:28.015682Z",
     "shell.execute_reply": "2021-11-04T10:02:28.015181Z",
     "shell.execute_reply.started": "2021-11-04T09:48:14.385932Z"
    },
    "papermill": {
     "duration": 0.047673,
     "end_time": "2021-11-04T10:02:28.015832",
     "exception": false,
     "start_time": "2021-11-04T10:02:27.968159",
     "status": "completed"
    },
    "tags": []
   },
   "outputs": [
    {
     "name": "stdout",
     "output_type": "stream",
     "text": [
      "<class 'pandas.core.frame.DataFrame'>\n",
      "RangeIndex: 50 entries, 0 to 49\n",
      "Data columns (total 5 columns):\n",
      " #   Column       Non-Null Count  Dtype  \n",
      "---  ------       --------------  -----  \n",
      " 0   Titles       50 non-null     object \n",
      " 1   Year         50 non-null     int64  \n",
      " 2   Rating       50 non-null     object \n",
      " 3   IMDB_Rating  50 non-null     float64\n",
      " 4   Netflix      50 non-null     int64  \n",
      "dtypes: float64(1), int64(2), object(2)\n",
      "memory usage: 2.1+ KB\n"
     ]
    }
   ],
   "source": [
    "data_frame.info()"
   ]
  },
  {
   "cell_type": "markdown",
   "id": "1ae91aad",
   "metadata": {
    "papermill": {
     "duration": 0.021932,
     "end_time": "2021-11-04T10:02:28.060369",
     "exception": false,
     "start_time": "2021-11-04T10:02:28.038437",
     "status": "completed"
    },
    "tags": []
   },
   "source": [
    "- Appart from Title and Rating we can see that all the other values are either Int of Float.\n",
    "- Suggestion: Transform the Rating column."
   ]
  },
  {
   "cell_type": "code",
   "execution_count": 5,
   "id": "040f47aa",
   "metadata": {
    "execution": {
     "iopub.execute_input": "2021-11-04T10:02:28.109053Z",
     "iopub.status.busy": "2021-11-04T10:02:28.108420Z",
     "iopub.status.idle": "2021-11-04T10:02:28.115195Z",
     "shell.execute_reply": "2021-11-04T10:02:28.115779Z",
     "shell.execute_reply.started": "2021-11-04T09:48:14.413004Z"
    },
    "papermill": {
     "duration": 0.0325,
     "end_time": "2021-11-04T10:02:28.115970",
     "exception": false,
     "start_time": "2021-11-04T10:02:28.083470",
     "status": "completed"
    },
    "tags": []
   },
   "outputs": [
    {
     "data": {
      "text/plain": [
       "Titles         0\n",
       "Year           0\n",
       "Rating         0\n",
       "IMDB_Rating    0\n",
       "Netflix        0\n",
       "dtype: int64"
      ]
     },
     "execution_count": 5,
     "metadata": {},
     "output_type": "execute_result"
    }
   ],
   "source": [
    "# just cross checking if there are any null values.\n",
    "data_frame.isnull().sum()"
   ]
  },
  {
   "cell_type": "code",
   "execution_count": 6,
   "id": "63068f42",
   "metadata": {
    "execution": {
     "iopub.execute_input": "2021-11-04T10:02:28.167752Z",
     "iopub.status.busy": "2021-11-04T10:02:28.167095Z",
     "iopub.status.idle": "2021-11-04T10:02:28.177173Z",
     "shell.execute_reply": "2021-11-04T10:02:28.177653Z",
     "shell.execute_reply.started": "2021-11-04T09:48:14.431667Z"
    },
    "papermill": {
     "duration": 0.038248,
     "end_time": "2021-11-04T10:02:28.177843",
     "exception": false,
     "start_time": "2021-11-04T10:02:28.139595",
     "status": "completed"
    },
    "tags": []
   },
   "outputs": [
    {
     "data": {
      "text/plain": [
       "False    50\n",
       "dtype: int64"
      ]
     },
     "execution_count": 6,
     "metadata": {},
     "output_type": "execute_result"
    }
   ],
   "source": [
    "# check for duplicates : No duplicate records\n",
    "data_frame.duplicated().value_counts()"
   ]
  },
  {
   "cell_type": "code",
   "execution_count": 7,
   "id": "bb326d3f",
   "metadata": {
    "execution": {
     "iopub.execute_input": "2021-11-04T10:02:28.226883Z",
     "iopub.status.busy": "2021-11-04T10:02:28.226259Z",
     "iopub.status.idle": "2021-11-04T10:02:28.246129Z",
     "shell.execute_reply": "2021-11-04T10:02:28.246585Z",
     "shell.execute_reply.started": "2021-11-04T09:48:14.453753Z"
    },
    "papermill": {
     "duration": 0.046085,
     "end_time": "2021-11-04T10:02:28.246783",
     "exception": false,
     "start_time": "2021-11-04T10:02:28.200698",
     "status": "completed"
    },
    "tags": []
   },
   "outputs": [
    {
     "data": {
      "text/html": [
       "<div>\n",
       "<style scoped>\n",
       "    .dataframe tbody tr th:only-of-type {\n",
       "        vertical-align: middle;\n",
       "    }\n",
       "\n",
       "    .dataframe tbody tr th {\n",
       "        vertical-align: top;\n",
       "    }\n",
       "\n",
       "    .dataframe thead th {\n",
       "        text-align: right;\n",
       "    }\n",
       "</style>\n",
       "<table border=\"1\" class=\"dataframe\">\n",
       "  <thead>\n",
       "    <tr style=\"text-align: right;\">\n",
       "      <th></th>\n",
       "      <th>Year</th>\n",
       "      <th>IMDB_Rating</th>\n",
       "      <th>Netflix</th>\n",
       "    </tr>\n",
       "  </thead>\n",
       "  <tbody>\n",
       "    <tr>\n",
       "      <th>count</th>\n",
       "      <td>50.000000</td>\n",
       "      <td>50.000000</td>\n",
       "      <td>50.000000</td>\n",
       "    </tr>\n",
       "    <tr>\n",
       "      <th>mean</th>\n",
       "      <td>2009.900000</td>\n",
       "      <td>8.722000</td>\n",
       "      <td>0.380000</td>\n",
       "    </tr>\n",
       "    <tr>\n",
       "      <th>std</th>\n",
       "      <td>6.746881</td>\n",
       "      <td>0.358734</td>\n",
       "      <td>0.490314</td>\n",
       "    </tr>\n",
       "    <tr>\n",
       "      <th>min</th>\n",
       "      <td>1989.000000</td>\n",
       "      <td>8.000000</td>\n",
       "      <td>0.000000</td>\n",
       "    </tr>\n",
       "    <tr>\n",
       "      <th>25%</th>\n",
       "      <td>2005.250000</td>\n",
       "      <td>8.500000</td>\n",
       "      <td>0.000000</td>\n",
       "    </tr>\n",
       "    <tr>\n",
       "      <th>50%</th>\n",
       "      <td>2011.000000</td>\n",
       "      <td>8.700000</td>\n",
       "      <td>0.000000</td>\n",
       "    </tr>\n",
       "    <tr>\n",
       "      <th>75%</th>\n",
       "      <td>2015.000000</td>\n",
       "      <td>8.900000</td>\n",
       "      <td>1.000000</td>\n",
       "    </tr>\n",
       "    <tr>\n",
       "      <th>max</th>\n",
       "      <td>2019.000000</td>\n",
       "      <td>9.500000</td>\n",
       "      <td>1.000000</td>\n",
       "    </tr>\n",
       "  </tbody>\n",
       "</table>\n",
       "</div>"
      ],
      "text/plain": [
       "              Year  IMDB_Rating    Netflix\n",
       "count    50.000000    50.000000  50.000000\n",
       "mean   2009.900000     8.722000   0.380000\n",
       "std       6.746881     0.358734   0.490314\n",
       "min    1989.000000     8.000000   0.000000\n",
       "25%    2005.250000     8.500000   0.000000\n",
       "50%    2011.000000     8.700000   0.000000\n",
       "75%    2015.000000     8.900000   1.000000\n",
       "max    2019.000000     9.500000   1.000000"
      ]
     },
     "execution_count": 7,
     "metadata": {},
     "output_type": "execute_result"
    }
   ],
   "source": [
    "# data description: No significan't outliers\n",
    "data_frame.describe()"
   ]
  },
  {
   "cell_type": "code",
   "execution_count": 8,
   "id": "86b3f2a2",
   "metadata": {
    "execution": {
     "iopub.execute_input": "2021-11-04T10:02:28.296875Z",
     "iopub.status.busy": "2021-11-04T10:02:28.296236Z",
     "iopub.status.idle": "2021-11-04T10:02:28.302304Z",
     "shell.execute_reply": "2021-11-04T10:02:28.302833Z",
     "shell.execute_reply.started": "2021-11-04T09:48:14.478902Z"
    },
    "papermill": {
     "duration": 0.032807,
     "end_time": "2021-11-04T10:02:28.303010",
     "exception": false,
     "start_time": "2021-11-04T10:02:28.270203",
     "status": "completed"
    },
    "tags": []
   },
   "outputs": [
    {
     "data": {
      "text/plain": [
       "18+    27\n",
       "16+    19\n",
       "7+      4\n",
       "Name: Rating, dtype: int64"
      ]
     },
     "execution_count": 8,
     "metadata": {},
     "output_type": "execute_result"
    }
   ],
   "source": [
    "data_frame['Rating'].value_counts()"
   ]
  },
  {
   "cell_type": "markdown",
   "id": "e98c5e12",
   "metadata": {
    "papermill": {
     "duration": 0.02331,
     "end_time": "2021-11-04T10:02:28.350153",
     "exception": false,
     "start_time": "2021-11-04T10:02:28.326843",
     "status": "completed"
    },
    "tags": []
   },
   "source": [
    "# 2. Data Visualisation"
   ]
  },
  {
   "cell_type": "code",
   "execution_count": 9,
   "id": "39a1843f",
   "metadata": {
    "execution": {
     "iopub.execute_input": "2021-11-04T10:02:28.400745Z",
     "iopub.status.busy": "2021-11-04T10:02:28.400120Z",
     "iopub.status.idle": "2021-11-04T10:02:29.182734Z",
     "shell.execute_reply": "2021-11-04T10:02:29.183421Z",
     "shell.execute_reply.started": "2021-11-04T09:48:14.490145Z"
    },
    "papermill": {
     "duration": 0.80971,
     "end_time": "2021-11-04T10:02:29.183592",
     "exception": false,
     "start_time": "2021-11-04T10:02:28.373882",
     "status": "completed"
    },
    "tags": []
   },
   "outputs": [
    {
     "data": {
      "text/plain": [
       "array([[<AxesSubplot:title={'center':'Year'}>,\n",
       "        <AxesSubplot:title={'center':'IMDB_Rating'}>],\n",
       "       [<AxesSubplot:title={'center':'Netflix'}>, <AxesSubplot:>]],\n",
       "      dtype=object)"
      ]
     },
     "execution_count": 9,
     "metadata": {},
     "output_type": "execute_result"
    },
    {
     "data": {
      "image/png": "[encoded data removed]",
      "text/plain": [
       "<Figure size 720x720 with 4 Axes>"
      ]
     },
     "metadata": {
      "needs_background": "light"
     },
     "output_type": "display_data"
    }
   ],
   "source": [
    "data_frame.hist(figsize=[10,10])"
   ]
  },
  {
   "cell_type": "markdown",
   "id": "8706698c",
   "metadata": {
    "papermill": {
     "duration": 0.024658,
     "end_time": "2021-11-04T10:02:29.233282",
     "exception": false,
     "start_time": "2021-11-04T10:02:29.208624",
     "status": "completed"
    },
    "tags": []
   },
   "source": [
    "- Year column is negatively skewed, we will use standard scalar to make the distribution better."
   ]
  },
  {
   "cell_type": "code",
   "execution_count": 10,
   "id": "d9eddc7e",
   "metadata": {
    "execution": {
     "iopub.execute_input": "2021-11-04T10:02:29.315510Z",
     "iopub.status.busy": "2021-11-04T10:02:29.307407Z",
     "iopub.status.idle": "2021-11-04T10:02:29.472070Z",
     "shell.execute_reply": "2021-11-04T10:02:29.471406Z",
     "shell.execute_reply.started": "2021-11-04T09:48:15.293123Z"
    },
    "papermill": {
     "duration": 0.21404,
     "end_time": "2021-11-04T10:02:29.472213",
     "exception": false,
     "start_time": "2021-11-04T10:02:29.258173",
     "status": "completed"
    },
    "tags": []
   },
   "outputs": [
    {
     "data": {
      "text/plain": [
       "<AxesSubplot:xlabel='Rating', ylabel='count'>"
      ]
     },
     "execution_count": 10,
     "metadata": {},
     "output_type": "execute_result"
    },
    {
     "data": {
      "image/png": "[encoded data removed]",
      "text/plain": [
       "<Figure size 432x288 with 1 Axes>"
      ]
     },
     "metadata": {
      "needs_background": "light"
     },
     "output_type": "display_data"
    }
   ],
   "source": [
    "sns.countplot(data = data_frame, x='Rating')"
   ]
  },
  {
   "cell_type": "markdown",
   "id": "ab54b985",
   "metadata": {
    "papermill": {
     "duration": 0.02583,
     "end_time": "2021-11-04T10:02:29.524053",
     "exception": false,
     "start_time": "2021-11-04T10:02:29.498223",
     "status": "completed"
    },
    "tags": []
   },
   "source": [
    "# 3. Data Transformation"
   ]
  },
  {
   "cell_type": "code",
   "execution_count": 11,
   "id": "b71a4e68",
   "metadata": {
    "execution": {
     "iopub.execute_input": "2021-11-04T10:02:29.580765Z",
     "iopub.status.busy": "2021-11-04T10:02:29.579973Z",
     "iopub.status.idle": "2021-11-04T10:02:29.715472Z",
     "shell.execute_reply": "2021-11-04T10:02:29.714944Z",
     "shell.execute_reply.started": "2021-11-04T09:48:15.484750Z"
    },
    "papermill": {
     "duration": 0.165797,
     "end_time": "2021-11-04T10:02:29.715618",
     "exception": false,
     "start_time": "2021-11-04T10:02:29.549821",
     "status": "completed"
    },
    "tags": []
   },
   "outputs": [
    {
     "name": "stdout",
     "output_type": "stream",
     "text": [
      "<class 'pandas.core.frame.DataFrame'>\n",
      "RangeIndex: 50 entries, 0 to 49\n",
      "Data columns (total 5 columns):\n",
      " #   Column       Non-Null Count  Dtype  \n",
      "---  ------       --------------  -----  \n",
      " 0   Titles       50 non-null     object \n",
      " 1   Year         50 non-null     int64  \n",
      " 2   Rating       50 non-null     int64  \n",
      " 3   IMDB_Rating  50 non-null     float64\n",
      " 4   Netflix      50 non-null     int64  \n",
      "dtypes: float64(1), int64(3), object(1)\n",
      "memory usage: 2.1+ KB\n"
     ]
    }
   ],
   "source": [
    "# label encoding for the rating column\n",
    "from sklearn.preprocessing import LabelEncoder\n",
    "le = LabelEncoder()\n",
    "data_frame['Rating'] = le.fit_transform(data_frame['Rating'])\n",
    "data_frame.info()"
   ]
  },
  {
   "cell_type": "code",
   "execution_count": 12,
   "id": "28e9eb7a",
   "metadata": {
    "execution": {
     "iopub.execute_input": "2021-11-04T10:02:29.776338Z",
     "iopub.status.busy": "2021-11-04T10:02:29.775288Z",
     "iopub.status.idle": "2021-11-04T10:02:30.479583Z",
     "shell.execute_reply": "2021-11-04T10:02:30.479049Z",
     "shell.execute_reply.started": "2021-11-04T09:48:15.629473Z"
    },
    "papermill": {
     "duration": 0.737525,
     "end_time": "2021-11-04T10:02:30.479736",
     "exception": false,
     "start_time": "2021-11-04T10:02:29.742211",
     "status": "completed"
    },
    "tags": []
   },
   "outputs": [
    {
     "data": {
      "text/plain": [
       "array([[<AxesSubplot:title={'center':'0'}>,\n",
       "        <AxesSubplot:title={'center':'1'}>],\n",
       "       [<AxesSubplot:title={'center':'2'}>,\n",
       "        <AxesSubplot:title={'center':'3'}>]], dtype=object)"
      ]
     },
     "execution_count": 12,
     "metadata": {},
     "output_type": "execute_result"
    },
    {
     "data": {
      "image/png": "[encoded data removed]",
      "text/plain": [
       "<Figure size 720x720 with 4 Axes>"
      ]
     },
     "metadata": {
      "needs_background": "light"
     },
     "output_type": "display_data"
    }
   ],
   "source": [
    "# scaling the X columns.\n",
    "from sklearn.preprocessing import StandardScaler\n",
    "ss = StandardScaler()\n",
    "X = data_frame.drop('Titles', axis=1)\n",
    "y = data_frame['Titles']\n",
    "\n",
    "X = ss.fit_transform(X)\n",
    "pd.DataFrame(X).hist(figsize=[10,10])"
   ]
  },
  {
   "cell_type": "code",
   "execution_count": 13,
   "id": "609742c9",
   "metadata": {
    "execution": {
     "iopub.execute_input": "2021-11-04T10:02:30.539129Z",
     "iopub.status.busy": "2021-11-04T10:02:30.538091Z",
     "iopub.status.idle": "2021-11-04T10:02:30.707437Z",
     "shell.execute_reply": "2021-11-04T10:02:30.706852Z",
     "shell.execute_reply.started": "2021-11-04T09:53:33.869480Z"
    },
    "papermill": {
     "duration": 0.200423,
     "end_time": "2021-11-04T10:02:30.707580",
     "exception": false,
     "start_time": "2021-11-04T10:02:30.507157",
     "status": "completed"
    },
    "tags": []
   },
   "outputs": [],
   "source": [
    "# Will make a seperate Variable for PCA to see how better is our predictions\n",
    "from sklearn.decomposition import PCA\n",
    "pca = PCA(n_components=2)\n",
    "X_pca = pca.fit_transform(X)"
   ]
  },
  {
   "cell_type": "markdown",
   "id": "396b2ea7",
   "metadata": {
    "papermill": {
     "duration": 0.027337,
     "end_time": "2021-11-04T10:02:30.764247",
     "exception": false,
     "start_time": "2021-11-04T10:02:30.736910",
     "status": "completed"
    },
    "tags": []
   },
   "source": [
    "# 4. Model Selection"
   ]
  },
  {
   "cell_type": "code",
   "execution_count": 14,
   "id": "e25becdc",
   "metadata": {
    "execution": {
     "iopub.execute_input": "2021-11-04T10:02:30.827494Z",
     "iopub.status.busy": "2021-11-04T10:02:30.826425Z",
     "iopub.status.idle": "2021-11-04T10:02:30.828570Z",
     "shell.execute_reply": "2021-11-04T10:02:30.829200Z",
     "shell.execute_reply.started": "2021-11-04T09:56:19.211173Z"
    },
    "papermill": {
     "duration": 0.037456,
     "end_time": "2021-11-04T10:02:30.829380",
     "exception": false,
     "start_time": "2021-11-04T10:02:30.791924",
     "status": "completed"
    },
    "tags": []
   },
   "outputs": [],
   "source": [
    "from numpy import dot\n",
    "from numpy.linalg import norm\n",
    "\n",
    "def cosine_sim(query, index):\n",
    "    cosine =[]\n",
    "    query = np.array(X[query,:])\n",
    "    for i in range(len(index[0])):\n",
    "        temp = np.array(X[index[0][i],:])\n",
    "        score = dot(query, temp)/(norm(query)*norm(temp))\n",
    "        cosine.append(score)\n",
    "    return cosine"
   ]
  },
  {
   "cell_type": "markdown",
   "id": "33fa0916",
   "metadata": {
    "papermill": {
     "duration": 0.027603,
     "end_time": "2021-11-04T10:02:30.884495",
     "exception": false,
     "start_time": "2021-11-04T10:02:30.856892",
     "status": "completed"
    },
    "tags": []
   },
   "source": [
    "## 4.1 Without PCA"
   ]
  },
  {
   "cell_type": "code",
   "execution_count": 15,
   "id": "e66dd4c4",
   "metadata": {
    "execution": {
     "iopub.execute_input": "2021-11-04T10:02:30.946062Z",
     "iopub.status.busy": "2021-11-04T10:02:30.942464Z",
     "iopub.status.idle": "2021-11-04T10:02:30.987102Z",
     "shell.execute_reply": "2021-11-04T10:02:30.986394Z",
     "shell.execute_reply.started": "2021-11-04T09:57:04.681743Z"
    },
    "papermill": {
     "duration": 0.075166,
     "end_time": "2021-11-04T10:02:30.987269",
     "exception": false,
     "start_time": "2021-11-04T10:02:30.912103",
     "status": "completed"
    },
    "tags": []
   },
   "outputs": [],
   "source": [
    "from sklearn.neighbors import NearestNeighbors\n",
    "\n",
    "NN = NearestNeighbors(metric='cosine', algorithm='brute')\n",
    "NN.fit(X)\n",
    "\n",
    "query = np.random.choice(X.shape[0])\n",
    "\n",
    "# need to reshape the data to follow a find he nearest neighbours\n",
    "distances, index = NN.kneighbors(X = X[query,:].reshape(1, -1),n_neighbors=6)\n",
    "cosine = cosine_sim(query, index)"
   ]
  },
  {
   "cell_type": "code",
   "execution_count": 16,
   "id": "016c361f",
   "metadata": {
    "execution": {
     "iopub.execute_input": "2021-11-04T10:02:31.047635Z",
     "iopub.status.busy": "2021-11-04T10:02:31.046589Z",
     "iopub.status.idle": "2021-11-04T10:02:31.055578Z",
     "shell.execute_reply": "2021-11-04T10:02:31.056211Z",
     "shell.execute_reply.started": "2021-11-04T09:58:23.402095Z"
    },
    "papermill": {
     "duration": 0.04104,
     "end_time": "2021-11-04T10:02:31.056398",
     "exception": false,
     "start_time": "2021-11-04T10:02:31.015358",
     "status": "completed"
    },
    "tags": []
   },
   "outputs": [
    {
     "name": "stdout",
     "output_type": "stream",
     "text": [
      "Recomendation for Ozark:\n",
      "\n",
      "1: Ozark, with distance of 0.0000:\n",
      "2: The Witcher, with distance of 0.0195:\n",
      "3: Mindhunter, with distance of 0.0407:\n",
      "4: Marvel's Daredevil, with distance of 0.0451:\n",
      "5: Hannibal, with distance of 0.0475:\n"
     ]
    }
   ],
   "source": [
    "# Print the recomendations and their distances\n",
    "for i in range(len(index.flatten())):\n",
    "    if(i==0):\n",
    "        print('Recomendation for {0}:'.format(data_frame.iloc[query]['Titles']), end='\\n\\n')\n",
    "    else:\n",
    "        print('{}: {}, with distance of {:.4f}:'.format(i, data_frame.iloc[index.flatten()[i]]['Titles'], \n",
    "                                                       distances.flatten()[i]))"
   ]
  },
  {
   "cell_type": "code",
   "execution_count": 17,
   "id": "cd86d545",
   "metadata": {
    "execution": {
     "iopub.execute_input": "2021-11-04T10:02:31.116026Z",
     "iopub.status.busy": "2021-11-04T10:02:31.115395Z",
     "iopub.status.idle": "2021-11-04T10:02:31.124794Z",
     "shell.execute_reply": "2021-11-04T10:02:31.124254Z",
     "shell.execute_reply.started": "2021-11-04T09:59:54.914046Z"
    },
    "papermill": {
     "duration": 0.039775,
     "end_time": "2021-11-04T10:02:31.124942",
     "exception": false,
     "start_time": "2021-11-04T10:02:31.085167",
     "status": "completed"
    },
    "tags": []
   },
   "outputs": [
    {
     "name": "stdout",
     "output_type": "stream",
     "text": [
      "Recomendation for Ozark:\n",
      "\n",
      "1: Ozark, with similarity of 100.00%\n",
      "2: The Witcher, with similarity of 98.05%\n",
      "3: Mindhunter, with similarity of 95.93%\n",
      "4: Marvel's Daredevil, with similarity of 95.49%\n",
      "5: Hannibal, with similarity of 95.25%\n"
     ]
    }
   ],
   "source": [
    "# Print the recomendations and their similarity\n",
    "for i in range(len(index.flatten())):\n",
    "    if(i==0):\n",
    "        print('Recomendation for {0}:'.format(data_frame.iloc[query]['Titles']), end='\\n\\n')\n",
    "    else:\n",
    "        print('{}: {}, with similarity of {:.2f}%'.format(i, data_frame.iloc[index.flatten()[i]]['Titles'], \n",
    "                                                       cosine[i]*100))"
   ]
  },
  {
   "cell_type": "markdown",
   "id": "dc9348cf",
   "metadata": {
    "papermill": {
     "duration": 0.028754,
     "end_time": "2021-11-04T10:02:31.183894",
     "exception": false,
     "start_time": "2021-11-04T10:02:31.155140",
     "status": "completed"
    },
    "tags": []
   },
   "source": [
    "## 4.2 With PCA"
   ]
  },
  {
   "cell_type": "code",
   "execution_count": 18,
   "id": "4dc3d868",
   "metadata": {
    "execution": {
     "iopub.execute_input": "2021-11-04T10:02:31.244641Z",
     "iopub.status.busy": "2021-11-04T10:02:31.244011Z",
     "iopub.status.idle": "2021-11-04T10:02:31.250344Z",
     "shell.execute_reply": "2021-11-04T10:02:31.250967Z",
     "shell.execute_reply.started": "2021-11-04T10:00:51.474177Z"
    },
    "papermill": {
     "duration": 0.037883,
     "end_time": "2021-11-04T10:02:31.251144",
     "exception": false,
     "start_time": "2021-11-04T10:02:31.213261",
     "status": "completed"
    },
    "tags": []
   },
   "outputs": [],
   "source": [
    "NN = NearestNeighbors(metric='cosine', algorithm='brute')\n",
    "NN.fit(X_pca)\n",
    "\n",
    "query = np.random.choice(X.shape[0])\n",
    "\n",
    "# need to reshape the data to follow a find he nearest neighbours\n",
    "distances, index = NN.kneighbors(X = X_pca[query,:].reshape(1, -1),n_neighbors=6)\n",
    "cosine = cosine_sim(query, index)"
   ]
  },
  {
   "cell_type": "code",
   "execution_count": 19,
   "id": "107fe421",
   "metadata": {
    "execution": {
     "iopub.execute_input": "2021-11-04T10:02:31.311008Z",
     "iopub.status.busy": "2021-11-04T10:02:31.310337Z",
     "iopub.status.idle": "2021-11-04T10:02:31.318875Z",
     "shell.execute_reply": "2021-11-04T10:02:31.319407Z",
     "shell.execute_reply.started": "2021-11-04T10:01:07.276817Z"
    },
    "papermill": {
     "duration": 0.039771,
     "end_time": "2021-11-04T10:02:31.319571",
     "exception": false,
     "start_time": "2021-11-04T10:02:31.279800",
     "status": "completed"
    },
    "tags": []
   },
   "outputs": [
    {
     "name": "stdout",
     "output_type": "stream",
     "text": [
      "Recomendation for Parks and Recreation:\n",
      "\n",
      "1: Lost, with distance of 0.0000:\n",
      "2: Supernatural, with distance of 0.0004:\n",
      "3: Attack on Titan, with distance of 0.0015:\n",
      "4: Mad Men, with distance of 0.0074:\n",
      "5: Fringe, with distance of 0.0085:\n"
     ]
    }
   ],
   "source": [
    "# Print the recomendations and their distances\n",
    "for i in range(len(index.flatten())):\n",
    "    if(i==0):\n",
    "        print('Recomendation for {0}:'.format(data_frame.iloc[query]['Titles']), end='\\n\\n')\n",
    "    else:\n",
    "        print('{}: {}, with distance of {:.4f}:'.format(i, data_frame.iloc[index.flatten()[i]]['Titles'], \n",
    "                                                       distances.flatten()[i]))"
   ]
  },
  {
   "cell_type": "code",
   "execution_count": 20,
   "id": "e6ea60de",
   "metadata": {
    "execution": {
     "iopub.execute_input": "2021-11-04T10:02:31.380393Z",
     "iopub.status.busy": "2021-11-04T10:02:31.379651Z",
     "iopub.status.idle": "2021-11-04T10:02:31.388238Z",
     "shell.execute_reply": "2021-11-04T10:02:31.388812Z",
     "shell.execute_reply.started": "2021-11-04T10:01:24.292571Z"
    },
    "papermill": {
     "duration": 0.040882,
     "end_time": "2021-11-04T10:02:31.388991",
     "exception": false,
     "start_time": "2021-11-04T10:02:31.348109",
     "status": "completed"
    },
    "tags": []
   },
   "outputs": [
    {
     "name": "stdout",
     "output_type": "stream",
     "text": [
      "Recomendation for Parks and Recreation:\n",
      "\n",
      "1: Lost, with similarity of 84.22%\n",
      "2: Supernatural, with similarity of 89.78%\n",
      "3: Attack on Titan, with similarity of 84.23%\n",
      "4: Mad Men, with similarity of 98.00%\n",
      "5: Fringe, with similarity of 94.24%\n"
     ]
    }
   ],
   "source": [
    "# Print the recomendations and their similarity\n",
    "for i in range(len(index.flatten())):\n",
    "    if(i==0):\n",
    "        print('Recomendation for {0}:'.format(data_frame.iloc[query]['Titles']), end='\\n\\n')\n",
    "    else:\n",
    "        print('{}: {}, with similarity of {:.2f}%'.format(i, data_frame.iloc[index.flatten()[i]]['Titles'], \n",
    "                                                       cosine[i]*100))"
   ]
  }
 ],
 "metadata": {
  "kernelspec": {
   "display_name": "Python 3",
   "language": "python",
   "name": "python3"
  },
  "language_info": {
   "codemirror_mode": {
    "name": "ipython",
    "version": 3
   },
   "file_extension": ".py",
   "mimetype": "text/x-python",
   "name": "python",
   "nbconvert_exporter": "python",
   "pygments_lexer": "ipython3",
   "version": "3.8.8"
  },
  "papermill": {
   "default_parameters": {},
   "duration": 15.03955,
   "end_time": "2021-11-04T10:02:32.128694",
   "environment_variables": {},
   "exception": null,
   "input_path": "__notebook__.ipynb",
   "output_path": "__notebook__.ipynb",
   "parameters": {},
   "start_time": "2021-11-04T10:02:17.089144",
   "version": "2.3.3"
  }
 },
 "nbformat": 4,
 "nbformat_minor": 5
}
