{
 "cells": [
  {
   "cell_type": "code",
   "execution_count": 1,
   "id": "74f4e7cf",
   "metadata": {
    "_cell_guid": "b1076dfc-b9ad-4769-8c92-a6c4dae69d19",
    "_uuid": "8f2839f25d086af736a60e9eeb907d3b93b6e0e5",
    "execution": {
     "iopub.execute_input": "2021-11-02T18:19:13.438228Z",
     "iopub.status.busy": "2021-11-02T18:19:13.437243Z",
     "iopub.status.idle": "2021-11-02T18:19:13.453231Z",
     "shell.execute_reply": "2021-11-02T18:19:13.452235Z",
     "shell.execute_reply.started": "2021-11-02T18:18:45.562798Z"
    },
    "papermill": {
     "duration": 0.045526,
     "end_time": "2021-11-02T18:19:13.453455",
     "exception": false,
     "start_time": "2021-11-02T18:19:13.407929",
     "status": "completed"
    },
    "tags": []
   },
   "outputs": [
    {
     "name": "stdout",
     "output_type": "stream",
     "text": [
      "/kaggle/input/glass/glass.csv\n"
     ]
    }
   ],
   "source": [
    "# This Python 3 environment comes with many helpful analytics libraries installed\n",
    "# It is defined by the kaggle/python Docker image: https://github.com/kaggle/docker-python\n",
    "# For example, here's several helpful packages to load\n",
    "\n",
    "import numpy as np # linear algebra\n",
    "import pandas as pd # data processing, CSV file I/O (e.g. pd.read_csv)\n",
    "\n",
    "# Input data files are available in the read-only \"../input/\" directory\n",
    "# For example, running this (by clicking run or pressing Shift+Enter) will list all files under the input directory\n",
    "\n",
    "import os\n",
    "for dirname, _, filenames in os.walk('/kaggle/input'):\n",
    "    for filename in filenames:\n",
    "        print(os.path.join(dirname, filename))\n",
    "\n",
    "# You can write up to 20GB to the current directory (/kaggle/working/) that gets preserved as output when you create a version using \"Save & Run All\" \n",
    "# You can also write temporary files to /kaggle/temp/, but they won't be saved outside of the current session"
   ]
  },
  {
   "cell_type": "code",
   "execution_count": 2,
   "id": "3f89364f",
   "metadata": {
    "execution": {
     "iopub.execute_input": "2021-11-02T18:19:13.489569Z",
     "iopub.status.busy": "2021-11-02T18:19:13.488823Z",
     "iopub.status.idle": "2021-11-02T18:19:14.839453Z",
     "shell.execute_reply": "2021-11-02T18:19:14.838782Z",
     "shell.execute_reply.started": "2021-11-02T18:18:45.599573Z"
    },
    "papermill": {
     "duration": 1.370279,
     "end_time": "2021-11-02T18:19:14.839646",
     "exception": false,
     "start_time": "2021-11-02T18:19:13.469367",
     "status": "completed"
    },
    "tags": []
   },
   "outputs": [],
   "source": [
    "import pandas as pd\n",
    "import numpy as np\n",
    "import seaborn as sns\n",
    "from sklearn.preprocessing import MinMaxScaler\n",
    "from sklearn.decomposition import PCA\n",
    "from sklearn.model_selection import train_test_split\n",
    "from sklearn.pipeline import Pipeline\n",
    "\n",
    "# models\n",
    "from sklearn.neighbors import KNeighborsClassifier"
   ]
  },
  {
   "cell_type": "markdown",
   "id": "18027ebe",
   "metadata": {
    "papermill": {
     "duration": 0.015049,
     "end_time": "2021-11-02T18:19:14.872628",
     "exception": false,
     "start_time": "2021-11-02T18:19:14.857579",
     "status": "completed"
    },
    "tags": []
   },
   "source": [
    "# 1. Importing data"
   ]
  },
  {
   "cell_type": "code",
   "execution_count": 3,
   "id": "a63b9194",
   "metadata": {
    "execution": {
     "iopub.execute_input": "2021-11-02T18:19:14.912665Z",
     "iopub.status.busy": "2021-11-02T18:19:14.911775Z",
     "iopub.status.idle": "2021-11-02T18:19:14.961551Z",
     "shell.execute_reply": "2021-11-02T18:19:14.962333Z",
     "shell.execute_reply.started": "2021-11-02T18:18:46.894704Z"
    },
    "papermill": {
     "duration": 0.070274,
     "end_time": "2021-11-02T18:19:14.962560",
     "exception": false,
     "start_time": "2021-11-02T18:19:14.892286",
     "status": "completed"
    },
    "tags": []
   },
   "outputs": [
    {
     "name": "stdout",
     "output_type": "stream",
     "text": [
      "Shape:  (214, 10)\n",
      "\n"
     ]
    },
    {
     "data": {
      "text/html": [
       "<div>\n",
       "<style scoped>\n",
       "    .dataframe tbody tr th:only-of-type {\n",
       "        vertical-align: middle;\n",
       "    }\n",
       "\n",
       "    .dataframe tbody tr th {\n",
       "        vertical-align: top;\n",
       "    }\n",
       "\n",
       "    .dataframe thead th {\n",
       "        text-align: right;\n",
       "    }\n",
       "</style>\n",
       "<table border=\"1\" class=\"dataframe\">\n",
       "  <thead>\n",
       "    <tr style=\"text-align: right;\">\n",
       "      <th></th>\n",
       "      <th>RI</th>\n",
       "      <th>Na</th>\n",
       "      <th>Mg</th>\n",
       "      <th>Al</th>\n",
       "      <th>Si</th>\n",
       "      <th>K</th>\n",
       "      <th>Ca</th>\n",
       "      <th>Ba</th>\n",
       "      <th>Fe</th>\n",
       "      <th>Type</th>\n",
       "    </tr>\n",
       "  </thead>\n",
       "  <tbody>\n",
       "    <tr>\n",
       "      <th>0</th>\n",
       "      <td>1.52101</td>\n",
       "      <td>13.64</td>\n",
       "      <td>4.49</td>\n",
       "      <td>1.10</td>\n",
       "      <td>71.78</td>\n",
       "      <td>0.06</td>\n",
       "      <td>8.75</td>\n",
       "      <td>0.0</td>\n",
       "      <td>0.0</td>\n",
       "      <td>1</td>\n",
       "    </tr>\n",
       "    <tr>\n",
       "      <th>1</th>\n",
       "      <td>1.51761</td>\n",
       "      <td>13.89</td>\n",
       "      <td>3.60</td>\n",
       "      <td>1.36</td>\n",
       "      <td>72.73</td>\n",
       "      <td>0.48</td>\n",
       "      <td>7.83</td>\n",
       "      <td>0.0</td>\n",
       "      <td>0.0</td>\n",
       "      <td>1</td>\n",
       "    </tr>\n",
       "    <tr>\n",
       "      <th>2</th>\n",
       "      <td>1.51618</td>\n",
       "      <td>13.53</td>\n",
       "      <td>3.55</td>\n",
       "      <td>1.54</td>\n",
       "      <td>72.99</td>\n",
       "      <td>0.39</td>\n",
       "      <td>7.78</td>\n",
       "      <td>0.0</td>\n",
       "      <td>0.0</td>\n",
       "      <td>1</td>\n",
       "    </tr>\n",
       "    <tr>\n",
       "      <th>3</th>\n",
       "      <td>1.51766</td>\n",
       "      <td>13.21</td>\n",
       "      <td>3.69</td>\n",
       "      <td>1.29</td>\n",
       "      <td>72.61</td>\n",
       "      <td>0.57</td>\n",
       "      <td>8.22</td>\n",
       "      <td>0.0</td>\n",
       "      <td>0.0</td>\n",
       "      <td>1</td>\n",
       "    </tr>\n",
       "    <tr>\n",
       "      <th>4</th>\n",
       "      <td>1.51742</td>\n",
       "      <td>13.27</td>\n",
       "      <td>3.62</td>\n",
       "      <td>1.24</td>\n",
       "      <td>73.08</td>\n",
       "      <td>0.55</td>\n",
       "      <td>8.07</td>\n",
       "      <td>0.0</td>\n",
       "      <td>0.0</td>\n",
       "      <td>1</td>\n",
       "    </tr>\n",
       "  </tbody>\n",
       "</table>\n",
       "</div>"
      ],
      "text/plain": [
       "        RI     Na    Mg    Al     Si     K    Ca   Ba   Fe  Type\n",
       "0  1.52101  13.64  4.49  1.10  71.78  0.06  8.75  0.0  0.0     1\n",
       "1  1.51761  13.89  3.60  1.36  72.73  0.48  7.83  0.0  0.0     1\n",
       "2  1.51618  13.53  3.55  1.54  72.99  0.39  7.78  0.0  0.0     1\n",
       "3  1.51766  13.21  3.69  1.29  72.61  0.57  8.22  0.0  0.0     1\n",
       "4  1.51742  13.27  3.62  1.24  73.08  0.55  8.07  0.0  0.0     1"
      ]
     },
     "execution_count": 3,
     "metadata": {},
     "output_type": "execute_result"
    }
   ],
   "source": [
    "main_df = pd.read_csv('/kaggle/input/glass/glass.csv')\n",
    "\n",
    "print('Shape: ',main_df.shape,end='\\n\\n')\n",
    "main_df.head()"
   ]
  },
  {
   "cell_type": "code",
   "execution_count": 4,
   "id": "2374e19a",
   "metadata": {
    "execution": {
     "iopub.execute_input": "2021-11-02T18:19:15.004205Z",
     "iopub.status.busy": "2021-11-02T18:19:15.003469Z",
     "iopub.status.idle": "2021-11-02T18:19:15.025567Z",
     "shell.execute_reply": "2021-11-02T18:19:15.026067Z",
     "shell.execute_reply.started": "2021-11-02T18:18:46.934735Z"
    },
    "papermill": {
     "duration": 0.04129,
     "end_time": "2021-11-02T18:19:15.026295",
     "exception": false,
     "start_time": "2021-11-02T18:19:14.985005",
     "status": "completed"
    },
    "tags": []
   },
   "outputs": [
    {
     "name": "stdout",
     "output_type": "stream",
     "text": [
      "<class 'pandas.core.frame.DataFrame'>\n",
      "RangeIndex: 214 entries, 0 to 213\n",
      "Data columns (total 10 columns):\n",
      " #   Column  Non-Null Count  Dtype  \n",
      "---  ------  --------------  -----  \n",
      " 0   RI      214 non-null    float64\n",
      " 1   Na      214 non-null    float64\n",
      " 2   Mg      214 non-null    float64\n",
      " 3   Al      214 non-null    float64\n",
      " 4   Si      214 non-null    float64\n",
      " 5   K       214 non-null    float64\n",
      " 6   Ca      214 non-null    float64\n",
      " 7   Ba      214 non-null    float64\n",
      " 8   Fe      214 non-null    float64\n",
      " 9   Type    214 non-null    int64  \n",
      "dtypes: float64(9), int64(1)\n",
      "memory usage: 16.8 KB\n"
     ]
    }
   ],
   "source": [
    "main_df.info()"
   ]
  },
  {
   "cell_type": "code",
   "execution_count": 5,
   "id": "6f28822d",
   "metadata": {
    "execution": {
     "iopub.execute_input": "2021-11-02T18:19:15.062970Z",
     "iopub.status.busy": "2021-11-02T18:19:15.062312Z",
     "iopub.status.idle": "2021-11-02T18:19:15.108356Z",
     "shell.execute_reply": "2021-11-02T18:19:15.107763Z",
     "shell.execute_reply.started": "2021-11-02T18:18:46.959362Z"
    },
    "papermill": {
     "duration": 0.065598,
     "end_time": "2021-11-02T18:19:15.108530",
     "exception": false,
     "start_time": "2021-11-02T18:19:15.042932",
     "status": "completed"
    },
    "tags": []
   },
   "outputs": [
    {
     "data": {
      "text/html": [
       "<div>\n",
       "<style scoped>\n",
       "    .dataframe tbody tr th:only-of-type {\n",
       "        vertical-align: middle;\n",
       "    }\n",
       "\n",
       "    .dataframe tbody tr th {\n",
       "        vertical-align: top;\n",
       "    }\n",
       "\n",
       "    .dataframe thead th {\n",
       "        text-align: right;\n",
       "    }\n",
       "</style>\n",
       "<table border=\"1\" class=\"dataframe\">\n",
       "  <thead>\n",
       "    <tr style=\"text-align: right;\">\n",
       "      <th></th>\n",
       "      <th>RI</th>\n",
       "      <th>Na</th>\n",
       "      <th>Mg</th>\n",
       "      <th>Al</th>\n",
       "      <th>Si</th>\n",
       "      <th>K</th>\n",
       "      <th>Ca</th>\n",
       "      <th>Ba</th>\n",
       "      <th>Fe</th>\n",
       "      <th>Type</th>\n",
       "    </tr>\n",
       "  </thead>\n",
       "  <tbody>\n",
       "    <tr>\n",
       "      <th>count</th>\n",
       "      <td>214.000000</td>\n",
       "      <td>214.000000</td>\n",
       "      <td>214.000000</td>\n",
       "      <td>214.000000</td>\n",
       "      <td>214.000000</td>\n",
       "      <td>214.000000</td>\n",
       "      <td>214.000000</td>\n",
       "      <td>214.000000</td>\n",
       "      <td>214.000000</td>\n",
       "      <td>214.000000</td>\n",
       "    </tr>\n",
       "    <tr>\n",
       "      <th>mean</th>\n",
       "      <td>1.518365</td>\n",
       "      <td>13.407850</td>\n",
       "      <td>2.684533</td>\n",
       "      <td>1.444907</td>\n",
       "      <td>72.650935</td>\n",
       "      <td>0.497056</td>\n",
       "      <td>8.956963</td>\n",
       "      <td>0.175047</td>\n",
       "      <td>0.057009</td>\n",
       "      <td>2.780374</td>\n",
       "    </tr>\n",
       "    <tr>\n",
       "      <th>std</th>\n",
       "      <td>0.003037</td>\n",
       "      <td>0.816604</td>\n",
       "      <td>1.442408</td>\n",
       "      <td>0.499270</td>\n",
       "      <td>0.774546</td>\n",
       "      <td>0.652192</td>\n",
       "      <td>1.423153</td>\n",
       "      <td>0.497219</td>\n",
       "      <td>0.097439</td>\n",
       "      <td>2.103739</td>\n",
       "    </tr>\n",
       "    <tr>\n",
       "      <th>min</th>\n",
       "      <td>1.511150</td>\n",
       "      <td>10.730000</td>\n",
       "      <td>0.000000</td>\n",
       "      <td>0.290000</td>\n",
       "      <td>69.810000</td>\n",
       "      <td>0.000000</td>\n",
       "      <td>5.430000</td>\n",
       "      <td>0.000000</td>\n",
       "      <td>0.000000</td>\n",
       "      <td>1.000000</td>\n",
       "    </tr>\n",
       "    <tr>\n",
       "      <th>25%</th>\n",
       "      <td>1.516523</td>\n",
       "      <td>12.907500</td>\n",
       "      <td>2.115000</td>\n",
       "      <td>1.190000</td>\n",
       "      <td>72.280000</td>\n",
       "      <td>0.122500</td>\n",
       "      <td>8.240000</td>\n",
       "      <td>0.000000</td>\n",
       "      <td>0.000000</td>\n",
       "      <td>1.000000</td>\n",
       "    </tr>\n",
       "    <tr>\n",
       "      <th>50%</th>\n",
       "      <td>1.517680</td>\n",
       "      <td>13.300000</td>\n",
       "      <td>3.480000</td>\n",
       "      <td>1.360000</td>\n",
       "      <td>72.790000</td>\n",
       "      <td>0.555000</td>\n",
       "      <td>8.600000</td>\n",
       "      <td>0.000000</td>\n",
       "      <td>0.000000</td>\n",
       "      <td>2.000000</td>\n",
       "    </tr>\n",
       "    <tr>\n",
       "      <th>75%</th>\n",
       "      <td>1.519157</td>\n",
       "      <td>13.825000</td>\n",
       "      <td>3.600000</td>\n",
       "      <td>1.630000</td>\n",
       "      <td>73.087500</td>\n",
       "      <td>0.610000</td>\n",
       "      <td>9.172500</td>\n",
       "      <td>0.000000</td>\n",
       "      <td>0.100000</td>\n",
       "      <td>3.000000</td>\n",
       "    </tr>\n",
       "    <tr>\n",
       "      <th>max</th>\n",
       "      <td>1.533930</td>\n",
       "      <td>17.380000</td>\n",
       "      <td>4.490000</td>\n",
       "      <td>3.500000</td>\n",
       "      <td>75.410000</td>\n",
       "      <td>6.210000</td>\n",
       "      <td>16.190000</td>\n",
       "      <td>3.150000</td>\n",
       "      <td>0.510000</td>\n",
       "      <td>7.000000</td>\n",
       "    </tr>\n",
       "  </tbody>\n",
       "</table>\n",
       "</div>"
      ],
      "text/plain": [
       "               RI          Na          Mg          Al          Si           K  \\\n",
       "count  214.000000  214.000000  214.000000  214.000000  214.000000  214.000000   \n",
       "mean     1.518365   13.407850    2.684533    1.444907   72.650935    0.497056   \n",
       "std      0.003037    0.816604    1.442408    0.499270    0.774546    0.652192   \n",
       "min      1.511150   10.730000    0.000000    0.290000   69.810000    0.000000   \n",
       "25%      1.516523   12.907500    2.115000    1.190000   72.280000    0.122500   \n",
       "50%      1.517680   13.300000    3.480000    1.360000   72.790000    0.555000   \n",
       "75%      1.519157   13.825000    3.600000    1.630000   73.087500    0.610000   \n",
       "max      1.533930   17.380000    4.490000    3.500000   75.410000    6.210000   \n",
       "\n",
       "               Ca          Ba          Fe        Type  \n",
       "count  214.000000  214.000000  214.000000  214.000000  \n",
       "mean     8.956963    0.175047    0.057009    2.780374  \n",
       "std      1.423153    0.497219    0.097439    2.103739  \n",
       "min      5.430000    0.000000    0.000000    1.000000  \n",
       "25%      8.240000    0.000000    0.000000    1.000000  \n",
       "50%      8.600000    0.000000    0.000000    2.000000  \n",
       "75%      9.172500    0.000000    0.100000    3.000000  \n",
       "max     16.190000    3.150000    0.510000    7.000000  "
      ]
     },
     "execution_count": 5,
     "metadata": {},
     "output_type": "execute_result"
    }
   ],
   "source": [
    "main_df.describe()"
   ]
  },
  {
   "cell_type": "code",
   "execution_count": 6,
   "id": "7e7c6ea4",
   "metadata": {
    "execution": {
     "iopub.execute_input": "2021-11-02T18:19:15.145614Z",
     "iopub.status.busy": "2021-11-02T18:19:15.144598Z",
     "iopub.status.idle": "2021-11-02T18:19:15.623063Z",
     "shell.execute_reply": "2021-11-02T18:19:15.622439Z",
     "shell.execute_reply.started": "2021-11-02T18:18:47.002021Z"
    },
    "papermill": {
     "duration": 0.497932,
     "end_time": "2021-11-02T18:19:15.623227",
     "exception": false,
     "start_time": "2021-11-02T18:19:15.125295",
     "status": "completed"
    },
    "tags": []
   },
   "outputs": [
    {
     "data": {
      "text/plain": [
       "<AxesSubplot:xlabel='RI', ylabel='Na'>"
      ]
     },
     "execution_count": 6,
     "metadata": {},
     "output_type": "execute_result"
    },
    {
     "data": {
      "image/png": "[encoded data removed]",
      "text/plain": [
       "<Figure size 432x288 with 1 Axes>"
      ]
     },
     "metadata": {
      "needs_background": "light"
     },
     "output_type": "display_data"
    }
   ],
   "source": [
    "sns.scatterplot(x=main_df['RI'], y=main_df['Na'], hue=main_df['Type'])"
   ]
  },
  {
   "cell_type": "markdown",
   "id": "b1990fcb",
   "metadata": {
    "papermill": {
     "duration": 0.017464,
     "end_time": "2021-11-02T18:19:15.658244",
     "exception": false,
     "start_time": "2021-11-02T18:19:15.640780",
     "status": "completed"
    },
    "tags": []
   },
   "source": [
    "# 2. Data Transformation"
   ]
  },
  {
   "cell_type": "code",
   "execution_count": 7,
   "id": "976db084",
   "metadata": {
    "execution": {
     "iopub.execute_input": "2021-11-02T18:19:15.702010Z",
     "iopub.status.busy": "2021-11-02T18:19:15.699513Z",
     "iopub.status.idle": "2021-11-02T18:19:15.704692Z",
     "shell.execute_reply": "2021-11-02T18:19:15.704061Z",
     "shell.execute_reply.started": "2021-11-02T18:18:47.484306Z"
    },
    "papermill": {
     "duration": 0.029211,
     "end_time": "2021-11-02T18:19:15.704831",
     "exception": false,
     "start_time": "2021-11-02T18:19:15.675620",
     "status": "completed"
    },
    "tags": []
   },
   "outputs": [],
   "source": [
    "# from sklearn.preprocessing import MinMaxScaler\n",
    "min_max = MinMaxScaler()\n",
    "min_max.fit(main_df)\n",
    "scaled_df = min_max.transform(main_df)"
   ]
  },
  {
   "cell_type": "code",
   "execution_count": 8,
   "id": "2a57aebf",
   "metadata": {
    "execution": {
     "iopub.execute_input": "2021-11-02T18:19:15.742898Z",
     "iopub.status.busy": "2021-11-02T18:19:15.742276Z",
     "iopub.status.idle": "2021-11-02T18:19:15.748937Z",
     "shell.execute_reply": "2021-11-02T18:19:15.748294Z",
     "shell.execute_reply.started": "2021-11-02T18:18:47.494099Z"
    },
    "papermill": {
     "duration": 0.026594,
     "end_time": "2021-11-02T18:19:15.749073",
     "exception": false,
     "start_time": "2021-11-02T18:19:15.722479",
     "status": "completed"
    },
    "tags": []
   },
   "outputs": [
    {
     "data": {
      "text/plain": [
       "array([[0.43283582, 0.43759398, 1.        , ..., 0.        , 0.        ,\n",
       "        0.        ],\n",
       "       [0.28358209, 0.47518797, 0.80178174, ..., 0.        , 0.        ,\n",
       "        0.        ],\n",
       "       [0.22080773, 0.42105263, 0.79064588, ..., 0.        , 0.        ,\n",
       "        0.        ],\n",
       "       ...,\n",
       "       [0.41703248, 0.54586466, 0.        , ..., 0.52063492, 0.        ,\n",
       "        1.        ],\n",
       "       [0.23529412, 0.54887218, 0.        , ..., 0.4984127 , 0.        ,\n",
       "        1.        ],\n",
       "       [0.26163301, 0.52631579, 0.        , ..., 0.53015873, 0.        ,\n",
       "        1.        ]])"
      ]
     },
     "execution_count": 8,
     "metadata": {},
     "output_type": "execute_result"
    }
   ],
   "source": [
    "scaled_df"
   ]
  },
  {
   "cell_type": "code",
   "execution_count": 9,
   "id": "4c839ab7",
   "metadata": {
    "execution": {
     "iopub.execute_input": "2021-11-02T18:19:15.797310Z",
     "iopub.status.busy": "2021-11-02T18:19:15.796304Z",
     "iopub.status.idle": "2021-11-02T18:19:15.801318Z",
     "shell.execute_reply": "2021-11-02T18:19:15.801915Z",
     "shell.execute_reply.started": "2021-11-02T18:18:47.504967Z"
    },
    "papermill": {
     "duration": 0.03493,
     "end_time": "2021-11-02T18:19:15.802088",
     "exception": false,
     "start_time": "2021-11-02T18:19:15.767158",
     "status": "completed"
    },
    "tags": []
   },
   "outputs": [
    {
     "data": {
      "text/plain": [
       "array([[-0.49203312, -0.05381983],\n",
       "       [-0.34058219, -0.1254387 ],\n",
       "       [-0.3250198 , -0.15904709],\n",
       "       [-0.36908807, -0.0913743 ],\n",
       "       [-0.35809501, -0.10583815]])"
      ]
     },
     "execution_count": 9,
     "metadata": {},
     "output_type": "execute_result"
    }
   ],
   "source": [
    "# from sklearn.decomposition import PCA\n",
    "pca = PCA(n_components=2)\n",
    "pca.fit(scaled_df)\n",
    "x_pca = pca.transform(scaled_df)\n",
    "\n",
    "# printing the first 5 records\n",
    "x_pca[:5]"
   ]
  },
  {
   "cell_type": "code",
   "execution_count": 10,
   "id": "923c385d",
   "metadata": {
    "execution": {
     "iopub.execute_input": "2021-11-02T18:19:15.845482Z",
     "iopub.status.busy": "2021-11-02T18:19:15.844748Z",
     "iopub.status.idle": "2021-11-02T18:19:15.847433Z",
     "shell.execute_reply": "2021-11-02T18:19:15.847918Z",
     "shell.execute_reply.started": "2021-11-02T18:18:47.524398Z"
    },
    "papermill": {
     "duration": 0.027619,
     "end_time": "2021-11-02T18:19:15.848099",
     "exception": false,
     "start_time": "2021-11-02T18:19:15.820480",
     "status": "completed"
    },
    "tags": []
   },
   "outputs": [
    {
     "data": {
      "text/plain": [
       "((214, 10), (214, 2))"
      ]
     },
     "execution_count": 10,
     "metadata": {},
     "output_type": "execute_result"
    }
   ],
   "source": [
    "scaled_df.shape, x_pca.shape"
   ]
  },
  {
   "cell_type": "code",
   "execution_count": 11,
   "id": "d03ab388",
   "metadata": {
    "execution": {
     "iopub.execute_input": "2021-11-02T18:19:15.889071Z",
     "iopub.status.busy": "2021-11-02T18:19:15.888335Z",
     "iopub.status.idle": "2021-11-02T18:19:16.345875Z",
     "shell.execute_reply": "2021-11-02T18:19:16.345353Z",
     "shell.execute_reply.started": "2021-11-02T18:18:47.531567Z"
    },
    "papermill": {
     "duration": 0.47871,
     "end_time": "2021-11-02T18:19:16.346008",
     "exception": false,
     "start_time": "2021-11-02T18:19:15.867298",
     "status": "completed"
    },
    "tags": []
   },
   "outputs": [
    {
     "data": {
      "text/plain": [
       "<AxesSubplot:>"
      ]
     },
     "execution_count": 11,
     "metadata": {},
     "output_type": "execute_result"
    },
    {
     "data": {
      "image/png": "[encoded data removed]",
      "text/plain": [
       "<Figure size 432x288 with 1 Axes>"
      ]
     },
     "metadata": {
      "needs_background": "light"
     },
     "output_type": "display_data"
    }
   ],
   "source": [
    "sns.scatterplot(x=x_pca[:,0], y=x_pca[:,1], hue=main_df['Type'])"
   ]
  },
  {
   "cell_type": "markdown",
   "id": "3213f335",
   "metadata": {
    "papermill": {
     "duration": 0.019499,
     "end_time": "2021-11-02T18:19:16.385913",
     "exception": false,
     "start_time": "2021-11-02T18:19:16.366414",
     "status": "completed"
    },
    "tags": []
   },
   "source": [
    "# 3. Model Implementation"
   ]
  },
  {
   "cell_type": "code",
   "execution_count": 12,
   "id": "a83942a2",
   "metadata": {
    "execution": {
     "iopub.execute_input": "2021-11-02T18:19:16.436290Z",
     "iopub.status.busy": "2021-11-02T18:19:16.434494Z",
     "iopub.status.idle": "2021-11-02T18:19:16.439580Z",
     "shell.execute_reply": "2021-11-02T18:19:16.440205Z",
     "shell.execute_reply.started": "2021-11-02T18:18:47.998252Z"
    },
    "papermill": {
     "duration": 0.034623,
     "end_time": "2021-11-02T18:19:16.440383",
     "exception": false,
     "start_time": "2021-11-02T18:19:16.405760",
     "status": "completed"
    },
    "tags": []
   },
   "outputs": [
    {
     "data": {
      "text/plain": [
       "((171, 9), (43, 9), (171,), (43,))"
      ]
     },
     "execution_count": 12,
     "metadata": {},
     "output_type": "execute_result"
    }
   ],
   "source": [
    "# from sklearn.model_selection import train_test_split\n",
    "\n",
    "X = main_df.drop('Type', axis=1)\n",
    "y = main_df['Type']\n",
    "\n",
    "X_train, X_test, y_train, y_test = train_test_split(X, y, test_size=0.2, random_state = 121)\n",
    "X_train.shape, X_test.shape, y_train.shape, y_test.shape"
   ]
  },
  {
   "cell_type": "code",
   "execution_count": 13,
   "id": "545df729",
   "metadata": {
    "execution": {
     "iopub.execute_input": "2021-11-02T18:19:16.490842Z",
     "iopub.status.busy": "2021-11-02T18:19:16.489842Z",
     "iopub.status.idle": "2021-11-02T18:19:16.497019Z",
     "shell.execute_reply": "2021-11-02T18:19:16.496401Z",
     "shell.execute_reply.started": "2021-11-02T18:18:48.012876Z"
    },
    "papermill": {
     "duration": 0.036554,
     "end_time": "2021-11-02T18:19:16.497204",
     "exception": false,
     "start_time": "2021-11-02T18:19:16.460650",
     "status": "completed"
    },
    "tags": []
   },
   "outputs": [
    {
     "name": "stdout",
     "output_type": "stream",
     "text": [
      "Test Score: 0.5581\n"
     ]
    }
   ],
   "source": [
    "# from sklearn.neighbors import KNeighborsClassifier\n",
    "knn = KNeighborsClassifier(n_neighbors=5,algorithm='brute')\n",
    "knn.fit(X_train,y_train)\n",
    "print('Test Score: {:.4f}'.format(knn.score(X_test,y_test)))"
   ]
  },
  {
   "cell_type": "code",
   "execution_count": 14,
   "id": "ac860915",
   "metadata": {
    "execution": {
     "iopub.execute_input": "2021-11-02T18:19:16.545618Z",
     "iopub.status.busy": "2021-11-02T18:19:16.540837Z",
     "iopub.status.idle": "2021-11-02T18:19:16.555298Z",
     "shell.execute_reply": "2021-11-02T18:19:16.555811Z",
     "shell.execute_reply.started": "2021-11-02T18:18:48.037857Z"
    },
    "papermill": {
     "duration": 0.038178,
     "end_time": "2021-11-02T18:19:16.555981",
     "exception": false,
     "start_time": "2021-11-02T18:19:16.517803",
     "status": "completed"
    },
    "tags": []
   },
   "outputs": [
    {
     "name": "stdout",
     "output_type": "stream",
     "text": [
      "Test Score: 0.5581\n"
     ]
    }
   ],
   "source": [
    "# from sklearn.pipeline import Pipeline\n",
    "\n",
    "pipeline = Pipeline([('MinMaxScaling',MinMaxScaler()),\n",
    "                    ('PCA',PCA(n_components=6)),\n",
    "                    ('KNN',KNeighborsClassifier(n_neighbors=5,algorithm='brute'))])\n",
    "\n",
    "\n",
    "pipeline.fit(X_train,y_train)\n",
    "print('Test Score: {:.4f}'.format(pipeline.score(X_test,y_test)))"
   ]
  }
 ],
 "metadata": {
  "kernelspec": {
   "display_name": "Python 3",
   "language": "python",
   "name": "python3"
  },
  "language_info": {
   "codemirror_mode": {
    "name": "ipython",
    "version": 3
   },
   "file_extension": ".py",
   "mimetype": "text/x-python",
   "name": "python",
   "nbconvert_exporter": "python",
   "pygments_lexer": "ipython3",
   "version": "3.7.10"
  },
  "papermill": {
   "default_parameters": {},
   "duration": 12.986931,
   "end_time": "2021-11-02T18:19:17.287198",
   "environment_variables": {},
   "exception": null,
   "input_path": "__notebook__.ipynb",
   "output_path": "__notebook__.ipynb",
   "parameters": {},
   "start_time": "2021-11-02T18:19:04.300267",
   "version": "2.3.3"
  }
 },
 "nbformat": 4,
 "nbformat_minor": 5
}
