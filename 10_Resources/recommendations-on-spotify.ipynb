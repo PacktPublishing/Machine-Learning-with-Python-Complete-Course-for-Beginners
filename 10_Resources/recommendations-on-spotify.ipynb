{
 "cells": [
  {
   "cell_type": "code",
   "execution_count": 1,
   "id": "1271b681",
   "metadata": {
    "_cell_guid": "b1076dfc-b9ad-4769-8c92-a6c4dae69d19",
    "_uuid": "8f2839f25d086af736a60e9eeb907d3b93b6e0e5",
    "execution": {
     "iopub.execute_input": "2021-11-04T10:14:29.799051Z",
     "iopub.status.busy": "2021-11-04T10:14:29.797452Z",
     "iopub.status.idle": "2021-11-04T10:14:30.784054Z",
     "shell.execute_reply": "2021-11-04T10:14:30.784603Z",
     "shell.execute_reply.started": "2021-11-04T06:53:03.509376Z"
    },
    "papermill": {
     "duration": 1.017822,
     "end_time": "2021-11-04T10:14:30.784951",
     "exception": false,
     "start_time": "2021-11-04T10:14:29.767129",
     "status": "completed"
    },
    "tags": []
   },
   "outputs": [
    {
     "name": "stdout",
     "output_type": "stream",
     "text": [
      "/kaggle/input/spotifyclassification/data.csv\n"
     ]
    }
   ],
   "source": [
    "# This Python 3 environment comes with many helpful analytics libraries installed\n",
    "# It is defined by the kaggle/python Docker image: https://github.com/kaggle/docker-python\n",
    "# For example, here's several helpful packages to load\n",
    "\n",
    "import numpy as np # linear algebra\n",
    "import pandas as pd # data processing, CSV file I/O (e.g. pd.read_csv)\n",
    "import matplotlib.pyplot as plt\n",
    "import seaborn as sns \n",
    "%matplotlib inline\n",
    "\n",
    "\n",
    "# Input data files are available in the read-only \"../input/\" directory\n",
    "# For example, running this (by clicking run or pressing Shift+Enter) will list all files under the input directory\n",
    "\n",
    "import os\n",
    "for dirname, _, filenames in os.walk('/kaggle/input'):\n",
    "    for filename in filenames:\n",
    "        print(os.path.join(dirname, filename))\n",
    "\n",
    "# You can write up to 20GB to the current directory (/kaggle/working/) that gets preserved as output when you create a version using \"Save & Run All\" \n",
    "# You can also write temporary files to /kaggle/temp/, but they won't be saved outside of the current session"
   ]
  },
  {
   "cell_type": "markdown",
   "id": "fcd2cd74",
   "metadata": {
    "papermill": {
     "duration": 0.018461,
     "end_time": "2021-11-04T10:14:30.824336",
     "exception": false,
     "start_time": "2021-11-04T10:14:30.805875",
     "status": "completed"
    },
    "tags": []
   },
   "source": [
    "# Recomendation System Types\n",
    "### Link : https://www.kaggle.com/geomack/spotifyclassification\n",
    "<img src='https://miro.medium.com/max/1064/1*mz9tzP1LjPBhmiWXeHyQkQ.png'>\n",
    "pic credits: miro.medium.com"
   ]
  },
  {
   "cell_type": "code",
   "execution_count": 2,
   "id": "1c7be73e",
   "metadata": {
    "execution": {
     "iopub.execute_input": "2021-11-04T10:14:30.868063Z",
     "iopub.status.busy": "2021-11-04T10:14:30.867356Z",
     "iopub.status.idle": "2021-11-04T10:14:30.927642Z",
     "shell.execute_reply": "2021-11-04T10:14:30.927079Z",
     "shell.execute_reply.started": "2021-11-04T06:53:03.527533Z"
    },
    "papermill": {
     "duration": 0.08442,
     "end_time": "2021-11-04T10:14:30.927782",
     "exception": false,
     "start_time": "2021-11-04T10:14:30.843362",
     "status": "completed"
    },
    "tags": []
   },
   "outputs": [
    {
     "data": {
      "text/html": [
       "<div>\n",
       "<style scoped>\n",
       "    .dataframe tbody tr th:only-of-type {\n",
       "        vertical-align: middle;\n",
       "    }\n",
       "\n",
       "    .dataframe tbody tr th {\n",
       "        vertical-align: top;\n",
       "    }\n",
       "\n",
       "    .dataframe thead th {\n",
       "        text-align: right;\n",
       "    }\n",
       "</style>\n",
       "<table border=\"1\" class=\"dataframe\">\n",
       "  <thead>\n",
       "    <tr style=\"text-align: right;\">\n",
       "      <th></th>\n",
       "      <th>acousticness</th>\n",
       "      <th>danceability</th>\n",
       "      <th>duration_ms</th>\n",
       "      <th>energy</th>\n",
       "      <th>instrumentalness</th>\n",
       "      <th>key</th>\n",
       "      <th>liveness</th>\n",
       "      <th>loudness</th>\n",
       "      <th>mode</th>\n",
       "      <th>speechiness</th>\n",
       "      <th>tempo</th>\n",
       "      <th>time_signature</th>\n",
       "      <th>valence</th>\n",
       "      <th>target</th>\n",
       "      <th>song_title</th>\n",
       "      <th>artist</th>\n",
       "    </tr>\n",
       "  </thead>\n",
       "  <tbody>\n",
       "    <tr>\n",
       "      <th>0</th>\n",
       "      <td>0.0102</td>\n",
       "      <td>0.833</td>\n",
       "      <td>204600</td>\n",
       "      <td>0.434</td>\n",
       "      <td>0.021900</td>\n",
       "      <td>2</td>\n",
       "      <td>0.1650</td>\n",
       "      <td>-8.795</td>\n",
       "      <td>1</td>\n",
       "      <td>0.4310</td>\n",
       "      <td>150.062</td>\n",
       "      <td>4.0</td>\n",
       "      <td>0.286</td>\n",
       "      <td>1</td>\n",
       "      <td>Mask Off</td>\n",
       "      <td>Future</td>\n",
       "    </tr>\n",
       "    <tr>\n",
       "      <th>1</th>\n",
       "      <td>0.1990</td>\n",
       "      <td>0.743</td>\n",
       "      <td>326933</td>\n",
       "      <td>0.359</td>\n",
       "      <td>0.006110</td>\n",
       "      <td>1</td>\n",
       "      <td>0.1370</td>\n",
       "      <td>-10.401</td>\n",
       "      <td>1</td>\n",
       "      <td>0.0794</td>\n",
       "      <td>160.083</td>\n",
       "      <td>4.0</td>\n",
       "      <td>0.588</td>\n",
       "      <td>1</td>\n",
       "      <td>Redbone</td>\n",
       "      <td>Childish Gambino</td>\n",
       "    </tr>\n",
       "    <tr>\n",
       "      <th>2</th>\n",
       "      <td>0.0344</td>\n",
       "      <td>0.838</td>\n",
       "      <td>185707</td>\n",
       "      <td>0.412</td>\n",
       "      <td>0.000234</td>\n",
       "      <td>2</td>\n",
       "      <td>0.1590</td>\n",
       "      <td>-7.148</td>\n",
       "      <td>1</td>\n",
       "      <td>0.2890</td>\n",
       "      <td>75.044</td>\n",
       "      <td>4.0</td>\n",
       "      <td>0.173</td>\n",
       "      <td>1</td>\n",
       "      <td>Xanny Family</td>\n",
       "      <td>Future</td>\n",
       "    </tr>\n",
       "    <tr>\n",
       "      <th>3</th>\n",
       "      <td>0.6040</td>\n",
       "      <td>0.494</td>\n",
       "      <td>199413</td>\n",
       "      <td>0.338</td>\n",
       "      <td>0.510000</td>\n",
       "      <td>5</td>\n",
       "      <td>0.0922</td>\n",
       "      <td>-15.236</td>\n",
       "      <td>1</td>\n",
       "      <td>0.0261</td>\n",
       "      <td>86.468</td>\n",
       "      <td>4.0</td>\n",
       "      <td>0.230</td>\n",
       "      <td>1</td>\n",
       "      <td>Master Of None</td>\n",
       "      <td>Beach House</td>\n",
       "    </tr>\n",
       "    <tr>\n",
       "      <th>4</th>\n",
       "      <td>0.1800</td>\n",
       "      <td>0.678</td>\n",
       "      <td>392893</td>\n",
       "      <td>0.561</td>\n",
       "      <td>0.512000</td>\n",
       "      <td>5</td>\n",
       "      <td>0.4390</td>\n",
       "      <td>-11.648</td>\n",
       "      <td>0</td>\n",
       "      <td>0.0694</td>\n",
       "      <td>174.004</td>\n",
       "      <td>4.0</td>\n",
       "      <td>0.904</td>\n",
       "      <td>1</td>\n",
       "      <td>Parallel Lines</td>\n",
       "      <td>Junior Boys</td>\n",
       "    </tr>\n",
       "  </tbody>\n",
       "</table>\n",
       "</div>"
      ],
      "text/plain": [
       "   acousticness  danceability  duration_ms  energy  instrumentalness  key  \\\n",
       "0        0.0102         0.833       204600   0.434          0.021900    2   \n",
       "1        0.1990         0.743       326933   0.359          0.006110    1   \n",
       "2        0.0344         0.838       185707   0.412          0.000234    2   \n",
       "3        0.6040         0.494       199413   0.338          0.510000    5   \n",
       "4        0.1800         0.678       392893   0.561          0.512000    5   \n",
       "\n",
       "   liveness  loudness  mode  speechiness    tempo  time_signature  valence  \\\n",
       "0    0.1650    -8.795     1       0.4310  150.062             4.0    0.286   \n",
       "1    0.1370   -10.401     1       0.0794  160.083             4.0    0.588   \n",
       "2    0.1590    -7.148     1       0.2890   75.044             4.0    0.173   \n",
       "3    0.0922   -15.236     1       0.0261   86.468             4.0    0.230   \n",
       "4    0.4390   -11.648     0       0.0694  174.004             4.0    0.904   \n",
       "\n",
       "   target      song_title            artist  \n",
       "0       1        Mask Off            Future  \n",
       "1       1         Redbone  Childish Gambino  \n",
       "2       1    Xanny Family            Future  \n",
       "3       1  Master Of None       Beach House  \n",
       "4       1  Parallel Lines       Junior Boys  "
      ]
     },
     "execution_count": 2,
     "metadata": {},
     "output_type": "execute_result"
    }
   ],
   "source": [
    "data_frame = pd.read_csv(\"/kaggle/input/spotifyclassification/data.csv\")\n",
    "data_frame = data_frame.drop('Unnamed: 0', axis=1)\n",
    "data_frame.head()"
   ]
  },
  {
   "cell_type": "markdown",
   "id": "1447db70",
   "metadata": {
    "papermill": {
     "duration": 0.019298,
     "end_time": "2021-11-04T10:14:30.966629",
     "exception": false,
     "start_time": "2021-11-04T10:14:30.947331",
     "status": "completed"
    },
    "tags": []
   },
   "source": [
    "# 1. Data Exploration"
   ]
  },
  {
   "cell_type": "code",
   "execution_count": 3,
   "id": "64de7378",
   "metadata": {
    "execution": {
     "iopub.execute_input": "2021-11-04T10:14:31.012511Z",
     "iopub.status.busy": "2021-11-04T10:14:31.011876Z",
     "iopub.status.idle": "2021-11-04T10:14:31.028887Z",
     "shell.execute_reply": "2021-11-04T10:14:31.029396Z",
     "shell.execute_reply.started": "2021-11-04T06:53:03.575711Z"
    },
    "papermill": {
     "duration": 0.043497,
     "end_time": "2021-11-04T10:14:31.029616",
     "exception": false,
     "start_time": "2021-11-04T10:14:30.986119",
     "status": "completed"
    },
    "tags": []
   },
   "outputs": [
    {
     "name": "stdout",
     "output_type": "stream",
     "text": [
      "Shape: (2017, 16)\n",
      "\n",
      "<class 'pandas.core.frame.DataFrame'>\n",
      "RangeIndex: 2017 entries, 0 to 2016\n",
      "Data columns (total 16 columns):\n",
      " #   Column            Non-Null Count  Dtype  \n",
      "---  ------            --------------  -----  \n",
      " 0   acousticness      2017 non-null   float64\n",
      " 1   danceability      2017 non-null   float64\n",
      " 2   duration_ms       2017 non-null   int64  \n",
      " 3   energy            2017 non-null   float64\n",
      " 4   instrumentalness  2017 non-null   float64\n",
      " 5   key               2017 non-null   int64  \n",
      " 6   liveness          2017 non-null   float64\n",
      " 7   loudness          2017 non-null   float64\n",
      " 8   mode              2017 non-null   int64  \n",
      " 9   speechiness       2017 non-null   float64\n",
      " 10  tempo             2017 non-null   float64\n",
      " 11  time_signature    2017 non-null   float64\n",
      " 12  valence           2017 non-null   float64\n",
      " 13  target            2017 non-null   int64  \n",
      " 14  song_title        2017 non-null   object \n",
      " 15  artist            2017 non-null   object \n",
      "dtypes: float64(10), int64(4), object(2)\n",
      "memory usage: 252.2+ KB\n"
     ]
    }
   ],
   "source": [
    "# To see the data structure of the data_frame and the shape\n",
    "print('Shape:', data_frame.shape, end='\\n\\n')\n",
    "data_frame.info()"
   ]
  },
  {
   "cell_type": "markdown",
   "id": "a6d470d4",
   "metadata": {
    "papermill": {
     "duration": 0.020541,
     "end_time": "2021-11-04T10:14:31.070379",
     "exception": false,
     "start_time": "2021-11-04T10:14:31.049838",
     "status": "completed"
    },
    "tags": []
   },
   "source": [
    "- There seems to be no missing values in the dataset as the shape and the non-null column match. \n",
    "- Just to be sure we will still have a look at all the missing values."
   ]
  },
  {
   "cell_type": "code",
   "execution_count": 4,
   "id": "eaeadc3a",
   "metadata": {
    "execution": {
     "iopub.execute_input": "2021-11-04T10:14:31.113440Z",
     "iopub.status.busy": "2021-11-04T10:14:31.112798Z",
     "iopub.status.idle": "2021-11-04T10:14:31.121086Z",
     "shell.execute_reply": "2021-11-04T10:14:31.121590Z",
     "shell.execute_reply.started": "2021-11-04T06:53:03.596946Z"
    },
    "papermill": {
     "duration": 0.031318,
     "end_time": "2021-11-04T10:14:31.121754",
     "exception": false,
     "start_time": "2021-11-04T10:14:31.090436",
     "status": "completed"
    },
    "tags": []
   },
   "outputs": [
    {
     "data": {
      "text/plain": [
       "acousticness        0\n",
       "danceability        0\n",
       "duration_ms         0\n",
       "energy              0\n",
       "instrumentalness    0\n",
       "key                 0\n",
       "liveness            0\n",
       "loudness            0\n",
       "mode                0\n",
       "speechiness         0\n",
       "tempo               0\n",
       "time_signature      0\n",
       "valence             0\n",
       "target              0\n",
       "song_title          0\n",
       "artist              0\n",
       "dtype: int64"
      ]
     },
     "execution_count": 4,
     "metadata": {},
     "output_type": "execute_result"
    }
   ],
   "source": [
    "# To ckeck the total NA values present in the columns\n",
    "data_frame.isna().sum()"
   ]
  },
  {
   "cell_type": "code",
   "execution_count": 5,
   "id": "55d7499c",
   "metadata": {
    "execution": {
     "iopub.execute_input": "2021-11-04T10:14:31.165069Z",
     "iopub.status.busy": "2021-11-04T10:14:31.164452Z",
     "iopub.status.idle": "2021-11-04T10:14:31.179370Z",
     "shell.execute_reply": "2021-11-04T10:14:31.179950Z",
     "shell.execute_reply.started": "2021-11-04T06:53:03.608822Z"
    },
    "papermill": {
     "duration": 0.038195,
     "end_time": "2021-11-04T10:14:31.180108",
     "exception": false,
     "start_time": "2021-11-04T10:14:31.141913",
     "status": "completed"
    },
    "tags": []
   },
   "outputs": [
    {
     "data": {
      "text/plain": [
       "acousticness        1394\n",
       "danceability         632\n",
       "duration_ms         1921\n",
       "energy               719\n",
       "instrumentalness    1107\n",
       "key                   12\n",
       "liveness             793\n",
       "loudness            1808\n",
       "mode                   2\n",
       "speechiness          792\n",
       "tempo               1919\n",
       "time_signature         4\n",
       "valence              853\n",
       "target                 2\n",
       "song_title          1956\n",
       "artist              1343\n",
       "dtype: int64"
      ]
     },
     "execution_count": 5,
     "metadata": {},
     "output_type": "execute_result"
    }
   ],
   "source": [
    "# to count the number of unique values per column \n",
    "data_frame.nunique()"
   ]
  },
  {
   "cell_type": "code",
   "execution_count": 6,
   "id": "c73bc2ea",
   "metadata": {
    "execution": {
     "iopub.execute_input": "2021-11-04T10:14:31.223829Z",
     "iopub.status.busy": "2021-11-04T10:14:31.223212Z",
     "iopub.status.idle": "2021-11-04T10:14:31.229667Z",
     "shell.execute_reply": "2021-11-04T10:14:31.230181Z",
     "shell.execute_reply.started": "2021-11-04T06:53:03.628118Z"
    },
    "papermill": {
     "duration": 0.029876,
     "end_time": "2021-11-04T10:14:31.230340",
     "exception": false,
     "start_time": "2021-11-04T10:14:31.200464",
     "status": "completed"
    },
    "tags": []
   },
   "outputs": [
    {
     "data": {
      "text/plain": [
       "1    1020\n",
       "0     997\n",
       "Name: target, dtype: int64"
      ]
     },
     "execution_count": 6,
     "metadata": {},
     "output_type": "execute_result"
    }
   ],
   "source": [
    "# checking for class imbalance\n",
    "data_frame['target'].value_counts()"
   ]
  },
  {
   "cell_type": "code",
   "execution_count": 7,
   "id": "dc5c20a9",
   "metadata": {
    "execution": {
     "iopub.execute_input": "2021-11-04T10:14:31.274977Z",
     "iopub.status.busy": "2021-11-04T10:14:31.274298Z",
     "iopub.status.idle": "2021-11-04T10:14:31.286242Z",
     "shell.execute_reply": "2021-11-04T10:14:31.286827Z",
     "shell.execute_reply.started": "2021-11-04T06:53:03.638096Z"
    },
    "papermill": {
     "duration": 0.035901,
     "end_time": "2021-11-04T10:14:31.286988",
     "exception": false,
     "start_time": "2021-11-04T10:14:31.251087",
     "status": "completed"
    },
    "tags": []
   },
   "outputs": [
    {
     "data": {
      "text/plain": [
       "False    2012\n",
       "True        5\n",
       "dtype: int64"
      ]
     },
     "execution_count": 7,
     "metadata": {},
     "output_type": "execute_result"
    }
   ],
   "source": [
    "#checking for duplicate records\n",
    "data_frame.duplicated().value_counts()"
   ]
  },
  {
   "cell_type": "code",
   "execution_count": 8,
   "id": "b82fd2e7",
   "metadata": {
    "execution": {
     "iopub.execute_input": "2021-11-04T10:14:31.332997Z",
     "iopub.status.busy": "2021-11-04T10:14:31.332357Z",
     "iopub.status.idle": "2021-11-04T10:14:31.351321Z",
     "shell.execute_reply": "2021-11-04T10:14:31.351918Z",
     "shell.execute_reply.started": "2021-11-04T06:53:03.658156Z"
    },
    "papermill": {
     "duration": 0.043194,
     "end_time": "2021-11-04T10:14:31.352092",
     "exception": false,
     "start_time": "2021-11-04T10:14:31.308898",
     "status": "completed"
    },
    "tags": []
   },
   "outputs": [
    {
     "data": {
      "text/plain": [
       "False    2012\n",
       "dtype: int64"
      ]
     },
     "execution_count": 8,
     "metadata": {},
     "output_type": "execute_result"
    }
   ],
   "source": [
    "# removing the duplicate rows from the data.\n",
    "data_frame=data_frame.drop_duplicates()\n",
    "data_frame.duplicated().value_counts()"
   ]
  },
  {
   "cell_type": "markdown",
   "id": "0bc0604f",
   "metadata": {
    "papermill": {
     "duration": 0.021218,
     "end_time": "2021-11-04T10:14:31.394961",
     "exception": false,
     "start_time": "2021-11-04T10:14:31.373743",
     "status": "completed"
    },
    "tags": []
   },
   "source": [
    "# 2. Data Visualisation"
   ]
  },
  {
   "cell_type": "code",
   "execution_count": 9,
   "id": "2b348694",
   "metadata": {
    "execution": {
     "iopub.execute_input": "2021-11-04T10:14:31.440897Z",
     "iopub.status.busy": "2021-11-04T10:14:31.440282Z",
     "iopub.status.idle": "2021-11-04T10:14:32.623067Z",
     "shell.execute_reply": "2021-11-04T10:14:32.622208Z",
     "shell.execute_reply.started": "2021-11-04T06:53:03.683294Z"
    },
    "papermill": {
     "duration": 1.206636,
     "end_time": "2021-11-04T10:14:32.623211",
     "exception": false,
     "start_time": "2021-11-04T10:14:31.416575",
     "status": "completed"
    },
    "tags": []
   },
   "outputs": [
    {
     "data": {
      "text/plain": [
       "<AxesSubplot:>"
      ]
     },
     "execution_count": 9,
     "metadata": {},
     "output_type": "execute_result"
    },
    {
     "data": {
      "image/png": "[encoded data removed]",
      "text/plain": [
       "<Figure size 432x288 with 2 Axes>"
      ]
     },
     "metadata": {
      "needs_background": "light"
     },
     "output_type": "display_data"
    }
   ],
   "source": [
    "# checking for multicollinearity \n",
    "sns.heatmap(data_frame.corr()>0.4, cmap ='RdYlGn', annot = True)"
   ]
  },
  {
   "cell_type": "markdown",
   "id": "4f457e10",
   "metadata": {
    "papermill": {
     "duration": 0.022829,
     "end_time": "2021-11-04T10:14:32.669399",
     "exception": false,
     "start_time": "2021-11-04T10:14:32.646570",
     "status": "completed"
    },
    "tags": []
   },
   "source": [
    "### Insights:\n",
    "- loudness and energy seem to be highly correlated.\n",
    "- valence and danceability seem to have a high correlation as well."
   ]
  },
  {
   "cell_type": "code",
   "execution_count": 10,
   "id": "b7ea791f",
   "metadata": {
    "execution": {
     "iopub.execute_input": "2021-11-04T10:14:32.718801Z",
     "iopub.status.busy": "2021-11-04T10:14:32.718148Z",
     "iopub.status.idle": "2021-11-04T10:14:32.979580Z",
     "shell.execute_reply": "2021-11-04T10:14:32.980039Z",
     "shell.execute_reply.started": "2021-11-04T06:53:04.858463Z"
    },
    "papermill": {
     "duration": 0.28765,
     "end_time": "2021-11-04T10:14:32.980213",
     "exception": false,
     "start_time": "2021-11-04T10:14:32.692563",
     "status": "completed"
    },
    "tags": []
   },
   "outputs": [
    {
     "data": {
      "text/plain": [
       "<AxesSubplot:>"
      ]
     },
     "execution_count": 10,
     "metadata": {},
     "output_type": "execute_result"
    },
    {
     "data": {
      "image/png": "[encoded data removed]",
      "text/plain": [
       "<Figure size 432x288 with 2 Axes>"
      ]
     },
     "metadata": {
      "needs_background": "light"
     },
     "output_type": "display_data"
    }
   ],
   "source": [
    "df_heatmap = data_frame[['valence','loudness','energy','danceability']].corr()\n",
    "sns.heatmap(df_heatmap, annot = True)"
   ]
  },
  {
   "cell_type": "markdown",
   "id": "1a0813ad",
   "metadata": {
    "papermill": {
     "duration": 0.024339,
     "end_time": "2021-11-04T10:14:33.029365",
     "exception": false,
     "start_time": "2021-11-04T10:14:33.005026",
     "status": "completed"
    },
    "tags": []
   },
   "source": [
    "### Insights:\n",
    "- loudness and energy : 0.76 (very high)\n",
    "- valence and danceability : 0.44 (high)"
   ]
  },
  {
   "cell_type": "code",
   "execution_count": 11,
   "id": "5d48c2e0",
   "metadata": {
    "execution": {
     "iopub.execute_input": "2021-11-04T10:14:33.082829Z",
     "iopub.status.busy": "2021-11-04T10:14:33.082155Z",
     "iopub.status.idle": "2021-11-04T10:14:35.244390Z",
     "shell.execute_reply": "2021-11-04T10:14:35.243769Z",
     "shell.execute_reply.started": "2021-11-04T06:53:05.18027Z"
    },
    "papermill": {
     "duration": 2.189711,
     "end_time": "2021-11-04T10:14:35.244556",
     "exception": false,
     "start_time": "2021-11-04T10:14:33.054845",
     "status": "completed"
    },
    "tags": []
   },
   "outputs": [
    {
     "data": {
      "text/plain": [
       "array([[<AxesSubplot:title={'center':'acousticness'}>,\n",
       "        <AxesSubplot:title={'center':'danceability'}>,\n",
       "        <AxesSubplot:title={'center':'duration_ms'}>,\n",
       "        <AxesSubplot:title={'center':'energy'}>],\n",
       "       [<AxesSubplot:title={'center':'instrumentalness'}>,\n",
       "        <AxesSubplot:title={'center':'key'}>,\n",
       "        <AxesSubplot:title={'center':'liveness'}>,\n",
       "        <AxesSubplot:title={'center':'loudness'}>],\n",
       "       [<AxesSubplot:title={'center':'mode'}>,\n",
       "        <AxesSubplot:title={'center':'speechiness'}>,\n",
       "        <AxesSubplot:title={'center':'tempo'}>,\n",
       "        <AxesSubplot:title={'center':'time_signature'}>],\n",
       "       [<AxesSubplot:title={'center':'valence'}>,\n",
       "        <AxesSubplot:title={'center':'target'}>, <AxesSubplot:>,\n",
       "        <AxesSubplot:>]], dtype=object)"
      ]
     },
     "execution_count": 11,
     "metadata": {},
     "output_type": "execute_result"
    },
    {
     "data": {
      "image/png": "[encoded data removed]",
      "text/plain": [
       "<Figure size 864x864 with 16 Axes>"
      ]
     },
     "metadata": {
      "needs_background": "light"
     },
     "output_type": "display_data"
    }
   ],
   "source": [
    "# to check the distributions of the other columns\n",
    "data_frame.hist(figsize=(12,12), bins=12)"
   ]
  },
  {
   "cell_type": "markdown",
   "id": "67a60a7d",
   "metadata": {
    "papermill": {
     "duration": 0.027111,
     "end_time": "2021-11-04T10:14:35.298021",
     "exception": false,
     "start_time": "2021-11-04T10:14:35.270910",
     "status": "completed"
    },
    "tags": []
   },
   "source": [
    "# 3. Data Transformation"
   ]
  },
  {
   "cell_type": "code",
   "execution_count": 12,
   "id": "db2fbfe4",
   "metadata": {
    "execution": {
     "iopub.execute_input": "2021-11-04T10:14:35.356310Z",
     "iopub.status.busy": "2021-11-04T10:14:35.355725Z",
     "iopub.status.idle": "2021-11-04T10:14:35.359807Z",
     "shell.execute_reply": "2021-11-04T10:14:35.359263Z",
     "shell.execute_reply.started": "2021-11-04T06:53:07.270983Z"
    },
    "papermill": {
     "duration": 0.035722,
     "end_time": "2021-11-04T10:14:35.359937",
     "exception": false,
     "start_time": "2021-11-04T10:14:35.324215",
     "status": "completed"
    },
    "tags": []
   },
   "outputs": [
    {
     "data": {
      "text/plain": [
       "Index(['acousticness', 'danceability', 'duration_ms', 'energy',\n",
       "       'instrumentalness', 'key', 'liveness', 'loudness', 'mode',\n",
       "       'speechiness', 'tempo', 'time_signature', 'valence', 'target',\n",
       "       'song_title', 'artist'],\n",
       "      dtype='object')"
      ]
     },
     "execution_count": 12,
     "metadata": {},
     "output_type": "execute_result"
    }
   ],
   "source": [
    "data_frame.columns"
   ]
  },
  {
   "cell_type": "code",
   "execution_count": 13,
   "id": "f5889cdc",
   "metadata": {
    "execution": {
     "iopub.execute_input": "2021-11-04T10:14:35.419902Z",
     "iopub.status.busy": "2021-11-04T10:14:35.419080Z",
     "iopub.status.idle": "2021-11-04T10:14:36.016567Z",
     "shell.execute_reply": "2021-11-04T10:14:36.017898Z",
     "shell.execute_reply.started": "2021-11-04T06:53:07.278015Z"
    },
    "papermill": {
     "duration": 0.631654,
     "end_time": "2021-11-04T10:14:36.018180",
     "exception": false,
     "start_time": "2021-11-04T10:14:35.386526",
     "status": "completed"
    },
    "tags": []
   },
   "outputs": [
    {
     "data": {
      "text/plain": [
       "array([[ 0.79020366],\n",
       "       [ 0.29693188],\n",
       "       [-0.17178421],\n",
       "       [ 0.3539228 ],\n",
       "       [-0.3925759 ],\n",
       "       [ 0.28572037],\n",
       "       [-0.40583335],\n",
       "       [ 0.19301415]])"
      ]
     },
     "execution_count": 13,
     "metadata": {},
     "output_type": "execute_result"
    }
   ],
   "source": [
    "from sklearn.preprocessing import LabelEncoder\n",
    "from sklearn.preprocessing import MinMaxScaler\n",
    "from sklearn.decomposition import PCA\n",
    "\n",
    "X = data_frame.drop('song_title',axis=1)\n",
    "y = data_frame['song_title']\n",
    "\n",
    "le = LabelEncoder()\n",
    "X['artist'] = le.fit_transform(X['artist'])\n",
    "mms = MinMaxScaler()\n",
    "X = mms.fit_transform(X)\n",
    "pca = PCA(n_components=8)\n",
    "X = pca.fit_transform(X)\n",
    "\n",
    "# how does the array look like after transformation\n",
    "X[23,:].reshape(-1,1)"
   ]
  },
  {
   "cell_type": "markdown",
   "id": "b923b5b6",
   "metadata": {
    "papermill": {
     "duration": 0.050777,
     "end_time": "2021-11-04T10:14:36.119843",
     "exception": false,
     "start_time": "2021-11-04T10:14:36.069066",
     "status": "completed"
    },
    "tags": []
   },
   "source": [
    "# 4. Model Selection"
   ]
  },
  {
   "cell_type": "markdown",
   "id": "140c3a44",
   "metadata": {
    "papermill": {
     "duration": 0.026643,
     "end_time": "2021-11-04T10:14:36.176378",
     "exception": false,
     "start_time": "2021-11-04T10:14:36.149735",
     "status": "completed"
    },
    "tags": []
   },
   "source": [
    "pic credit : dataaspirant.com\n",
    "<img src='https://i0.wp.com/dataaspirant.com/wp-content/uploads/2015/04/cosine.png'>\n",
    "<br><br>\n",
    "\n",
    "- cosine(90) = 0\n",
    "- cosine(0) = 1\n",
    "- cosine (45) = 0.7\n"
   ]
  },
  {
   "cell_type": "code",
   "execution_count": 14,
   "id": "f38deb1b",
   "metadata": {
    "execution": {
     "iopub.execute_input": "2021-11-04T10:14:36.237136Z",
     "iopub.status.busy": "2021-11-04T10:14:36.236482Z",
     "iopub.status.idle": "2021-11-04T10:14:36.239455Z",
     "shell.execute_reply": "2021-11-04T10:14:36.238929Z",
     "shell.execute_reply.started": "2021-11-04T06:53:07.332987Z"
    },
    "papermill": {
     "duration": 0.036241,
     "end_time": "2021-11-04T10:14:36.239608",
     "exception": false,
     "start_time": "2021-11-04T10:14:36.203367",
     "status": "completed"
    },
    "tags": []
   },
   "outputs": [],
   "source": [
    "from numpy import dot\n",
    "from numpy.linalg import norm\n",
    "\n",
    "def cosine_sim(query, index):\n",
    "    cosine =[]\n",
    "    query = np.array(X[query,:])\n",
    "    for i in range(len(index[0])):\n",
    "        temp = np.array(X[index[0][i],:])\n",
    "        score = dot(query, temp)/(norm(query)*norm(temp))\n",
    "        cosine.append(score)\n",
    "    return cosine"
   ]
  },
  {
   "cell_type": "code",
   "execution_count": 15,
   "id": "2091824d",
   "metadata": {
    "execution": {
     "iopub.execute_input": "2021-11-04T10:14:36.300347Z",
     "iopub.status.busy": "2021-11-04T10:14:36.299622Z",
     "iopub.status.idle": "2021-11-04T10:14:36.347124Z",
     "shell.execute_reply": "2021-11-04T10:14:36.348066Z",
     "shell.execute_reply.started": "2021-11-04T06:53:58.093784Z"
    },
    "papermill": {
     "duration": 0.081576,
     "end_time": "2021-11-04T10:14:36.348358",
     "exception": false,
     "start_time": "2021-11-04T10:14:36.266782",
     "status": "completed"
    },
    "tags": []
   },
   "outputs": [],
   "source": [
    "from sklearn.neighbors import NearestNeighbors\n",
    "\n",
    "NN = NearestNeighbors(metric='cosine', algorithm='brute')\n",
    "NN.fit(X)\n",
    "\n",
    "query = np.random.choice(X.shape[0])\n",
    "\n",
    "# need to reshape the data to follow a find he nearest neighbours\n",
    "distances, index = NN.kneighbors(X = X[query,:].reshape(1, -1),n_neighbors=6)\n",
    "cosine = cosine_sim(query, index)\n",
    "# cosine"
   ]
  },
  {
   "cell_type": "code",
   "execution_count": 16,
   "id": "b787c493",
   "metadata": {
    "execution": {
     "iopub.execute_input": "2021-11-04T10:14:36.461421Z",
     "iopub.status.busy": "2021-11-04T10:14:36.459913Z",
     "iopub.status.idle": "2021-11-04T10:14:36.466766Z",
     "shell.execute_reply": "2021-11-04T10:14:36.466266Z",
     "shell.execute_reply.started": "2021-11-04T06:53:07.381888Z"
    },
    "papermill": {
     "duration": 0.067529,
     "end_time": "2021-11-04T10:14:36.466924",
     "exception": false,
     "start_time": "2021-11-04T10:14:36.399395",
     "status": "completed"
    },
    "tags": []
   },
   "outputs": [
    {
     "name": "stdout",
     "output_type": "stream",
     "text": [
      "Recommendation  for E.T. - feat. Kanye West:\n",
      "\n",
      "1: Rockstar, with distance of 0.0220:\n",
      "2: All About Tonight - featuring Cymphonique Miller, with distance of 0.0247:\n",
      "3: You Look Good, with distance of 0.0292:\n",
      "4: Just a Friend 2002 - Radio Edit, with distance of 0.0303:\n",
      "5: Time of Our Lives, with distance of 0.0304:\n"
     ]
    }
   ],
   "source": [
    "# Print the recomendations and their distances\n",
    "for i in range(len(index.flatten())):\n",
    "    if(i==0):\n",
    "        print('Recommendation  for {0}:'.format(data_frame.iloc[query]['song_title']), end='\\n\\n')\n",
    "    else:\n",
    "        print('{}: {}, with distance of {:.4f}:'.format(i, data_frame.iloc[index.flatten()[i]]['song_title'], \n",
    "                                                       distances.flatten()[i]))"
   ]
  },
  {
   "cell_type": "code",
   "execution_count": 17,
   "id": "ab6792c8",
   "metadata": {
    "execution": {
     "iopub.execute_input": "2021-11-04T10:14:36.530891Z",
     "iopub.status.busy": "2021-11-04T10:14:36.530056Z",
     "iopub.status.idle": "2021-11-04T10:14:36.534302Z",
     "shell.execute_reply": "2021-11-04T10:14:36.533678Z",
     "shell.execute_reply.started": "2021-11-04T06:53:50.474123Z"
    },
    "papermill": {
     "duration": 0.039715,
     "end_time": "2021-11-04T10:14:36.534440",
     "exception": false,
     "start_time": "2021-11-04T10:14:36.494725",
     "status": "completed"
    },
    "scrolled": true,
    "tags": []
   },
   "outputs": [
    {
     "name": "stdout",
     "output_type": "stream",
     "text": [
      "Recommendation  for E.T. - feat. Kanye West:\n",
      "\n",
      "1: Rockstar, with similarity of 97.80%\n",
      "2: All About Tonight - featuring Cymphonique Miller, with similarity of 97.53%\n",
      "3: You Look Good, with similarity of 97.08%\n",
      "4: Just a Friend 2002 - Radio Edit, with similarity of 96.97%\n",
      "5: Time of Our Lives, with similarity of 96.96%\n"
     ]
    }
   ],
   "source": [
    "# Print the recomendations and their similarity\n",
    "for i in range(len(index.flatten())):\n",
    "    if(i==0):\n",
    "        print('Recommendation  for {0}:'.format(data_frame.iloc[query]['song_title']), end='\\n\\n')\n",
    "    else:\n",
    "        print('{}: {}, with similarity of {:.2f}%'.format(i, data_frame.iloc[index.flatten()[i]]['song_title'], \n",
    "                                                       cosine[i]*100))"
   ]
  },
  {
   "cell_type": "markdown",
   "id": "839dcf9c",
   "metadata": {},
   "source": [
    "# HomeWork:\n",
    "### Netflix Dataset Link: https://www.kaggle.com/ritesh2000/trending-tv-shows-on-netflix"
   ]
  }
 ],
 "metadata": {
  "kernelspec": {
   "display_name": "Python 3",
   "language": "python",
   "name": "python3"
  },
  "language_info": {
   "codemirror_mode": {
    "name": "ipython",
    "version": 3
   },
   "file_extension": ".py",
   "mimetype": "text/x-python",
   "name": "python",
   "nbconvert_exporter": "python",
   "pygments_lexer": "ipython3",
   "version": "3.8.8"
  },
  "papermill": {
   "default_parameters": {},
   "duration": 15.538681,
   "end_time": "2021-11-04T10:14:37.373165",
   "environment_variables": {},
   "exception": null,
   "input_path": "__notebook__.ipynb",
   "output_path": "__notebook__.ipynb",
   "parameters": {},
   "start_time": "2021-11-04T10:14:21.834484",
   "version": "2.3.3"
  }
 },
 "nbformat": 4,
 "nbformat_minor": 5
}
