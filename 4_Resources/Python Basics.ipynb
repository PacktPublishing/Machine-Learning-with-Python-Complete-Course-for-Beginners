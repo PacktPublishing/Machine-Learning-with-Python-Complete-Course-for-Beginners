{
 "cells": [
  {
   "cell_type": "markdown",
   "id": "71e2fb99",
   "metadata": {},
   "source": [
    "# I. Data Types"
   ]
  },
  {
   "cell_type": "markdown",
   "id": "ebd7039c",
   "metadata": {},
   "source": [
    "There are mainly 4 data types in Python :\n",
    "\n",
    "1. Integer (int)\n",
    "2. Float (float)\n",
    "3. String (str)\n",
    "4. Boolean (bool)"
   ]
  },
  {
   "cell_type": "markdown",
   "id": "8e2a3fc3",
   "metadata": {},
   "source": [
    "### 1. Integer (int)"
   ]
  },
  {
   "cell_type": "code",
   "execution_count": 3,
   "id": "9046bf7e",
   "metadata": {
    "scrolled": true
   },
   "outputs": [
    {
     "name": "stdout",
     "output_type": "stream",
     "text": [
      "Enter a number :123.23\n",
      "123\n",
      "Belongs to the class:  <class 'int'>\n"
     ]
    }
   ],
   "source": [
    "int_number = int(float(input('Enter a number :')))\n",
    "print(int_number)\n",
    "print('Belongs to the class: ',type(int_number))"
   ]
  },
  {
   "cell_type": "markdown",
   "id": "178a3d0c",
   "metadata": {},
   "source": [
    "### 2. Float (float)"
   ]
  },
  {
   "cell_type": "code",
   "execution_count": 4,
   "id": "4b37ead2",
   "metadata": {},
   "outputs": [
    {
     "name": "stdout",
     "output_type": "stream",
     "text": [
      "Enter a number :123\n",
      "123.0\n",
      "Belongs to the class:  <class 'float'>\n"
     ]
    }
   ],
   "source": [
    "float_number = float(input('Enter a number :'))\n",
    "print(float_number)\n",
    "print('Belongs to the class: ',type(float_number))"
   ]
  },
  {
   "cell_type": "markdown",
   "id": "20cb7a52",
   "metadata": {},
   "source": [
    "### 3. String (str)\n",
    "\n",
    "- Input statements take the input in the string format by default\n",
    "- typcasting it to str will not throw any errors but will increase the computational time.\n",
    "- you can just take the the input normally without any typecasting."
   ]
  },
  {
   "cell_type": "code",
   "execution_count": 6,
   "id": "db204dd4",
   "metadata": {},
   "outputs": [
    {
     "name": "stdout",
     "output_type": "stream",
     "text": [
      "Enter a name :Rishab\n",
      "Rishab\n",
      "Belongs to the class:  <class 'str'>\n"
     ]
    }
   ],
   "source": [
    "str_name = input('Enter a name :')\n",
    "print(str_name)\n",
    "print('Belongs to the class: ',type(str_name))"
   ]
  },
  {
   "cell_type": "markdown",
   "id": "e443b76d",
   "metadata": {},
   "source": [
    "### 4. Boolean (bool)\n",
    "\n",
    "- The value it returns is either True or False.\n",
    "- 1 as True\n",
    "- 0 as False"
   ]
  },
  {
   "cell_type": "code",
   "execution_count": 14,
   "id": "e9a31a64",
   "metadata": {},
   "outputs": [
    {
     "name": "stdout",
     "output_type": "stream",
     "text": [
      "Test 1:  False\n",
      "Test 2:  False\n",
      "Test 3:  True\n"
     ]
    }
   ],
   "source": [
    "print('Test 1: ', bool(0))\n",
    "print('Test 2: ', bool(12<1))\n",
    "\n",
    "num = 12\n",
    "print('Test 3: ', bool(num>1))\n",
    "\n",
    "# for commenting you need to do Ctlr + /"
   ]
  },
  {
   "cell_type": "markdown",
   "id": "24ed1a66",
   "metadata": {},
   "source": [
    "# II. Arithmetic Operations "
   ]
  },
  {
   "cell_type": "markdown",
   "id": "d062b0ca",
   "metadata": {},
   "source": [
    "There are 7 arithmetic operators in Python :\n",
    "\n",
    "1. Addition [ + ]\n",
    "2. Subtraction [ - ]\n",
    "3. Multiplication [ * ]\n",
    "4. Division [ / ]\n",
    "5. Modulus [ % ]\n",
    "6. Exponentiation [ ** ]\n",
    "7. Floor division [ // ]"
   ]
  },
  {
   "cell_type": "markdown",
   "id": "18f07bc7",
   "metadata": {},
   "source": [
    "### 1. Addition [ + ]"
   ]
  },
  {
   "cell_type": "code",
   "execution_count": 15,
   "id": "4042bc98",
   "metadata": {
    "scrolled": true
   },
   "outputs": [
    {
     "name": "stdout",
     "output_type": "stream",
     "text": [
      "Final Output : 57\n"
     ]
    }
   ],
   "source": [
    "num_1 = 23\n",
    "num_2 = 34\n",
    "\n",
    "num_3 = num_1 + num_2\n",
    "print('Final Output :',num_3)"
   ]
  },
  {
   "cell_type": "code",
   "execution_count": 17,
   "id": "a6d946a4",
   "metadata": {},
   "outputs": [
    {
     "name": "stdout",
     "output_type": "stream",
     "text": [
      "Final Output : 57\n"
     ]
    }
   ],
   "source": [
    "# optimse\n",
    "num_1, num_2 = 23, 34\n",
    "\n",
    "# not a part of the code, it's just there to show the values assigned to num_1 and num_2\n",
    "# print('num_1 :',num_1,'\\n'+'num_2 :',num_2)\n",
    "\n",
    "print('Final Output :',num_1 + num_2)"
   ]
  },
  {
   "cell_type": "markdown",
   "id": "91aad563",
   "metadata": {},
   "source": [
    "### 2. Subtraction [ - ]"
   ]
  },
  {
   "cell_type": "code",
   "execution_count": 18,
   "id": "5df7e944",
   "metadata": {},
   "outputs": [
    {
     "name": "stdout",
     "output_type": "stream",
     "text": [
      "Final Output : -11\n"
     ]
    }
   ],
   "source": [
    "# optimse\n",
    "num_1, num_2 = 23, 34\n",
    "print('Final Output :',num_1 - num_2)"
   ]
  },
  {
   "cell_type": "markdown",
   "id": "2813af81",
   "metadata": {},
   "source": [
    "### 3. Multiplication [ * ]"
   ]
  },
  {
   "cell_type": "code",
   "execution_count": 19,
   "id": "99dcbfa7",
   "metadata": {},
   "outputs": [
    {
     "name": "stdout",
     "output_type": "stream",
     "text": [
      "Final Output : 782\n"
     ]
    }
   ],
   "source": [
    "# optimse\n",
    "num_1, num_2 = 23, 34\n",
    "print('Final Output :',num_1 * num_2)"
   ]
  },
  {
   "cell_type": "markdown",
   "id": "8a196834",
   "metadata": {},
   "source": [
    "### 4. Division [ / ]"
   ]
  },
  {
   "cell_type": "code",
   "execution_count": 21,
   "id": "cf4d31ab",
   "metadata": {},
   "outputs": [
    {
     "name": "stdout",
     "output_type": "stream",
     "text": [
      "Final Output : 0.6764705882352942\n",
      "Final Output :0.68\n"
     ]
    }
   ],
   "source": [
    "# optimse\n",
    "num_1, num_2 = 23, 34\n",
    "print('Final Output :',num_1 / num_2)\n",
    "\n",
    "# formated outputs.\n",
    "print('Final Output :{:.2f}'.format(num_1 / num_2))"
   ]
  },
  {
   "cell_type": "markdown",
   "id": "6b72a77a",
   "metadata": {},
   "source": [
    "### 5. Modulus [ % ]"
   ]
  },
  {
   "cell_type": "code",
   "execution_count": 22,
   "id": "fec7fea5",
   "metadata": {},
   "outputs": [
    {
     "name": "stdout",
     "output_type": "stream",
     "text": [
      "After Division :2.3 \t After modulus 3\n"
     ]
    }
   ],
   "source": [
    "# optimse\n",
    "num_1, num_2 = 23, 10\n",
    "print('After Division :{} \\t After modulus {}'.format(num_1 / num_2, num_1 % num_2))"
   ]
  },
  {
   "cell_type": "markdown",
   "id": "25196696",
   "metadata": {},
   "source": [
    "### 6. Exponentiation [ ** ]"
   ]
  },
  {
   "cell_type": "code",
   "execution_count": 31,
   "id": "7f1a22f2",
   "metadata": {},
   "outputs": [
    {
     "name": "stdout",
     "output_type": "stream",
     "text": [
      "num_1 to the power num_2 : 16\n"
     ]
    }
   ],
   "source": [
    "# optimse\n",
    "num_1, num_2 = 4, 2\n",
    "print('num_1 to the power num_2 : {}'.format(num_1 ** num_2))"
   ]
  },
  {
   "cell_type": "markdown",
   "id": "d3929cea",
   "metadata": {},
   "source": [
    "### 7. Floor division [ // ]"
   ]
  },
  {
   "cell_type": "code",
   "execution_count": 33,
   "id": "cdb0afbd",
   "metadata": {
    "scrolled": true
   },
   "outputs": [
    {
     "name": "stdout",
     "output_type": "stream",
     "text": [
      "After Division :2.3 \t After floor divison 2\n"
     ]
    }
   ],
   "source": [
    "# optimse\n",
    "num_1, num_2 = 23, 10\n",
    "print('After Division :{} \\t After floor divison {}'.format(num_1 / num_2, num_1 // num_2))"
   ]
  },
  {
   "cell_type": "markdown",
   "id": "535d37ee",
   "metadata": {},
   "source": [
    "# III. Comparison Operators"
   ]
  },
  {
   "cell_type": "markdown",
   "id": "f360fb68",
   "metadata": {},
   "source": [
    "##### The answer is always boolean (True or False)\n",
    "- Equal equal to [==]\n",
    "- Less than [<] \n",
    "- Greater than [>]\n",
    "- Less than equal to [<=]\n",
    "- Greater than equal to [>=]"
   ]
  },
  {
   "cell_type": "code",
   "execution_count": 43,
   "id": "727d90c2",
   "metadata": {},
   "outputs": [
    {
     "name": "stdout",
     "output_type": "stream",
     "text": [
      ">= check:  False\n"
     ]
    }
   ],
   "source": [
    "num_1, num_2 = 10, 12\n",
    "print('== check: ',num_1 == num_2)\n",
    "print('<  check: ',num_1 < num_2)\n",
    "print('>  check: ',num_1 > num_2)\n",
    "print('<= check: ',num_1 <= num_2)\n",
    "print('>= check: ',num_1 >= num_2)"
   ]
  },
  {
   "cell_type": "markdown",
   "id": "6a8a2e8f",
   "metadata": {},
   "source": [
    "# IV. Assignment Operators"
   ]
  },
  {
   "cell_type": "markdown",
   "id": "f5e0d38c",
   "metadata": {},
   "source": [
    "- Equal to[=]\n",
    "- Division equal to[/=] \n",
    "- Floor division equal to[//=]\n",
    "- Modulus equal to [%=] \n",
    "- Subtraction equal to[-=] \n",
    "- Addition equal to [+=] \n",
    "- Multiplication equal to[*=] \n",
    "- Exponentiation equal to[**=]\n",
    "\n",
    ">Example : n = 2<br>\n",
    "sum = n + 2 and sum += 2, mean the same thing "
   ]
  },
  {
   "cell_type": "code",
   "execution_count": 44,
   "id": "701b4878",
   "metadata": {},
   "outputs": [
    {
     "name": "stdout",
     "output_type": "stream",
     "text": [
      "Value of n after '='  2\n"
     ]
    }
   ],
   "source": [
    "# Equal to[=]\n",
    "n = 2\n",
    "print(\"Value of n after '=' \",n)"
   ]
  },
  {
   "cell_type": "code",
   "execution_count": 47,
   "id": "0dab1d10",
   "metadata": {},
   "outputs": [
    {
     "name": "stdout",
     "output_type": "stream",
     "text": [
      "Value of n after '/=' 0.22\n"
     ]
    }
   ],
   "source": [
    "# Division equal to[/=]\n",
    "n=2\n",
    "n /=9\n",
    "print(\"Value of n after '/=' {:.2f}\".format(n))"
   ]
  },
  {
   "cell_type": "code",
   "execution_count": 48,
   "id": "f2682bc5",
   "metadata": {},
   "outputs": [
    {
     "name": "stdout",
     "output_type": "stream",
     "text": [
      "Value of n after '//='  4\n"
     ]
    }
   ],
   "source": [
    "# Floor division equal to[//=]\n",
    "n=21\n",
    "n //=5\n",
    "print(\"Value of n after '//=' \",n)"
   ]
  },
  {
   "cell_type": "code",
   "execution_count": 49,
   "id": "d687bae7",
   "metadata": {},
   "outputs": [
    {
     "name": "stdout",
     "output_type": "stream",
     "text": [
      "Value of n after '%='  1\n"
     ]
    }
   ],
   "source": [
    "# Modulus equal to [%=]\n",
    "n=201\n",
    "n %=10\n",
    "print(\"Value of n after '%=' \",n)"
   ]
  },
  {
   "cell_type": "code",
   "execution_count": 50,
   "id": "176c453a",
   "metadata": {},
   "outputs": [
    {
     "name": "stdout",
     "output_type": "stream",
     "text": [
      "Value of n after '-='  1\n"
     ]
    }
   ],
   "source": [
    "# Subtraction equal to[-=] \n",
    "n=201\n",
    "n -= 200\n",
    "print(\"Value of n after '-=' \",n)"
   ]
  },
  {
   "cell_type": "code",
   "execution_count": 46,
   "id": "cf6486f4",
   "metadata": {},
   "outputs": [
    {
     "name": "stdout",
     "output_type": "stream",
     "text": [
      "Value of n after '+='  401\n"
     ]
    }
   ],
   "source": [
    "# Addition equal to [+=]\n",
    "n=201\n",
    "n += 200\n",
    "print(\"Value of n after '+=' \",n)"
   ]
  },
  {
   "cell_type": "code",
   "execution_count": 51,
   "id": "29fa9f63",
   "metadata": {},
   "outputs": [
    {
     "name": "stdout",
     "output_type": "stream",
     "text": [
      "Value of n after '*='  2010\n"
     ]
    }
   ],
   "source": [
    "# Multiplication equal to[*=]\n",
    "n=201\n",
    "n *= 10\n",
    "print(\"Value of n after '*=' \",n)"
   ]
  },
  {
   "cell_type": "markdown",
   "id": "3eaf1df1",
   "metadata": {},
   "source": [
    "# V. Identity operators"
   ]
  },
  {
   "cell_type": "markdown",
   "id": "1ef22b50",
   "metadata": {},
   "source": [
    "- is \n",
    "- is not"
   ]
  },
  {
   "cell_type": "code",
   "execution_count": 52,
   "id": "07cda53e",
   "metadata": {
    "scrolled": true
   },
   "outputs": [
    {
     "name": "stdout",
     "output_type": "stream",
     "text": [
      "False\n"
     ]
    }
   ],
   "source": [
    "# Example for is \n",
    "num_1 = 12\n",
    "num_2 = 21\n",
    "print(num_1 is num_2)"
   ]
  },
  {
   "cell_type": "code",
   "execution_count": 53,
   "id": "fca2eedb",
   "metadata": {
    "scrolled": true
   },
   "outputs": [
    {
     "name": "stdout",
     "output_type": "stream",
     "text": [
      "True\n"
     ]
    }
   ],
   "source": [
    "# Example for is not\n",
    "print(num_1 is not num_2)"
   ]
  },
  {
   "cell_type": "code",
   "execution_count": 56,
   "id": "91afd6d8",
   "metadata": {},
   "outputs": [
    {
     "name": "stdout",
     "output_type": "stream",
     "text": [
      "False\n"
     ]
    },
    {
     "name": "stderr",
     "output_type": "stream",
     "text": [
      "<>:2: SyntaxWarning: \"is\" with a literal. Did you mean \"==\"?\n",
      "<>:2: SyntaxWarning: \"is\" with a literal. Did you mean \"==\"?\n",
      "<ipython-input-56-ee4d06186e8e>:2: SyntaxWarning: \"is\" with a literal. Did you mean \"==\"?\n",
      "  print(12 is 21)\n"
     ]
    }
   ],
   "source": [
    "# intentional error:\n",
    "print(12 is 21)"
   ]
  },
  {
   "cell_type": "markdown",
   "id": "0f031433",
   "metadata": {},
   "source": [
    "# VI. Membership operators"
   ]
  },
  {
   "cell_type": "markdown",
   "id": "395810f7",
   "metadata": {},
   "source": [
    "- in \n",
    "- not in"
   ]
  },
  {
   "cell_type": "code",
   "execution_count": 60,
   "id": "28c2104d",
   "metadata": {
    "scrolled": true
   },
   "outputs": [
    {
     "name": "stdout",
     "output_type": "stream",
     "text": [
      "False\n"
     ]
    }
   ],
   "source": [
    "# Example for in\n",
    "print(12 in [1,2,3,4])"
   ]
  },
  {
   "cell_type": "code",
   "execution_count": 58,
   "id": "a1d20a6a",
   "metadata": {},
   "outputs": [
    {
     "name": "stdout",
     "output_type": "stream",
     "text": [
      "True\n"
     ]
    }
   ],
   "source": [
    "# Example for not in\n",
    "print(12 not in [1,2,3,4])"
   ]
  },
  {
   "cell_type": "markdown",
   "id": "8baa2ce4",
   "metadata": {},
   "source": [
    "# VII. Logical operators"
   ]
  },
  {
   "cell_type": "markdown",
   "id": "789e12ff",
   "metadata": {},
   "source": [
    "- For AND operator – It returns TRUE if both the operands (right side and left side) are true [and]\n",
    "- For OR operator- It returns TRUE if either of the operand (right side or left side) is true [or]\n",
    "- For NOT operator- returns TRUE if operand is false [not]"
   ]
  },
  {
   "cell_type": "code",
   "execution_count": 64,
   "id": "03b51072",
   "metadata": {},
   "outputs": [
    {
     "name": "stdout",
     "output_type": "stream",
     "text": [
      "AND : True\n",
      "AND : False\n",
      "AND : False\n",
      "AND : False\n"
     ]
    }
   ],
   "source": [
    "# Example for AND\n",
    "print(\"AND :\", 1==1 and 2==2)\n",
    "print(\"AND :\", 1==0 and 2==2)\n",
    "print(\"AND :\", 1==1 and 2==0)\n",
    "print(\"AND :\", 1==0 and 2==0)"
   ]
  },
  {
   "cell_type": "code",
   "execution_count": 68,
   "id": "4ef3c7f3",
   "metadata": {},
   "outputs": [
    {
     "name": "stdout",
     "output_type": "stream",
     "text": [
      "OR : True\n",
      "OR : True\n",
      "OR : True\n",
      "OR : False\n"
     ]
    }
   ],
   "source": [
    "# Example for OR\n",
    "print(\"OR :\", 1==1 or 2==2)\n",
    "print(\"OR :\", 1==0 or 2==2)\n",
    "print(\"OR :\", 1==1 or 2==0)\n",
    "print(\"OR :\", 1==0 or 2==0)"
   ]
  },
  {
   "cell_type": "code",
   "execution_count": 69,
   "id": "2754f970",
   "metadata": {},
   "outputs": [
    {
     "name": "stdout",
     "output_type": "stream",
     "text": [
      "NOT : True\n",
      "NOT : False\n",
      "NOT : False\n",
      "NOT : True\n"
     ]
    }
   ],
   "source": [
    "# Example for NOT\n",
    "print(\"NOT :\", 1==1)\n",
    "print(\"NOT :\", not(1==1))\n",
    "print(\"NOT :\", 1==0)\n",
    "print(\"NOT :\", not(1==0))"
   ]
  }
 ],
 "metadata": {
  "kernelspec": {
   "display_name": "Python 3",
   "language": "python",
   "name": "python3"
  },
  "language_info": {
   "codemirror_mode": {
    "name": "ipython",
    "version": 3
   },
   "file_extension": ".py",
   "mimetype": "text/x-python",
   "name": "python",
   "nbconvert_exporter": "python",
   "pygments_lexer": "ipython3",
   "version": "3.8.8"
  }
 },
 "nbformat": 4,
 "nbformat_minor": 5
}
