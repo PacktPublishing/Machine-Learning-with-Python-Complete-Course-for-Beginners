{
 "cells": [
  {
   "cell_type": "markdown",
   "id": "bc1536ed",
   "metadata": {},
   "source": [
    "## Variable Name Constraints "
   ]
  },
  {
   "cell_type": "markdown",
   "id": "f2b11212",
   "metadata": {},
   "source": [
    "1. It has to start with a letter, it cant start with a number or a special character {' ', '#', '-'} \n",
    "> Example : <br>\n",
    "var, Var [correct] <br>\n",
    "1var, #var [wrong]\n",
    "\n",
    "2. it can have number in the middle or at the end, the only special character that is allowed is the underscore '_'.\n",
    "> Example:<br>\n",
    "var_1, Var_1 [Correct]<br>\n",
    "var#1, Var@1 [wrong]"
   ]
  },
  {
   "cell_type": "markdown",
   "id": "8d83d2c0",
   "metadata": {},
   "source": [
    "# 1. Print Statement"
   ]
  },
  {
   "cell_type": "code",
   "execution_count": 9,
   "id": "0e9bf996",
   "metadata": {},
   "outputs": [
    {
     "name": "stdout",
     "output_type": "stream",
     "text": [
      "My name is Rishab\n",
      "My last name is Sarkar\n"
     ]
    }
   ],
   "source": [
    "# default parameters : end = '\\n', sep = ' '\n",
    "print('My name is {}'.format('Rishab'), end =' \\t')\n",
    "print('My name is {}'.format('Rishab'), 'My last name is {}'.format('Sarkar'), sep = '\\t')"
   ]
  },
  {
   "cell_type": "markdown",
   "id": "6b1354df",
   "metadata": {},
   "source": [
    "# 2. Conditional Statement"
   ]
  },
  {
   "cell_type": "markdown",
   "id": "01b47b95",
   "metadata": {},
   "source": [
    "1. if statement\n",
    "2. elif statement\n",
    "3. else statement"
   ]
  },
  {
   "cell_type": "code",
   "execution_count": 12,
   "id": "d39664de",
   "metadata": {},
   "outputs": [
    {
     "name": "stdout",
     "output_type": "stream",
     "text": [
      "It's so hot, it feels like I am on the sun\n"
     ]
    }
   ],
   "source": [
    "temperature = 51\n",
    "if (temperature <0):\n",
    "    print(\"It's freezing, is this the North Pole\")\n",
    "elif temperature < 50: \n",
    "    print(\"It's hot but I have an AC, so it's cool\")\n",
    "else:\n",
    "    print(\"It's so hot, it feels like I am on the sun\")"
   ]
  },
  {
   "cell_type": "raw",
   "id": "780f07c8",
   "metadata": {},
   "source": [
    "-100---------------- -1  0  1  2 ---------20  21  22 --------- 30  31  32  ------------- 50  51  52 ----------------- (50+)\n",
    "        very cold                  cold                normal                   hot                      very hot"
   ]
  },
  {
   "cell_type": "code",
   "execution_count": 17,
   "id": "bf4cade1",
   "metadata": {},
   "outputs": [
    {
     "name": "stdout",
     "output_type": "stream",
     "text": [
      "It's so hot, it feels like I am on the sun\n"
     ]
    }
   ],
   "source": [
    "temperature = 10\n",
    "if (temperature <0):\n",
    "    print(\"It's freezing, is this the North Pole\")\n",
    "    \n",
    "elif temperature >0 and temperature < 20:\n",
    "    print(\"It's cold but I am warm in the quilt\")\n",
    "    \n",
    "elif temperature >20 and temperature < 30:\n",
    "    print(\"it's plesent outside, I'll go for a walk\")\n",
    "    \n",
    "elif temperature >30 and temperature < 50:\n",
    "    print(\"It's hot but I have an AC, so it's cool\")\n",
    "    \n",
    "else:\n",
    "    print(\"It's so hot, it feels like I am on the sun\")"
   ]
  },
  {
   "cell_type": "code",
   "execution_count": 18,
   "id": "7da87861",
   "metadata": {},
   "outputs": [
    {
     "name": "stdout",
     "output_type": "stream",
     "text": [
      "It's freezing, is this the North Pole\n",
      "It's freezing, is this the North Pole\n"
     ]
    }
   ],
   "source": [
    "temperature = -10\n",
    "if (temperature <0):\n",
    "    print(\"It's freezing, is this the North Pole\")\n",
    "if (temperature <0):\n",
    "    print(\"It's freezing, is this the North Pole\")"
   ]
  },
  {
   "cell_type": "markdown",
   "id": "e6188ff5",
   "metadata": {},
   "source": [
    "# 3. Looping Statement"
   ]
  },
  {
   "cell_type": "markdown",
   "id": "9d81e4b2",
   "metadata": {},
   "source": [
    "1. Entry Controlled Loop\n",
    "    - for loops\n",
    "    - while loops\n",
    "<br><br>\n",
    "2. Exit Controlled Loop\n",
    "    - do while loops"
   ]
  },
  {
   "cell_type": "code",
   "execution_count": 23,
   "id": "294e0461",
   "metadata": {},
   "outputs": [
    {
     "name": "stdout",
     "output_type": "stream",
     "text": [
      "1  2  3  4  5  6  7  8  9  10  "
     ]
    }
   ],
   "source": [
    "# for loops range(starting value, condition, iterating value)\n",
    "# Q. print the first 10 number\n",
    "\n",
    "for i in range(1,11,1): # start =1; < 10 ; +1\n",
    "    print(i, end = '  ')"
   ]
  },
  {
   "cell_type": "code",
   "execution_count": 26,
   "id": "e3e3ca9e",
   "metadata": {},
   "outputs": [
    {
     "name": "stdout",
     "output_type": "stream",
     "text": [
      "1  2  3  4  5  6  7  8  9  10  "
     ]
    }
   ],
   "source": [
    "# while loop\n",
    "# Q. print the number till the number is <10\n",
    "i = 1\n",
    "while(i<=10):\n",
    "    print(i, end ='  ')\n",
    "    i += 1 # i = i+1"
   ]
  },
  {
   "cell_type": "code",
   "execution_count": 32,
   "id": "5401d0e1",
   "metadata": {},
   "outputs": [
    {
     "name": "stdout",
     "output_type": "stream",
     "text": [
      "1  2  3  4  5  6  7  8  9  10  11  "
     ]
    }
   ],
   "source": [
    "# do while loop\n",
    "# Q. print the number till the number is <10\n",
    "\n",
    "i=1\n",
    "while(True):\n",
    "    print(i,end ='  ')\n",
    "    \n",
    "    if(i>10):\n",
    "        break\n",
    "        \n",
    "    i += 1"
   ]
  },
  {
   "cell_type": "raw",
   "id": "41e6ff61",
   "metadata": {},
   "source": [
    "Q. print the following pattern:\n",
    "\n",
    "*\n",
    "**\n",
    "***\n",
    "****\n",
    "*****"
   ]
  },
  {
   "cell_type": "code",
   "execution_count": 33,
   "id": "9ffca169",
   "metadata": {},
   "outputs": [
    {
     "name": "stdout",
     "output_type": "stream",
     "text": [
      "*\n",
      "**\n",
      "***\n",
      "****\n",
      "*****\n"
     ]
    }
   ],
   "source": [
    "# Legends' way of solving it.\n",
    "for i in range(1,6):\n",
    "    print('*'*i)"
   ]
  },
  {
   "cell_type": "code",
   "execution_count": null,
   "id": "9c5619be",
   "metadata": {
    "scrolled": true
   },
   "outputs": [],
   "source": [
    "# How it should it be done:\n",
    "for i in range(1,6):\n",
    "    for j in range(1,i+1):\n",
    "        print('*', end='')\n",
    "    print()"
   ]
  },
  {
   "cell_type": "raw",
   "id": "9c1c65d9",
   "metadata": {},
   "source": [
    "Homework Question:\n",
    "\n",
    "1. Print the following pattern\n",
    "\n",
    "*****\n",
    "****\n",
    "***\n",
    "**\n",
    "*"
   ]
  },
  {
   "cell_type": "code",
   "execution_count": null,
   "id": "c809a57f",
   "metadata": {},
   "outputs": [],
   "source": [
    "# type your code here\n"
   ]
  },
  {
   "cell_type": "markdown",
   "id": "5231140c",
   "metadata": {},
   "source": [
    "# 4. User Defined Functions"
   ]
  },
  {
   "cell_type": "code",
   "execution_count": 38,
   "id": "d98bdab2",
   "metadata": {},
   "outputs": [
    {
     "name": "stdout",
     "output_type": "stream",
     "text": [
      "This is the display function\n",
      "This is the display function\n"
     ]
    }
   ],
   "source": [
    "# function with no parameters:\n",
    "display()\n",
    "display()\n",
    "\n",
    "def display():\n",
    "    print('This is the display function')"
   ]
  },
  {
   "cell_type": "code",
   "execution_count": 45,
   "id": "dd3df7a1",
   "metadata": {},
   "outputs": [
    {
     "name": "stdout",
     "output_type": "stream",
     "text": [
      "25\n"
     ]
    }
   ],
   "source": [
    "# function with default parameter:\n",
    "def sum_check(num_1, num_2):\n",
    "    print(num_1+num_2)\n",
    "    \n",
    "sum_check(12, 13)"
   ]
  },
  {
   "cell_type": "markdown",
   "id": "c146c644",
   "metadata": {},
   "source": [
    "### Global Variable and Local Variable"
   ]
  },
  {
   "cell_type": "code",
   "execution_count": 48,
   "id": "ebacd283",
   "metadata": {},
   "outputs": [
    {
     "name": "stdout",
     "output_type": "stream",
     "text": [
      "Printing Outside the function Num_1 =  2\n",
      "Printing Inside the function Num_1 =  3\n",
      "Printing Outside the function Num_1 =  2\n"
     ]
    }
   ],
   "source": [
    "num_1 = 2\n",
    "def display():\n",
    "    num_1 = 3\n",
    "    print('Printing Inside the function Num_1 = ',num_1)\n",
    "\n",
    "print('Printing Outside the function Num_1 = ',num_1)\n",
    "display()\n",
    "print('Printing Outside the function Num_1 = ',num_1)"
   ]
  },
  {
   "cell_type": "code",
   "execution_count": 49,
   "id": "5c31748e",
   "metadata": {},
   "outputs": [
    {
     "name": "stdout",
     "output_type": "stream",
     "text": [
      "Printing Outside the function Num_1 =  2\n",
      "Local Variable num_1 value : 3\n",
      "Printing Outside the function Num_1 (2nd time)=  3\n"
     ]
    }
   ],
   "source": [
    "num_1 = 2\n",
    "def display():\n",
    "    global num_1\n",
    "    num_1 = 3\n",
    "    print('Local Variable num_1 value :',num_1)\n",
    "\n",
    "print('Printing Outside the function Num_1 = ',num_1)\n",
    "display()\n",
    "print('Printing Outside the function Num_1 (2nd time)= ',num_1)"
   ]
  },
  {
   "cell_type": "markdown",
   "id": "851c4eb6",
   "metadata": {},
   "source": [
    "  "
   ]
  },
  {
   "cell_type": "markdown",
   "id": "fc2e8388",
   "metadata": {},
   "source": [
    "  "
   ]
  },
  {
   "cell_type": "markdown",
   "id": "947993e7",
   "metadata": {},
   "source": [
    "  "
   ]
  },
  {
   "cell_type": "markdown",
   "id": "372742f9",
   "metadata": {},
   "source": [
    " ##### Q. find the max of 3 numbers"
   ]
  },
  {
   "cell_type": "code",
   "execution_count": 50,
   "id": "94719328",
   "metadata": {},
   "outputs": [
    {
     "name": "stdout",
     "output_type": "stream",
     "text": [
      "Maximum : 34\n"
     ]
    }
   ],
   "source": [
    "# the python basic way.\n",
    "\n",
    "num_1, num_2, num_3 = 12, 23, 34\n",
    "\n",
    "print('Maximum :',max(num_1, num_2, num_3))"
   ]
  },
  {
   "cell_type": "code",
   "execution_count": 52,
   "id": "4a147ffc",
   "metadata": {},
   "outputs": [
    {
     "name": "stdout",
     "output_type": "stream",
     "text": [
      "Maximum : -12\n"
     ]
    }
   ],
   "source": [
    "num_1, num_2, num_3 = -12, -23, -34\n",
    "maximum = 0\n",
    "\n",
    "if(num_1>num_2 and num_1>num_3):\n",
    "    maximum =num_1\n",
    "elif(num_2>num_1 and num_2>num_3):\n",
    "    maximum =num_2\n",
    "elif(num_3>num_1 and num_3>num_2):\n",
    "    maximum = num_3\n",
    "    \n",
    "print('Maximum :',maximum)"
   ]
  },
  {
   "cell_type": "code",
   "execution_count": 57,
   "id": "aa77ed70",
   "metadata": {},
   "outputs": [
    {
     "name": "stdout",
     "output_type": "stream",
     "text": [
      "Maximum : 34\n"
     ]
    }
   ],
   "source": [
    "# obtimise\n",
    "\n",
    "num_1, num_2, num_3 = 12, 23, 34\n",
    "maximum = num_1\n",
    "\n",
    "if(num_2>maximum):\n",
    "    maximum =num_2\n",
    "if(num_3>maximum):\n",
    "    maximum = num_3\n",
    "    \n",
    "print('Maximum :',maximum)"
   ]
  },
  {
   "cell_type": "code",
   "execution_count": 58,
   "id": "eafeb087",
   "metadata": {},
   "outputs": [
    {
     "name": "stdout",
     "output_type": "stream",
     "text": [
      "Maximum : 34\n"
     ]
    }
   ],
   "source": [
    "def maximum(num_1, num_2, num3):\n",
    "    maximum = num_1\n",
    "\n",
    "    if(num_2>maximum):\n",
    "        maximum =num_2\n",
    "    if(num_3>maximum):\n",
    "        maximum = num_3\n",
    "    return maximum\n",
    "\n",
    "num_1, num_2, num_3 = 12, 23, 34\n",
    "value_returned_by_the_function = maximum(num_1, num_2, num_3)\n",
    "print('Maximum :',value_returned_by_the_function)"
   ]
  },
  {
   "cell_type": "raw",
   "id": "34814463",
   "metadata": {},
   "source": [
    "Homework Question:\n",
    "\n",
    "2. take 3 numbers as input from the user and make a user defined function to sum them up, if the sum is greater than or equal to 100, then print 'beyond century' and the total amount, else print 'we are yet not there' and the total amount."
   ]
  },
  {
   "cell_type": "code",
   "execution_count": null,
   "id": "f1f1c163",
   "metadata": {},
   "outputs": [],
   "source": [
    "# type your code here\n"
   ]
  },
  {
   "cell_type": "markdown",
   "id": "67b57dce",
   "metadata": {},
   "source": [
    "##### NOTE : The answer to the homework questions are in the PPT for Python, if you are facing difficulty to completing the codes, then refer to those, we are all learning here. If you could do it on your own, you should be proud of youself :)\n",
    "<br>\n",
    "<center>----------------  happy codding  ----------------</center>"
   ]
  }
 ],
 "metadata": {
  "kernelspec": {
   "display_name": "Python 3",
   "language": "python",
   "name": "python3"
  },
  "language_info": {
   "codemirror_mode": {
    "name": "ipython",
    "version": 3
   },
   "file_extension": ".py",
   "mimetype": "text/x-python",
   "name": "python",
   "nbconvert_exporter": "python",
   "pygments_lexer": "ipython3",
   "version": "3.8.8"
  }
 },
 "nbformat": 4,
 "nbformat_minor": 5
}
