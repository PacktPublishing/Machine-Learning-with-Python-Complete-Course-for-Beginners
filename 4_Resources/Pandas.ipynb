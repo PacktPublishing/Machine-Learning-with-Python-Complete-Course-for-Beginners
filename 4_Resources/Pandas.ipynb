{
 "cells": [
  {
   "cell_type": "markdown",
   "id": "6cf5276e",
   "metadata": {},
   "source": [
    "<center><h1>Pandas</h1></center>\n",
    "\n",
    "Pandas is an open source, BSD-licensed library providing high-performance, easy-to-use data structures and data analysis tools for the Python programming language.\n",
    "\n",
    "\n",
    "- #### Majour Application areas : Data Manipulation and Data Visualisation.\n",
    "- #### Pandas Data Structures : Data Frames and Series\n",
    "\n",
    "> Document Link: https://pandas.pydata.org/docs/user_guide/index.html"
   ]
  },
  {
   "cell_type": "code",
   "execution_count": 1,
   "id": "9b060a66",
   "metadata": {},
   "outputs": [
    {
     "name": "stdout",
     "output_type": "stream",
     "text": [
      "Requirement already satisfied: pandas in c:\\users\\asus\\anaconda3\\lib\\site-packages (1.2.4)\n",
      "Requirement already satisfied: numpy>=1.16.5 in c:\\users\\asus\\anaconda3\\lib\\site-packages (from pandas) (1.19.5)\n",
      "Requirement already satisfied: python-dateutil>=2.7.3 in c:\\users\\asus\\anaconda3\\lib\\site-packages (from pandas) (2.8.1)\n",
      "Requirement already satisfied: pytz>=2017.3 in c:\\users\\asus\\anaconda3\\lib\\site-packages (from pandas) (2021.1)\n",
      "Requirement already satisfied: six>=1.5 in c:\\users\\asus\\anaconda3\\lib\\site-packages (from python-dateutil>=2.7.3->pandas) (1.15.0)\n"
     ]
    }
   ],
   "source": [
    "# for installing Pandas library\n",
    "!pip install pandas"
   ]
  },
  {
   "cell_type": "code",
   "execution_count": 3,
   "id": "b19fcd9a",
   "metadata": {},
   "outputs": [],
   "source": [
    "import pandas as pd"
   ]
  },
  {
   "cell_type": "markdown",
   "id": "f772493c",
   "metadata": {},
   "source": [
    "### Series"
   ]
  },
  {
   "cell_type": "code",
   "execution_count": 4,
   "id": "84cabcba",
   "metadata": {
    "scrolled": true
   },
   "outputs": [
    {
     "name": "stdout",
     "output_type": "stream",
     "text": [
      "series: \n",
      "0    L\n",
      "1    u\n",
      "2    t\n",
      "3    h\n",
      "4    o\n",
      "5    r\n",
      "dtype: object\n",
      "type:  <class 'pandas.core.series.Series'>\n"
     ]
    }
   ],
   "source": [
    "# creating series from tuple:\n",
    "character_series = pd.Series(('L','u','t','h','o','r'))\n",
    "print('series: ',character_series,sep='\\n')\n",
    "print('type: ',type(character_series))"
   ]
  },
  {
   "cell_type": "code",
   "execution_count": 5,
   "id": "02f7a22a",
   "metadata": {
    "scrolled": true
   },
   "outputs": [
    {
     "name": "stdout",
     "output_type": "stream",
     "text": [
      "series: \n",
      "0    11\n",
      "1    12\n",
      "2    13\n",
      "3    14\n",
      "4    15\n",
      "5    16\n",
      "dtype: int64\n",
      "type:  <class 'pandas.core.series.Series'>\n"
     ]
    }
   ],
   "source": [
    "# creating series from list:\n",
    "integer_series = pd.Series([11,12,13,14,15,16])\n",
    "print('series: ',integer_series,sep='\\n')\n",
    "print('type: ',type(integer_series))"
   ]
  },
  {
   "cell_type": "code",
   "execution_count": 6,
   "id": "1d0104a0",
   "metadata": {},
   "outputs": [
    {
     "name": "stdout",
     "output_type": "stream",
     "text": [
      "Date range: \n",
      "DatetimeIndex(['2020-01-01', '2020-01-02', '2020-01-03', '2020-01-04'], dtype='datetime64[ns]', freq='D')\n",
      "\n",
      "type : <class 'pandas.core.indexes.datetimes.DatetimeIndex'>\n"
     ]
    }
   ],
   "source": [
    "# creating a date series: \n",
    "# default date format : mm-dd-yyyy \n",
    "\n",
    "date_series = pd.date_range(start = '01-01-2020', end= '01-04-2020')\n",
    "print('Date range: ',date_series, sep='\\n', end='\\n\\n')\n",
    "print('type :', type(date_series))"
   ]
  },
  {
   "cell_type": "code",
   "execution_count": 12,
   "id": "55562dda",
   "metadata": {},
   "outputs": [
    {
     "name": "stdout",
     "output_type": "stream",
     "text": [
      "all the years: \n",
      "Int64Index([2020, 2020, 2020, 2020], dtype='int64')\n",
      "\n",
      "all the months: \n",
      "Int64Index([1, 1, 1, 1], dtype='int64')\n",
      "\n",
      "all the month names: \n",
      "Index(['January', 'January', 'January', 'January'], dtype='object')\n",
      "\n",
      "all the days: \n",
      "Int64Index([1, 2, 3, 4], dtype='int64')\n",
      "\n",
      "all the day names: \n",
      "Index(['Wednesday', 'Thursday', 'Friday', 'Saturday'], dtype='object')\n",
      "\n",
      "which day of the year are they: \n",
      "Int64Index([1, 2, 3, 4], dtype='int64')\n",
      "\n"
     ]
    }
   ],
   "source": [
    "# what all can you do with the date series:\n",
    "print('all the years: ',date_series.year,sep='\\n',end='\\n\\n')\n",
    "print('all the months: ',date_series.month,sep='\\n',end='\\n\\n')\n",
    "print('all the month names: ',date_series.month_name(),sep='\\n',end='\\n\\n')\n",
    "print('all the days: ',date_series.day,sep='\\n',end='\\n\\n')\n",
    "print('all the day names: ',date_series.day_name(),sep='\\n',end='\\n\\n')\n",
    "print('which day of the year are they: ',date_series.day_of_year,sep='\\n',end='\\n\\n')"
   ]
  },
  {
   "cell_type": "code",
   "execution_count": 14,
   "id": "76155141",
   "metadata": {
    "scrolled": true
   },
   "outputs": [
    {
     "name": "stdout",
     "output_type": "stream",
     "text": [
      "0th element in the series:  11\n",
      "\n",
      "1st 4 elements in the series: \n",
      "0    11\n",
      "1    12\n",
      "2    13\n",
      "3    14\n",
      "dtype: int64\n",
      "\n",
      "1st and 4th element in the series: \n",
      "0    11\n",
      "3    14\n",
      "dtype: int64\n"
     ]
    }
   ],
   "source": [
    "# indexing:\n",
    "integer_series = pd.Series([11,12,13,14,15,16])\n",
    "print('0th element in the series: ',integer_series[0],end ='\\n\\n')\n",
    "print('1st 4 elements in the series: ',integer_series[0:4], sep='\\n',end ='\\n\\n')\n",
    "print('1st and 4th element in the series: ',integer_series[[0,3]], sep='\\n')"
   ]
  },
  {
   "cell_type": "code",
   "execution_count": 19,
   "id": "b4924d94",
   "metadata": {
    "scrolled": true
   },
   "outputs": [
    {
     "name": "stdout",
     "output_type": "stream",
     "text": [
      "new index series:\n",
      "101    11\n",
      "102    12\n",
      "103    13\n",
      "104    14\n",
      "105    15\n",
      "106    16\n",
      "dtype: int64\n",
      "\n",
      "1st element : 13\n"
     ]
    }
   ],
   "source": [
    "# renaming the indexes\n",
    "integer_series = pd.Series([11,12,13,14,15,16], index=[101, 102, 103, 104, 105, 106])\n",
    "print('new index series:',integer_series,sep='\\n',end='\\n\\n')\n",
    "print('1st element :',integer_series[103])"
   ]
  },
  {
   "cell_type": "code",
   "execution_count": 21,
   "id": "a317da63",
   "metadata": {},
   "outputs": [
    {
     "data": {
      "text/plain": [
       "101    11\n",
       "102    12\n",
       "103    13\n",
       "104    14\n",
       "105    15\n",
       "106    16\n",
       "dtype: int64"
      ]
     },
     "execution_count": 21,
     "metadata": {},
     "output_type": "execute_result"
    }
   ],
   "source": [
    "# simpler way to achieve the same\n",
    "integer_series = pd.Series([11,12,13,14,15,16], index=range(101,107))\n",
    "integer_series"
   ]
  },
  {
   "cell_type": "markdown",
   "id": "e504dbfd",
   "metadata": {},
   "source": [
    "### Data Frames"
   ]
  },
  {
   "cell_type": "code",
   "execution_count": 22,
   "id": "ff48b0a0",
   "metadata": {
    "scrolled": true
   },
   "outputs": [
    {
     "data": {
      "text/html": [
       "<div>\n",
       "<style scoped>\n",
       "    .dataframe tbody tr th:only-of-type {\n",
       "        vertical-align: middle;\n",
       "    }\n",
       "\n",
       "    .dataframe tbody tr th {\n",
       "        vertical-align: top;\n",
       "    }\n",
       "\n",
       "    .dataframe thead th {\n",
       "        text-align: right;\n",
       "    }\n",
       "</style>\n",
       "<table border=\"1\" class=\"dataframe\">\n",
       "  <thead>\n",
       "    <tr style=\"text-align: right;\">\n",
       "      <th></th>\n",
       "      <th>Name</th>\n",
       "      <th>Roll_number</th>\n",
       "      <th>Math_marks</th>\n",
       "    </tr>\n",
       "  </thead>\n",
       "  <tbody>\n",
       "    <tr>\n",
       "      <th>0</th>\n",
       "      <td>student_1</td>\n",
       "      <td>1</td>\n",
       "      <td>90</td>\n",
       "    </tr>\n",
       "    <tr>\n",
       "      <th>1</th>\n",
       "      <td>student_2</td>\n",
       "      <td>5</td>\n",
       "      <td>89</td>\n",
       "    </tr>\n",
       "    <tr>\n",
       "      <th>2</th>\n",
       "      <td>student_3</td>\n",
       "      <td>8</td>\n",
       "      <td>78</td>\n",
       "    </tr>\n",
       "    <tr>\n",
       "      <th>3</th>\n",
       "      <td>student_4</td>\n",
       "      <td>10</td>\n",
       "      <td>98</td>\n",
       "    </tr>\n",
       "    <tr>\n",
       "      <th>4</th>\n",
       "      <td>student_5</td>\n",
       "      <td>3</td>\n",
       "      <td>68</td>\n",
       "    </tr>\n",
       "  </tbody>\n",
       "</table>\n",
       "</div>"
      ],
      "text/plain": [
       "        Name  Roll_number  Math_marks\n",
       "0  student_1            1          90\n",
       "1  student_2            5          89\n",
       "2  student_3            8          78\n",
       "3  student_4           10          98\n",
       "4  student_5            3          68"
      ]
     },
     "execution_count": 22,
     "metadata": {},
     "output_type": "execute_result"
    }
   ],
   "source": [
    "# creating a dataframe from a dictionary\n",
    "\n",
    "student_df = pd.DataFrame({'Name': ['student_1','student_2', 'student_3', 'student_4', 'student_5'],\n",
    "              'Roll_number': [1, 5, 8, 10, 3],\n",
    "             'Math_marks' : [90, 89, 78, 98, 68]})\n",
    "student_df"
   ]
  },
  {
   "cell_type": "code",
   "execution_count": 23,
   "id": "51afcc8e",
   "metadata": {
    "scrolled": true
   },
   "outputs": [
    {
     "data": {
      "text/html": [
       "<div>\n",
       "<style scoped>\n",
       "    .dataframe tbody tr th:only-of-type {\n",
       "        vertical-align: middle;\n",
       "    }\n",
       "\n",
       "    .dataframe tbody tr th {\n",
       "        vertical-align: top;\n",
       "    }\n",
       "\n",
       "    .dataframe thead th {\n",
       "        text-align: right;\n",
       "    }\n",
       "</style>\n",
       "<table border=\"1\" class=\"dataframe\">\n",
       "  <thead>\n",
       "    <tr style=\"text-align: right;\">\n",
       "      <th></th>\n",
       "      <th>Name</th>\n",
       "      <th>Math_marks</th>\n",
       "    </tr>\n",
       "  </thead>\n",
       "  <tbody>\n",
       "    <tr>\n",
       "      <th>1</th>\n",
       "      <td>student_1</td>\n",
       "      <td>90</td>\n",
       "    </tr>\n",
       "    <tr>\n",
       "      <th>5</th>\n",
       "      <td>student_2</td>\n",
       "      <td>89</td>\n",
       "    </tr>\n",
       "    <tr>\n",
       "      <th>8</th>\n",
       "      <td>student_3</td>\n",
       "      <td>78</td>\n",
       "    </tr>\n",
       "    <tr>\n",
       "      <th>10</th>\n",
       "      <td>student_4</td>\n",
       "      <td>98</td>\n",
       "    </tr>\n",
       "    <tr>\n",
       "      <th>3</th>\n",
       "      <td>student_5</td>\n",
       "      <td>68</td>\n",
       "    </tr>\n",
       "  </tbody>\n",
       "</table>\n",
       "</div>"
      ],
      "text/plain": [
       "         Name  Math_marks\n",
       "1   student_1          90\n",
       "5   student_2          89\n",
       "8   student_3          78\n",
       "10  student_4          98\n",
       "3   student_5          68"
      ]
     },
     "execution_count": 23,
     "metadata": {},
     "output_type": "execute_result"
    }
   ],
   "source": [
    "# reindexing according to roll number\n",
    "Roll_number = [1, 5, 8, 10, 3]\n",
    "student_df = pd.DataFrame({'Name': ['student_1','student_2', 'student_3', 'student_4', 'student_5'],\n",
    "                           'Math_marks' : [90, 89, 78, 98, 68]}, index=Roll_number)\n",
    "student_df"
   ]
  },
  {
   "cell_type": "code",
   "execution_count": 30,
   "id": "ac385315",
   "metadata": {
    "scrolled": true
   },
   "outputs": [
    {
     "data": {
      "text/html": [
       "<div>\n",
       "<style scoped>\n",
       "    .dataframe tbody tr th:only-of-type {\n",
       "        vertical-align: middle;\n",
       "    }\n",
       "\n",
       "    .dataframe tbody tr th {\n",
       "        vertical-align: top;\n",
       "    }\n",
       "\n",
       "    .dataframe thead th {\n",
       "        text-align: right;\n",
       "    }\n",
       "</style>\n",
       "<table border=\"1\" class=\"dataframe\">\n",
       "  <thead>\n",
       "    <tr style=\"text-align: right;\">\n",
       "      <th></th>\n",
       "      <th>first_name</th>\n",
       "      <th>last_name</th>\n",
       "      <th>gender</th>\n",
       "    </tr>\n",
       "    <tr>\n",
       "      <th>id</th>\n",
       "      <th></th>\n",
       "      <th></th>\n",
       "      <th></th>\n",
       "    </tr>\n",
       "  </thead>\n",
       "  <tbody>\n",
       "    <tr>\n",
       "      <th>1</th>\n",
       "      <td>Dodi</td>\n",
       "      <td>MacCurley</td>\n",
       "      <td>Male</td>\n",
       "    </tr>\n",
       "    <tr>\n",
       "      <th>2</th>\n",
       "      <td>Pooh</td>\n",
       "      <td>Casado</td>\n",
       "      <td>Genderqueer</td>\n",
       "    </tr>\n",
       "    <tr>\n",
       "      <th>3</th>\n",
       "      <td>Krispin</td>\n",
       "      <td>Govinlock</td>\n",
       "      <td>Agender</td>\n",
       "    </tr>\n",
       "    <tr>\n",
       "      <th>4</th>\n",
       "      <td>Tiphany</td>\n",
       "      <td>Dabney</td>\n",
       "      <td>Bigender</td>\n",
       "    </tr>\n",
       "    <tr>\n",
       "      <th>5</th>\n",
       "      <td>Derry</td>\n",
       "      <td>Fehner</td>\n",
       "      <td>Genderfluid</td>\n",
       "    </tr>\n",
       "    <tr>\n",
       "      <th>6</th>\n",
       "      <td>Heriberto</td>\n",
       "      <td>Behninck</td>\n",
       "      <td>Bigender</td>\n",
       "    </tr>\n",
       "    <tr>\n",
       "      <th>7</th>\n",
       "      <td>Michal</td>\n",
       "      <td>Gath</td>\n",
       "      <td>Female</td>\n",
       "    </tr>\n",
       "    <tr>\n",
       "      <th>8</th>\n",
       "      <td>Stella</td>\n",
       "      <td>Shadwick</td>\n",
       "      <td>Genderfluid</td>\n",
       "    </tr>\n",
       "    <tr>\n",
       "      <th>9</th>\n",
       "      <td>Consuelo</td>\n",
       "      <td>Asty</td>\n",
       "      <td>Polygender</td>\n",
       "    </tr>\n",
       "    <tr>\n",
       "      <th>10</th>\n",
       "      <td>Amabel</td>\n",
       "      <td>Mortimer</td>\n",
       "      <td>Male</td>\n",
       "    </tr>\n",
       "  </tbody>\n",
       "</table>\n",
       "</div>"
      ],
      "text/plain": [
       "   first_name  last_name       gender\n",
       "id                                   \n",
       "1        Dodi  MacCurley         Male\n",
       "2        Pooh     Casado  Genderqueer\n",
       "3     Krispin  Govinlock      Agender\n",
       "4     Tiphany     Dabney     Bigender\n",
       "5       Derry     Fehner  Genderfluid\n",
       "6   Heriberto   Behninck     Bigender\n",
       "7      Michal       Gath       Female\n",
       "8      Stella   Shadwick  Genderfluid\n",
       "9    Consuelo       Asty   Polygender\n",
       "10     Amabel   Mortimer         Male"
      ]
     },
     "execution_count": 30,
     "metadata": {},
     "output_type": "execute_result"
    }
   ],
   "source": [
    "# reading a csv file into a dataframe\n",
    "# you can use similar functions for other structured data files like excel.\n",
    "# important\n",
    "\n",
    "dummy_df = pd.read_csv(r'C:\\Users\\ASUS\\Desktop\\dummy_data.csv')\n",
    "# dummy_df = pd.read_csv('C:\\\\Users\\\\ASUS\\\\Desktop\\\\dummy_data.csv')\n",
    "# dummy_df = pd.read_csv(\"C:/Users/ASUS/Desktop/dummy_data.csv\")\n",
    "dummy_df = dummy_df.set_index('id')\n",
    "dummy_df"
   ]
  },
  {
   "cell_type": "markdown",
   "id": "f4337df5",
   "metadata": {},
   "source": [
    "### Functions"
   ]
  },
  {
   "cell_type": "code",
   "execution_count": 37,
   "id": "f00a0fe0",
   "metadata": {
    "scrolled": true
   },
   "outputs": [
    {
     "data": {
      "text/html": [
       "<div>\n",
       "<style scoped>\n",
       "    .dataframe tbody tr th:only-of-type {\n",
       "        vertical-align: middle;\n",
       "    }\n",
       "\n",
       "    .dataframe tbody tr th {\n",
       "        vertical-align: top;\n",
       "    }\n",
       "\n",
       "    .dataframe thead th {\n",
       "        text-align: right;\n",
       "    }\n",
       "</style>\n",
       "<table border=\"1\" class=\"dataframe\">\n",
       "  <thead>\n",
       "    <tr style=\"text-align: right;\">\n",
       "      <th></th>\n",
       "      <th>first_name</th>\n",
       "      <th>last_name</th>\n",
       "      <th>gender</th>\n",
       "    </tr>\n",
       "    <tr>\n",
       "      <th>id</th>\n",
       "      <th></th>\n",
       "      <th></th>\n",
       "      <th></th>\n",
       "    </tr>\n",
       "  </thead>\n",
       "  <tbody>\n",
       "    <tr>\n",
       "      <th>1</th>\n",
       "      <td>Dodi</td>\n",
       "      <td>MacCurley</td>\n",
       "      <td>Male</td>\n",
       "    </tr>\n",
       "    <tr>\n",
       "      <th>2</th>\n",
       "      <td>Pooh</td>\n",
       "      <td>Casado</td>\n",
       "      <td>Genderqueer</td>\n",
       "    </tr>\n",
       "    <tr>\n",
       "      <th>3</th>\n",
       "      <td>Krispin</td>\n",
       "      <td>Govinlock</td>\n",
       "      <td>Agender</td>\n",
       "    </tr>\n",
       "    <tr>\n",
       "      <th>4</th>\n",
       "      <td>Tiphany</td>\n",
       "      <td>Dabney</td>\n",
       "      <td>Bigender</td>\n",
       "    </tr>\n",
       "    <tr>\n",
       "      <th>5</th>\n",
       "      <td>Derry</td>\n",
       "      <td>Fehner</td>\n",
       "      <td>Genderfluid</td>\n",
       "    </tr>\n",
       "    <tr>\n",
       "      <th>6</th>\n",
       "      <td>Heriberto</td>\n",
       "      <td>Behninck</td>\n",
       "      <td>Bigender</td>\n",
       "    </tr>\n",
       "  </tbody>\n",
       "</table>\n",
       "</div>"
      ],
      "text/plain": [
       "   first_name  last_name       gender\n",
       "id                                   \n",
       "1        Dodi  MacCurley         Male\n",
       "2        Pooh     Casado  Genderqueer\n",
       "3     Krispin  Govinlock      Agender\n",
       "4     Tiphany     Dabney     Bigender\n",
       "5       Derry     Fehner  Genderfluid\n",
       "6   Heriberto   Behninck     Bigender"
      ]
     },
     "execution_count": 37,
     "metadata": {},
     "output_type": "execute_result"
    }
   ],
   "source": [
    "# just view the first few records\n",
    "dummy_df.head(6)"
   ]
  },
  {
   "cell_type": "code",
   "execution_count": 36,
   "id": "294a72d1",
   "metadata": {
    "scrolled": true
   },
   "outputs": [
    {
     "data": {
      "text/html": [
       "<div>\n",
       "<style scoped>\n",
       "    .dataframe tbody tr th:only-of-type {\n",
       "        vertical-align: middle;\n",
       "    }\n",
       "\n",
       "    .dataframe tbody tr th {\n",
       "        vertical-align: top;\n",
       "    }\n",
       "\n",
       "    .dataframe thead th {\n",
       "        text-align: right;\n",
       "    }\n",
       "</style>\n",
       "<table border=\"1\" class=\"dataframe\">\n",
       "  <thead>\n",
       "    <tr style=\"text-align: right;\">\n",
       "      <th></th>\n",
       "      <th>first_name</th>\n",
       "      <th>last_name</th>\n",
       "      <th>gender</th>\n",
       "    </tr>\n",
       "    <tr>\n",
       "      <th>id</th>\n",
       "      <th></th>\n",
       "      <th></th>\n",
       "      <th></th>\n",
       "    </tr>\n",
       "  </thead>\n",
       "  <tbody>\n",
       "    <tr>\n",
       "      <th>5</th>\n",
       "      <td>Derry</td>\n",
       "      <td>Fehner</td>\n",
       "      <td>Genderfluid</td>\n",
       "    </tr>\n",
       "    <tr>\n",
       "      <th>6</th>\n",
       "      <td>Heriberto</td>\n",
       "      <td>Behninck</td>\n",
       "      <td>Bigender</td>\n",
       "    </tr>\n",
       "    <tr>\n",
       "      <th>7</th>\n",
       "      <td>Michal</td>\n",
       "      <td>Gath</td>\n",
       "      <td>Female</td>\n",
       "    </tr>\n",
       "    <tr>\n",
       "      <th>8</th>\n",
       "      <td>Stella</td>\n",
       "      <td>Shadwick</td>\n",
       "      <td>Genderfluid</td>\n",
       "    </tr>\n",
       "    <tr>\n",
       "      <th>9</th>\n",
       "      <td>Consuelo</td>\n",
       "      <td>Asty</td>\n",
       "      <td>Polygender</td>\n",
       "    </tr>\n",
       "    <tr>\n",
       "      <th>10</th>\n",
       "      <td>Amabel</td>\n",
       "      <td>Mortimer</td>\n",
       "      <td>Male</td>\n",
       "    </tr>\n",
       "  </tbody>\n",
       "</table>\n",
       "</div>"
      ],
      "text/plain": [
       "   first_name last_name       gender\n",
       "id                                  \n",
       "5       Derry    Fehner  Genderfluid\n",
       "6   Heriberto  Behninck     Bigender\n",
       "7      Michal      Gath       Female\n",
       "8      Stella  Shadwick  Genderfluid\n",
       "9    Consuelo      Asty   Polygender\n",
       "10     Amabel  Mortimer         Male"
      ]
     },
     "execution_count": 36,
     "metadata": {},
     "output_type": "execute_result"
    }
   ],
   "source": [
    "# just view the last few records\n",
    "dummy_df.tail(6)"
   ]
  },
  {
   "cell_type": "code",
   "execution_count": 38,
   "id": "7a60f4f5",
   "metadata": {
    "scrolled": true
   },
   "outputs": [
    {
     "name": "stdout",
     "output_type": "stream",
     "text": [
      "<class 'pandas.core.frame.DataFrame'>\n",
      "Int64Index: 10 entries, 1 to 10\n",
      "Data columns (total 3 columns):\n",
      " #   Column      Non-Null Count  Dtype \n",
      "---  ------      --------------  ----- \n",
      " 0   first_name  10 non-null     object\n",
      " 1   last_name   10 non-null     object\n",
      " 2   gender      10 non-null     object\n",
      "dtypes: object(3)\n",
      "memory usage: 320.0+ bytes\n"
     ]
    }
   ],
   "source": [
    "# information about the dataframe\n",
    "dummy_df.info()"
   ]
  },
  {
   "cell_type": "code",
   "execution_count": 39,
   "id": "89a7313c",
   "metadata": {},
   "outputs": [
    {
     "data": {
      "text/plain": [
       "(10, 3)"
      ]
     },
     "execution_count": 39,
     "metadata": {},
     "output_type": "execute_result"
    }
   ],
   "source": [
    "# shape of the data\n",
    "dummy_df.shape"
   ]
  },
  {
   "cell_type": "code",
   "execution_count": 40,
   "id": "56130c4c",
   "metadata": {
    "scrolled": true
   },
   "outputs": [
    {
     "data": {
      "text/html": [
       "<div>\n",
       "<style scoped>\n",
       "    .dataframe tbody tr th:only-of-type {\n",
       "        vertical-align: middle;\n",
       "    }\n",
       "\n",
       "    .dataframe tbody tr th {\n",
       "        vertical-align: top;\n",
       "    }\n",
       "\n",
       "    .dataframe thead th {\n",
       "        text-align: right;\n",
       "    }\n",
       "</style>\n",
       "<table border=\"1\" class=\"dataframe\">\n",
       "  <thead>\n",
       "    <tr style=\"text-align: right;\">\n",
       "      <th></th>\n",
       "      <th>first_name</th>\n",
       "      <th>last_name</th>\n",
       "      <th>gender</th>\n",
       "    </tr>\n",
       "  </thead>\n",
       "  <tbody>\n",
       "    <tr>\n",
       "      <th>count</th>\n",
       "      <td>10</td>\n",
       "      <td>10</td>\n",
       "      <td>10</td>\n",
       "    </tr>\n",
       "    <tr>\n",
       "      <th>unique</th>\n",
       "      <td>10</td>\n",
       "      <td>10</td>\n",
       "      <td>7</td>\n",
       "    </tr>\n",
       "    <tr>\n",
       "      <th>top</th>\n",
       "      <td>Dodi</td>\n",
       "      <td>Casado</td>\n",
       "      <td>Male</td>\n",
       "    </tr>\n",
       "    <tr>\n",
       "      <th>freq</th>\n",
       "      <td>1</td>\n",
       "      <td>1</td>\n",
       "      <td>2</td>\n",
       "    </tr>\n",
       "  </tbody>\n",
       "</table>\n",
       "</div>"
      ],
      "text/plain": [
       "       first_name last_name gender\n",
       "count          10        10     10\n",
       "unique         10        10      7\n",
       "top          Dodi    Casado   Male\n",
       "freq            1         1      2"
      ]
     },
     "execution_count": 40,
     "metadata": {},
     "output_type": "execute_result"
    }
   ],
   "source": [
    "# distribution and other related values\n",
    "dummy_df.describe()"
   ]
  },
  {
   "cell_type": "code",
   "execution_count": 44,
   "id": "10b032a4",
   "metadata": {
    "scrolled": true
   },
   "outputs": [
    {
     "data": {
      "text/plain": [
       "Index(['first_name', 'last_name', 'gender'], dtype='object')"
      ]
     },
     "execution_count": 44,
     "metadata": {},
     "output_type": "execute_result"
    }
   ],
   "source": [
    "# name of the columns present\n",
    "dummy_df.columns"
   ]
  },
  {
   "cell_type": "code",
   "execution_count": 50,
   "id": "c09a9e1a",
   "metadata": {
    "scrolled": true
   },
   "outputs": [
    {
     "name": "stdout",
     "output_type": "stream",
     "text": [
      "all rows: \n",
      "[['Dodi' 'MacCurley' 'Male']\n",
      " ['Pooh' 'Casado' 'Genderqueer']\n",
      " ['Krispin' 'Govinlock' 'Agender']\n",
      " ['Tiphany' 'Dabney' 'Bigender']\n",
      " ['Derry' 'Fehner' 'Genderfluid']\n",
      " ['Heriberto' 'Behninck' 'Bigender']\n",
      " ['Michal' 'Gath' 'Female']\n",
      " ['Stella' 'Shadwick' 'Genderfluid']\n",
      " ['Consuelo' 'Asty' 'Polygender']\n",
      " ['Amabel' 'Mortimer' 'Male']]\n",
      "\n",
      "row in the 0th index:  ['Dodi' 'MacCurley' 'Male']\n"
     ]
    }
   ],
   "source": [
    "# array of all the rows\n",
    "print('all rows: ',dummy_df.values, sep='\\n', end ='\\n\\n')\n",
    "print('row in the 0th index: ',dummy_df.values[0])"
   ]
  },
  {
   "cell_type": "code",
   "execution_count": 51,
   "id": "f785581f",
   "metadata": {},
   "outputs": [
    {
     "data": {
      "text/plain": [
       "first_name    10\n",
       "last_name     10\n",
       "gender        10\n",
       "dtype: int64"
      ]
     },
     "execution_count": 51,
     "metadata": {},
     "output_type": "execute_result"
    }
   ],
   "source": [
    "# count the number of non-null values in each row or column\n",
    "dummy_df.count()"
   ]
  },
  {
   "cell_type": "code",
   "execution_count": 52,
   "id": "3a76ed6f",
   "metadata": {
    "scrolled": true
   },
   "outputs": [
    {
     "data": {
      "text/plain": [
       "Male           2\n",
       "Bigender       2\n",
       "Genderfluid    2\n",
       "Polygender     1\n",
       "Agender        1\n",
       "Female         1\n",
       "Genderqueer    1\n",
       "Name: gender, dtype: int64"
      ]
     },
     "execution_count": 52,
     "metadata": {},
     "output_type": "execute_result"
    }
   ],
   "source": [
    "# gives you a count of all the unique values present in the column\n",
    "dummy_df['gender'].value_counts()"
   ]
  },
  {
   "cell_type": "code",
   "execution_count": 57,
   "id": "01d25e79",
   "metadata": {},
   "outputs": [
    {
     "data": {
      "text/html": [
       "<div>\n",
       "<style scoped>\n",
       "    .dataframe tbody tr th:only-of-type {\n",
       "        vertical-align: middle;\n",
       "    }\n",
       "\n",
       "    .dataframe tbody tr th {\n",
       "        vertical-align: top;\n",
       "    }\n",
       "\n",
       "    .dataframe thead th {\n",
       "        text-align: right;\n",
       "    }\n",
       "</style>\n",
       "<table border=\"1\" class=\"dataframe\">\n",
       "  <thead>\n",
       "    <tr style=\"text-align: right;\">\n",
       "      <th></th>\n",
       "      <th>first_name</th>\n",
       "      <th>last_name</th>\n",
       "      <th>gender</th>\n",
       "    </tr>\n",
       "    <tr>\n",
       "      <th>id</th>\n",
       "      <th></th>\n",
       "      <th></th>\n",
       "      <th></th>\n",
       "    </tr>\n",
       "  </thead>\n",
       "  <tbody>\n",
       "    <tr>\n",
       "      <th>1</th>\n",
       "      <td>Dodi</td>\n",
       "      <td>MacCurley</td>\n",
       "      <td>Male</td>\n",
       "    </tr>\n",
       "  </tbody>\n",
       "</table>\n",
       "</div>"
      ],
      "text/plain": [
       "   first_name  last_name gender\n",
       "id                             \n",
       "1        Dodi  MacCurley   Male"
      ]
     },
     "execution_count": 57,
     "metadata": {},
     "output_type": "execute_result"
    }
   ],
   "source": [
    "# selecting rows\n",
    "# you can't associate a single value and get the same output\n",
    "\n",
    "dummy_df[0:1]"
   ]
  },
  {
   "cell_type": "code",
   "execution_count": 58,
   "id": "4ce488b2",
   "metadata": {
    "scrolled": true
   },
   "outputs": [
    {
     "data": {
      "text/html": [
       "<div>\n",
       "<style scoped>\n",
       "    .dataframe tbody tr th:only-of-type {\n",
       "        vertical-align: middle;\n",
       "    }\n",
       "\n",
       "    .dataframe tbody tr th {\n",
       "        vertical-align: top;\n",
       "    }\n",
       "\n",
       "    .dataframe thead th {\n",
       "        text-align: right;\n",
       "    }\n",
       "</style>\n",
       "<table border=\"1\" class=\"dataframe\">\n",
       "  <thead>\n",
       "    <tr style=\"text-align: right;\">\n",
       "      <th></th>\n",
       "      <th>first_name</th>\n",
       "      <th>last_name</th>\n",
       "      <th>gender</th>\n",
       "    </tr>\n",
       "    <tr>\n",
       "      <th>id</th>\n",
       "      <th></th>\n",
       "      <th></th>\n",
       "      <th></th>\n",
       "    </tr>\n",
       "  </thead>\n",
       "  <tbody>\n",
       "    <tr>\n",
       "      <th>2</th>\n",
       "      <td>Pooh</td>\n",
       "      <td>Casado</td>\n",
       "      <td>Genderqueer</td>\n",
       "    </tr>\n",
       "    <tr>\n",
       "      <th>4</th>\n",
       "      <td>Tiphany</td>\n",
       "      <td>Dabney</td>\n",
       "      <td>Bigender</td>\n",
       "    </tr>\n",
       "    <tr>\n",
       "      <th>6</th>\n",
       "      <td>Heriberto</td>\n",
       "      <td>Behninck</td>\n",
       "      <td>Bigender</td>\n",
       "    </tr>\n",
       "    <tr>\n",
       "      <th>8</th>\n",
       "      <td>Stella</td>\n",
       "      <td>Shadwick</td>\n",
       "      <td>Genderfluid</td>\n",
       "    </tr>\n",
       "  </tbody>\n",
       "</table>\n",
       "</div>"
      ],
      "text/plain": [
       "   first_name last_name       gender\n",
       "id                                  \n",
       "2        Pooh    Casado  Genderqueer\n",
       "4     Tiphany    Dabney     Bigender\n",
       "6   Heriberto  Behninck     Bigender\n",
       "8      Stella  Shadwick  Genderfluid"
      ]
     },
     "execution_count": 58,
     "metadata": {},
     "output_type": "execute_result"
    }
   ],
   "source": [
    "dummy_df[1:8:2]"
   ]
  },
  {
   "cell_type": "code",
   "execution_count": 61,
   "id": "d5006486",
   "metadata": {
    "scrolled": true
   },
   "outputs": [
    {
     "name": "stdout",
     "output_type": "stream",
     "text": [
      "Series output:\n",
      "id\n",
      "1          Dodi\n",
      "2          Pooh\n",
      "3       Krispin\n",
      "4       Tiphany\n",
      "5         Derry\n",
      "6     Heriberto\n",
      "7        Michal\n",
      "8        Stella\n",
      "9      Consuelo\n",
      "10       Amabel\n",
      "Name: first_name, dtype: object\n",
      "\n",
      "<class 'pandas.core.series.Series'>\n"
     ]
    }
   ],
   "source": [
    "# seleting the column\n",
    "# 1. First method  [preferred]\n",
    "\n",
    "print('Series output:',dummy_df['first_name'],sep ='\\n',end='\\n\\n')\n",
    "print(type(dummy_df['gender']))"
   ]
  },
  {
   "cell_type": "code",
   "execution_count": 60,
   "id": "c299a8b0",
   "metadata": {
    "scrolled": true
   },
   "outputs": [
    {
     "name": "stdout",
     "output_type": "stream",
     "text": [
      "Series output:\n",
      "id\n",
      "1            Male\n",
      "2     Genderqueer\n",
      "3         Agender\n",
      "4        Bigender\n",
      "5     Genderfluid\n",
      "6        Bigender\n",
      "7          Female\n",
      "8     Genderfluid\n",
      "9      Polygender\n",
      "10           Male\n",
      "Name: gender, dtype: object\n",
      "\n",
      "<class 'pandas.core.series.Series'>\n"
     ]
    }
   ],
   "source": [
    "# seleting the column\n",
    "# 2. Second method\n",
    "\n",
    "print('Series output:',dummy_df.gender,sep ='\\n',end='\\n\\n')\n",
    "print(type(dummy_df.gender))"
   ]
  },
  {
   "cell_type": "code",
   "execution_count": 62,
   "id": "4e3f58de",
   "metadata": {
    "scrolled": true
   },
   "outputs": [
    {
     "name": "stdout",
     "output_type": "stream",
     "text": [
      "Data Frame output:\n",
      "         gender first_name\n",
      "id                        \n",
      "1          Male       Dodi\n",
      "2   Genderqueer       Pooh\n",
      "3       Agender    Krispin\n",
      "4      Bigender    Tiphany\n",
      "5   Genderfluid      Derry\n",
      "6      Bigender  Heriberto\n",
      "7        Female     Michal\n",
      "8   Genderfluid     Stella\n",
      "9    Polygender   Consuelo\n",
      "10         Male     Amabel\n",
      "\n",
      "<class 'pandas.core.frame.DataFrame'>\n"
     ]
    }
   ],
   "source": [
    "# selecting more than one column (subsetting the df)\n",
    "\n",
    "print('Data Frame output:',dummy_df[['gender','first_name']],\n",
    "      sep ='\\n',end='\\n\\n')\n",
    "\n",
    "print(type(dummy_df[['gender','first_name']]))"
   ]
  },
  {
   "cell_type": "markdown",
   "id": "86e60344",
   "metadata": {},
   "source": [
    "###### indexing:\n",
    "- label based indexing  using <code>df.loc</code>\n",
    "- postion based indexing using <code>df.iloc</code>"
   ]
  },
  {
   "cell_type": "code",
   "execution_count": 63,
   "id": "f3944b5d",
   "metadata": {},
   "outputs": [
    {
     "data": {
      "text/html": [
       "<div>\n",
       "<style scoped>\n",
       "    .dataframe tbody tr th:only-of-type {\n",
       "        vertical-align: middle;\n",
       "    }\n",
       "\n",
       "    .dataframe tbody tr th {\n",
       "        vertical-align: top;\n",
       "    }\n",
       "\n",
       "    .dataframe thead th {\n",
       "        text-align: right;\n",
       "    }\n",
       "</style>\n",
       "<table border=\"1\" class=\"dataframe\">\n",
       "  <thead>\n",
       "    <tr style=\"text-align: right;\">\n",
       "      <th></th>\n",
       "      <th>first_name</th>\n",
       "      <th>last_name</th>\n",
       "      <th>gender</th>\n",
       "    </tr>\n",
       "    <tr>\n",
       "      <th>id</th>\n",
       "      <th></th>\n",
       "      <th></th>\n",
       "      <th></th>\n",
       "    </tr>\n",
       "  </thead>\n",
       "  <tbody>\n",
       "    <tr>\n",
       "      <th>1</th>\n",
       "      <td>Dodi</td>\n",
       "      <td>MacCurley</td>\n",
       "      <td>Male</td>\n",
       "    </tr>\n",
       "    <tr>\n",
       "      <th>2</th>\n",
       "      <td>Pooh</td>\n",
       "      <td>Casado</td>\n",
       "      <td>Genderqueer</td>\n",
       "    </tr>\n",
       "    <tr>\n",
       "      <th>3</th>\n",
       "      <td>Krispin</td>\n",
       "      <td>Govinlock</td>\n",
       "      <td>Agender</td>\n",
       "    </tr>\n",
       "    <tr>\n",
       "      <th>4</th>\n",
       "      <td>Tiphany</td>\n",
       "      <td>Dabney</td>\n",
       "      <td>Bigender</td>\n",
       "    </tr>\n",
       "    <tr>\n",
       "      <th>5</th>\n",
       "      <td>Derry</td>\n",
       "      <td>Fehner</td>\n",
       "      <td>Genderfluid</td>\n",
       "    </tr>\n",
       "    <tr>\n",
       "      <th>6</th>\n",
       "      <td>Heriberto</td>\n",
       "      <td>Behninck</td>\n",
       "      <td>Bigender</td>\n",
       "    </tr>\n",
       "    <tr>\n",
       "      <th>7</th>\n",
       "      <td>Michal</td>\n",
       "      <td>Gath</td>\n",
       "      <td>Female</td>\n",
       "    </tr>\n",
       "    <tr>\n",
       "      <th>8</th>\n",
       "      <td>Stella</td>\n",
       "      <td>Shadwick</td>\n",
       "      <td>Genderfluid</td>\n",
       "    </tr>\n",
       "    <tr>\n",
       "      <th>9</th>\n",
       "      <td>Consuelo</td>\n",
       "      <td>Asty</td>\n",
       "      <td>Polygender</td>\n",
       "    </tr>\n",
       "    <tr>\n",
       "      <th>10</th>\n",
       "      <td>Amabel</td>\n",
       "      <td>Mortimer</td>\n",
       "      <td>Male</td>\n",
       "    </tr>\n",
       "  </tbody>\n",
       "</table>\n",
       "</div>"
      ],
      "text/plain": [
       "   first_name  last_name       gender\n",
       "id                                   \n",
       "1        Dodi  MacCurley         Male\n",
       "2        Pooh     Casado  Genderqueer\n",
       "3     Krispin  Govinlock      Agender\n",
       "4     Tiphany     Dabney     Bigender\n",
       "5       Derry     Fehner  Genderfluid\n",
       "6   Heriberto   Behninck     Bigender\n",
       "7      Michal       Gath       Female\n",
       "8      Stella   Shadwick  Genderfluid\n",
       "9    Consuelo       Asty   Polygender\n",
       "10     Amabel   Mortimer         Male"
      ]
     },
     "execution_count": 63,
     "metadata": {},
     "output_type": "execute_result"
    }
   ],
   "source": [
    "dummy_df"
   ]
  },
  {
   "cell_type": "code",
   "execution_count": 64,
   "id": "41cb97c0",
   "metadata": {},
   "outputs": [
    {
     "data": {
      "text/plain": [
       "'Male'"
      ]
     },
     "execution_count": 64,
     "metadata": {},
     "output_type": "execute_result"
    }
   ],
   "source": [
    "# get the 10th value of the gender column:\n",
    "dummy_df.loc[10,'gender']"
   ]
  },
  {
   "cell_type": "code",
   "execution_count": 65,
   "id": "e4592b2b",
   "metadata": {
    "scrolled": true
   },
   "outputs": [
    {
     "name": "stdout",
     "output_type": "stream",
     "text": [
      "first_name      Amabel\n",
      "last_name     Mortimer\n",
      "gender            Male\n",
      "Name: 10, dtype: object\n",
      "\n",
      "<class 'pandas.core.series.Series'>\n"
     ]
    }
   ],
   "source": [
    "# printing the 10th row values\n",
    "print(dummy_df.loc[10],end='\\n\\n')\n",
    "print(type(dummy_df.loc[10]))"
   ]
  },
  {
   "cell_type": "code",
   "execution_count": 67,
   "id": "00115194",
   "metadata": {},
   "outputs": [
    {
     "data": {
      "text/plain": [
       "'MacCurley'"
      ]
     },
     "execution_count": 67,
     "metadata": {},
     "output_type": "execute_result"
    }
   ],
   "source": [
    "# selecting a single element:\n",
    "# 0th row and 1st column\n",
    "dummy_df.iloc[0,1]"
   ]
  },
  {
   "cell_type": "code",
   "execution_count": 70,
   "id": "79ae8183",
   "metadata": {},
   "outputs": [
    {
     "name": "stdout",
     "output_type": "stream",
     "text": [
      "first_name      Amabel\n",
      "last_name     Mortimer\n",
      "gender            Male\n",
      "Name: 10, dtype: object\n"
     ]
    },
    {
     "data": {
      "text/plain": [
       "pandas.core.series.Series"
      ]
     },
     "execution_count": 70,
     "metadata": {},
     "output_type": "execute_result"
    }
   ],
   "source": [
    "# printing the 10th row values [index of the 10th row -> 9]\n",
    "print(dummy_df.iloc[9])\n",
    "type(dummy_df.iloc[9])"
   ]
  },
  {
   "cell_type": "code",
   "execution_count": 71,
   "id": "4a59268c",
   "metadata": {
    "scrolled": true
   },
   "outputs": [
    {
     "data": {
      "text/html": [
       "<div>\n",
       "<style scoped>\n",
       "    .dataframe tbody tr th:only-of-type {\n",
       "        vertical-align: middle;\n",
       "    }\n",
       "\n",
       "    .dataframe tbody tr th {\n",
       "        vertical-align: top;\n",
       "    }\n",
       "\n",
       "    .dataframe thead th {\n",
       "        text-align: right;\n",
       "    }\n",
       "</style>\n",
       "<table border=\"1\" class=\"dataframe\">\n",
       "  <thead>\n",
       "    <tr style=\"text-align: right;\">\n",
       "      <th></th>\n",
       "      <th>first_name</th>\n",
       "      <th>last_name</th>\n",
       "      <th>gender</th>\n",
       "    </tr>\n",
       "    <tr>\n",
       "      <th>id</th>\n",
       "      <th></th>\n",
       "      <th></th>\n",
       "      <th></th>\n",
       "    </tr>\n",
       "  </thead>\n",
       "  <tbody>\n",
       "    <tr>\n",
       "      <th>1</th>\n",
       "      <td>Dodi</td>\n",
       "      <td>MacCurley</td>\n",
       "      <td>Male</td>\n",
       "    </tr>\n",
       "    <tr>\n",
       "      <th>2</th>\n",
       "      <td>Pooh</td>\n",
       "      <td>Casado</td>\n",
       "      <td>Genderqueer</td>\n",
       "    </tr>\n",
       "    <tr>\n",
       "      <th>3</th>\n",
       "      <td>Krispin</td>\n",
       "      <td>Govinlock</td>\n",
       "      <td>Agender</td>\n",
       "    </tr>\n",
       "    <tr>\n",
       "      <th>4</th>\n",
       "      <td>Tiphany</td>\n",
       "      <td>Dabney</td>\n",
       "      <td>Bigender</td>\n",
       "    </tr>\n",
       "    <tr>\n",
       "      <th>5</th>\n",
       "      <td>Derry</td>\n",
       "      <td>Fehner</td>\n",
       "      <td>Genderfluid</td>\n",
       "    </tr>\n",
       "    <tr>\n",
       "      <th>6</th>\n",
       "      <td>Heriberto</td>\n",
       "      <td>Behninck</td>\n",
       "      <td>Bigender</td>\n",
       "    </tr>\n",
       "    <tr>\n",
       "      <th>7</th>\n",
       "      <td>Michal</td>\n",
       "      <td>Gath</td>\n",
       "      <td>Female</td>\n",
       "    </tr>\n",
       "    <tr>\n",
       "      <th>8</th>\n",
       "      <td>Stella</td>\n",
       "      <td>Shadwick</td>\n",
       "      <td>Genderfluid</td>\n",
       "    </tr>\n",
       "    <tr>\n",
       "      <th>9</th>\n",
       "      <td>Consuelo</td>\n",
       "      <td>Asty</td>\n",
       "      <td>Polygender</td>\n",
       "    </tr>\n",
       "    <tr>\n",
       "      <th>10</th>\n",
       "      <td>Amabel</td>\n",
       "      <td>Mortimer</td>\n",
       "      <td>Male</td>\n",
       "    </tr>\n",
       "  </tbody>\n",
       "</table>\n",
       "</div>"
      ],
      "text/plain": [
       "   first_name  last_name       gender\n",
       "id                                   \n",
       "1        Dodi  MacCurley         Male\n",
       "2        Pooh     Casado  Genderqueer\n",
       "3     Krispin  Govinlock      Agender\n",
       "4     Tiphany     Dabney     Bigender\n",
       "5       Derry     Fehner  Genderfluid\n",
       "6   Heriberto   Behninck     Bigender\n",
       "7      Michal       Gath       Female\n",
       "8      Stella   Shadwick  Genderfluid\n",
       "9    Consuelo       Asty   Polygender\n",
       "10     Amabel   Mortimer         Male"
      ]
     },
     "execution_count": 71,
     "metadata": {},
     "output_type": "execute_result"
    }
   ],
   "source": [
    "dummy_df"
   ]
  },
  {
   "cell_type": "code",
   "execution_count": 72,
   "id": "752e55d1",
   "metadata": {},
   "outputs": [
    {
     "data": {
      "text/html": [
       "<div>\n",
       "<style scoped>\n",
       "    .dataframe tbody tr th:only-of-type {\n",
       "        vertical-align: middle;\n",
       "    }\n",
       "\n",
       "    .dataframe tbody tr th {\n",
       "        vertical-align: top;\n",
       "    }\n",
       "\n",
       "    .dataframe thead th {\n",
       "        text-align: right;\n",
       "    }\n",
       "</style>\n",
       "<table border=\"1\" class=\"dataframe\">\n",
       "  <thead>\n",
       "    <tr style=\"text-align: right;\">\n",
       "      <th></th>\n",
       "      <th>first_name</th>\n",
       "      <th>last_name</th>\n",
       "      <th>gender</th>\n",
       "    </tr>\n",
       "    <tr>\n",
       "      <th>id</th>\n",
       "      <th></th>\n",
       "      <th></th>\n",
       "      <th></th>\n",
       "    </tr>\n",
       "  </thead>\n",
       "  <tbody>\n",
       "    <tr>\n",
       "      <th>1</th>\n",
       "      <td>Dodi</td>\n",
       "      <td>MacCurley</td>\n",
       "      <td>Male</td>\n",
       "    </tr>\n",
       "    <tr>\n",
       "      <th>10</th>\n",
       "      <td>Amabel</td>\n",
       "      <td>Mortimer</td>\n",
       "      <td>Male</td>\n",
       "    </tr>\n",
       "  </tbody>\n",
       "</table>\n",
       "</div>"
      ],
      "text/plain": [
       "   first_name  last_name gender\n",
       "id                             \n",
       "1        Dodi  MacCurley   Male\n",
       "10     Amabel   Mortimer   Male"
      ]
     },
     "execution_count": 72,
     "metadata": {},
     "output_type": "execute_result"
    }
   ],
   "source": [
    "# conditonal statemetns\n",
    "dummy_df[dummy_df.gender == 'Male']"
   ]
  },
  {
   "cell_type": "code",
   "execution_count": 73,
   "id": "b019bffd",
   "metadata": {
    "scrolled": true
   },
   "outputs": [
    {
     "data": {
      "text/html": [
       "<div>\n",
       "<style scoped>\n",
       "    .dataframe tbody tr th:only-of-type {\n",
       "        vertical-align: middle;\n",
       "    }\n",
       "\n",
       "    .dataframe tbody tr th {\n",
       "        vertical-align: top;\n",
       "    }\n",
       "\n",
       "    .dataframe thead th {\n",
       "        text-align: right;\n",
       "    }\n",
       "</style>\n",
       "<table border=\"1\" class=\"dataframe\">\n",
       "  <thead>\n",
       "    <tr style=\"text-align: right;\">\n",
       "      <th></th>\n",
       "      <th>first_name</th>\n",
       "      <th>last_name</th>\n",
       "      <th>gender</th>\n",
       "    </tr>\n",
       "    <tr>\n",
       "      <th>id</th>\n",
       "      <th></th>\n",
       "      <th></th>\n",
       "      <th></th>\n",
       "    </tr>\n",
       "  </thead>\n",
       "  <tbody>\n",
       "    <tr>\n",
       "      <th>4</th>\n",
       "      <td>Tiphany</td>\n",
       "      <td>Dabney</td>\n",
       "      <td>Bigender</td>\n",
       "    </tr>\n",
       "    <tr>\n",
       "      <th>5</th>\n",
       "      <td>Derry</td>\n",
       "      <td>Fehner</td>\n",
       "      <td>Genderfluid</td>\n",
       "    </tr>\n",
       "    <tr>\n",
       "      <th>6</th>\n",
       "      <td>Heriberto</td>\n",
       "      <td>Behninck</td>\n",
       "      <td>Bigender</td>\n",
       "    </tr>\n",
       "    <tr>\n",
       "      <th>7</th>\n",
       "      <td>Michal</td>\n",
       "      <td>Gath</td>\n",
       "      <td>Female</td>\n",
       "    </tr>\n",
       "    <tr>\n",
       "      <th>8</th>\n",
       "      <td>Stella</td>\n",
       "      <td>Shadwick</td>\n",
       "      <td>Genderfluid</td>\n",
       "    </tr>\n",
       "    <tr>\n",
       "      <th>9</th>\n",
       "      <td>Consuelo</td>\n",
       "      <td>Asty</td>\n",
       "      <td>Polygender</td>\n",
       "    </tr>\n",
       "    <tr>\n",
       "      <th>10</th>\n",
       "      <td>Amabel</td>\n",
       "      <td>Mortimer</td>\n",
       "      <td>Male</td>\n",
       "    </tr>\n",
       "  </tbody>\n",
       "</table>\n",
       "</div>"
      ],
      "text/plain": [
       "   first_name last_name       gender\n",
       "id                                  \n",
       "4     Tiphany    Dabney     Bigender\n",
       "5       Derry    Fehner  Genderfluid\n",
       "6   Heriberto  Behninck     Bigender\n",
       "7      Michal      Gath       Female\n",
       "8      Stella  Shadwick  Genderfluid\n",
       "9    Consuelo      Asty   Polygender\n",
       "10     Amabel  Mortimer         Male"
      ]
     },
     "execution_count": 73,
     "metadata": {},
     "output_type": "execute_result"
    }
   ],
   "source": [
    "dummy_df[dummy_df.index >3]"
   ]
  },
  {
   "cell_type": "raw",
   "id": "75b62520",
   "metadata": {},
   "source": [
    "Homework :\n",
    "Q Extract the rows where the index is divisible by 5."
   ]
  },
  {
   "cell_type": "code",
   "execution_count": null,
   "id": "d4314327",
   "metadata": {
    "scrolled": true
   },
   "outputs": [],
   "source": [
    "# your code goes here\n"
   ]
  },
  {
   "cell_type": "raw",
   "id": "38d02d72",
   "metadata": {},
   "source": [
    "Homework:\n",
    "Q find the count of all the unique values present in the first_name column."
   ]
  },
  {
   "cell_type": "code",
   "execution_count": null,
   "id": "9f86192e",
   "metadata": {},
   "outputs": [],
   "source": [
    "# your code goes here\n"
   ]
  }
 ],
 "metadata": {
  "kernelspec": {
   "display_name": "Python 3",
   "language": "python",
   "name": "python3"
  },
  "language_info": {
   "codemirror_mode": {
    "name": "ipython",
    "version": 3
   },
   "file_extension": ".py",
   "mimetype": "text/x-python",
   "name": "python",
   "nbconvert_exporter": "python",
   "pygments_lexer": "ipython3",
   "version": "3.8.8"
  }
 },
 "nbformat": 4,
 "nbformat_minor": 5
}
