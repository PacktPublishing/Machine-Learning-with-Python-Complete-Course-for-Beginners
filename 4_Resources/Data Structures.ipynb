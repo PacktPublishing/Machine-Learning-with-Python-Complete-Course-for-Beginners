{
 "cells": [
  {
   "cell_type": "raw",
   "id": "60ce7cd9",
   "metadata": {},
   "source": [
    "Indexes and Lengths:\n",
    "             _____ _____ _____ _____ _____ _____\n",
    "            |  L  |  U  |  T  |  H  |  O  |  R  |\n",
    "             _____ _____ _____ _____ _____ _____\n",
    " Indexes :     0     1     2     3     4     5\n",
    " \n",
    " Total Length : 6\n",
    " \n",
    " The index always start from 0 and it runs till the length - 1"
   ]
  },
  {
   "cell_type": "markdown",
   "id": "4155fc4e",
   "metadata": {},
   "source": [
    "# 1. String\n",
    "- So basically the string is a list of characters, which makes it a data structure as well.\n",
    "- It is iterable but not mutable(immutable)"
   ]
  },
  {
   "cell_type": "code",
   "execution_count": 3,
   "id": "8e22df30",
   "metadata": {},
   "outputs": [
    {
     "name": "stdout",
     "output_type": "stream",
     "text": [
      "what is the letter in the 2nd location : T\n"
     ]
    }
   ],
   "source": [
    "# iterable\n",
    "Name = 'LUTHOR'\n",
    "print('what is the letter in the {}nd location : {}'.format(2, Name[2]))"
   ]
  },
  {
   "cell_type": "code",
   "execution_count": 6,
   "id": "78333824",
   "metadata": {},
   "outputs": [
    {
     "ename": "TypeError",
     "evalue": "'str' object does not support item assignment",
     "output_type": "error",
     "traceback": [
      "\u001b[1;31m---------------------------------------------------------------------------\u001b[0m",
      "\u001b[1;31mTypeError\u001b[0m                                 Traceback (most recent call last)",
      "\u001b[1;32m<ipython-input-6-ac0b912f337d>\u001b[0m in \u001b[0;36m<module>\u001b[1;34m\u001b[0m\n\u001b[0;32m      3\u001b[0m \u001b[1;33m\u001b[0m\u001b[0m\n\u001b[0;32m      4\u001b[0m \u001b[0mName\u001b[0m \u001b[1;33m=\u001b[0m \u001b[1;34m'LUTHOR'\u001b[0m\u001b[1;33m\u001b[0m\u001b[1;33m\u001b[0m\u001b[0m\n\u001b[1;32m----> 5\u001b[1;33m \u001b[0mName\u001b[0m\u001b[1;33m[\u001b[0m\u001b[1;36m1\u001b[0m\u001b[1;33m]\u001b[0m \u001b[1;33m=\u001b[0m \u001b[1;34m'V'\u001b[0m\u001b[1;33m\u001b[0m\u001b[1;33m\u001b[0m\u001b[0m\n\u001b[0m\u001b[0;32m      6\u001b[0m \u001b[0mprint\u001b[0m\u001b[1;33m(\u001b[0m\u001b[1;34m'what is letter in the {}th location : {}'\u001b[0m\u001b[1;33m.\u001b[0m\u001b[0mformat\u001b[0m\u001b[1;33m(\u001b[0m\u001b[1;36m1\u001b[0m\u001b[1;33m,\u001b[0m \u001b[0mName\u001b[0m\u001b[1;33m[\u001b[0m\u001b[1;36m1\u001b[0m\u001b[1;33m]\u001b[0m\u001b[1;33m)\u001b[0m\u001b[1;33m)\u001b[0m\u001b[1;33m\u001b[0m\u001b[1;33m\u001b[0m\u001b[0m\n",
      "\u001b[1;31mTypeError\u001b[0m: 'str' object does not support item assignment"
     ]
    }
   ],
   "source": [
    "# immutable\n",
    "# intentional error\n",
    "\n",
    "Name = 'LUTHOR'\n",
    "Name[1] = 'V'\n",
    "print('what is letter in the {}th location : {}'.format(1, Name[1]))"
   ]
  },
  {
   "cell_type": "markdown",
   "id": "aafdf42f",
   "metadata": {},
   "source": [
    "#### String functions:"
   ]
  },
  {
   "cell_type": "code",
   "execution_count": 9,
   "id": "7188fb13",
   "metadata": {},
   "outputs": [
    {
     "name": "stdout",
     "output_type": "stream",
     "text": [
      "Count of the entered character 0\n"
     ]
    }
   ],
   "source": [
    "# counts character(s) in the same case.\n",
    "Name = 'LUTHOR'\n",
    "print('Count of the entered character',Name.count('Lu')) # LU != Lu != lU"
   ]
  },
  {
   "cell_type": "code",
   "execution_count": 13,
   "id": "bfe57f86",
   "metadata": {},
   "outputs": [
    {
     "name": "stdout",
     "output_type": "stream",
     "text": [
      "Lower\n",
      "Alphabet\n",
      "Alphabet and numbers\n"
     ]
    }
   ],
   "source": [
    "# checking the case and the character type\n",
    "Name = 'luthor'\n",
    "if (Name.islower()):\n",
    "    print('Lower')\n",
    "if (Name.isupper()):\n",
    "    print('Upper')\n",
    "if (Name.isalpha()):\n",
    "    print('Alphabet')\n",
    "if (Name.isalnum()):\n",
    "    print('Alphabet and numbers')\n",
    "if (Name.isdigit()):\n",
    "    print('Numbers')"
   ]
  },
  {
   "cell_type": "code",
   "execution_count": 15,
   "id": "8e31f44c",
   "metadata": {},
   "outputs": [
    {
     "name": "stdout",
     "output_type": "stream",
     "text": [
      "Name to Lower case: luthor\n",
      "Name to Upper case: LUTHOR\n",
      "Name to Swap case: LUtHoR\n",
      "Name to capatalise case: Luthor\n"
     ]
    }
   ],
   "source": [
    "# change the case of the string.\n",
    "Name = 'LuThOr'\n",
    "print('Name to Lower case: {}'.format(Name.lower()))\n",
    "print('Name to Upper case: {}'.format(Name.upper()))\n",
    "print('Name to Swap case: {}'.format(Name.swapcase()))\n",
    "print('Name to capatalise case: {}'.format(Name.capitalize()))"
   ]
  },
  {
   "cell_type": "code",
   "execution_count": 22,
   "id": "092234d5",
   "metadata": {},
   "outputs": [
    {
     "name": "stdout",
     "output_type": "stream",
     "text": [
      "- First 3 characters:  Lex\n",
      "- 3 characters starting from 11 all the way to 14:  was\n",
      "- starting from 1 all the way to 14, with a skip 2:  e uhrws\n",
      "- was in reverse characters:  saw\n",
      "- reverse the sentence: scimoC namrepuS eht ni nalliv a saw rohtuL xeL\n"
     ]
    }
   ],
   "source": [
    "# substring - extracting part(s) of a string\n",
    "\n",
    "Sentence = 'Lex Luthor was a villan in the Superman Comics'\n",
    "print('- First 3 characters: ',Sentence[0:3])\n",
    "print('- 3 characters starting from 11 all the way to 14: ',Sentence[11:14])\n",
    "print('- starting from 1 all the way to 14, with a skip 2: ',Sentence[1:14:2])\n",
    "print('- was in reverse characters:',Sentence[14:10:-1])\n",
    "print('- reverse the sentence:',Sentence[::-1])"
   ]
  },
  {
   "cell_type": "code",
   "execution_count": 29,
   "id": "41535e13",
   "metadata": {},
   "outputs": [
    {
     "name": "stdout",
     "output_type": "stream",
     "text": [
      "words:  ['Lex', 'Luthor', 'was', 'a', 'Villan', 'in', 'the', 'Superman', 'Comics']\n"
     ]
    },
    {
     "data": {
      "text/plain": [
       "9"
      ]
     },
     "execution_count": 29,
     "metadata": {},
     "output_type": "execute_result"
    }
   ],
   "source": [
    "# number of words in a sentence.\n",
    "Sentence = 'Lex Luthor was a Villan in the Superman Comics'\n",
    "print('words: ',Sentence.split(' '))\n",
    "len(Sentence.split(' '))"
   ]
  },
  {
   "cell_type": "code",
   "execution_count": 30,
   "id": "0df6356f",
   "metadata": {},
   "outputs": [
    {
     "name": "stdout",
     "output_type": "stream",
     "text": [
      "Number of words present : 14\n",
      "What does the list of words look like: ['', 'Lex', 'Luthor', 'was', 'a', 'Villan', '', 'in', 'the', '', 'Superman', 'Comics', '', '']\n"
     ]
    }
   ],
   "source": [
    "# illustrating the error\n",
    "Sentence = '_Lex_Luthor_was_a_Villan__in_the__Superman_Comics__'\n",
    "print('Number of words present :',len(Sentence.split('_')))\n",
    "print('What does the list of words look like:', Sentence.split('_'))"
   ]
  },
  {
   "cell_type": "markdown",
   "id": "faf522eb",
   "metadata": {},
   "source": [
    "##### Q Count the number of words present. (correctly for all cases)"
   ]
  },
  {
   "cell_type": "code",
   "execution_count": 40,
   "id": "05f39105",
   "metadata": {},
   "outputs": [
    {
     "name": "stdout",
     "output_type": "stream",
     "text": [
      "Original sentence: \n",
      "  Lex   Luthor was a Villan  in the  Superman Comics  \n",
      "length : \n",
      "54\n",
      "\n",
      "After processing the sentence: \n",
      "Lex Luthor was a Villan in the Superman Comics\n",
      "length: \n",
      "46\n",
      "\n",
      "Total number of words:  9\n"
     ]
    }
   ],
   "source": [
    "Sentence = '  Lex   Luthor was a Villan  in the  Superman Comics  '\n",
    "print('Original sentence: ', Sentence, 'length : ', len(Sentence), sep='\\n')\n",
    "\n",
    "# removes any extra spaces from the front and the back of the string\n",
    "Sentence = Sentence.strip()\n",
    "\n",
    "list_of_words = Sentence.split(' ')\n",
    "new_sentence = ''\n",
    "\n",
    "for i in list_of_words:\n",
    "    if(i.isalnum()):\n",
    "        new_sentence += ' '+i\n",
    "\n",
    "new_sentence = new_sentence.lstrip()\n",
    "print('\\n'+'After processing the sentence: ', new_sentence, 'length: ',len(new_sentence), sep='\\n')\n",
    "print('\\n'+'Total number of words: ',len(new_sentence.split(' ')))"
   ]
  },
  {
   "cell_type": "code",
   "execution_count": 41,
   "id": "a3addff6",
   "metadata": {},
   "outputs": [
    {
     "name": "stdout",
     "output_type": "stream",
     "text": [
      "Enter a sentence:   Lex   Luthor was a Villan  in the  Superman Comics  \n",
      "\n",
      "Total number of words: 9\n"
     ]
    }
   ],
   "source": [
    "def word_preprocess(Sentence):\n",
    "    Sentence = Sentence.strip()\n",
    "\n",
    "    list_of_words = Sentence.split(' ')\n",
    "    new_sentence = ''\n",
    "    print()\n",
    "    for i in list_of_words:\n",
    "        if(i.isalnum()):\n",
    "            new_sentence += i+' '\n",
    "\n",
    "    new_sentence = new_sentence.rstrip()\n",
    "    return new_sentence\n",
    "\n",
    "def word_count(Sentence):\n",
    "    print('Total number of words:',len(Sentence.split(' ')))\n",
    "    \n",
    "# user Input:\n",
    "Sentence = input('Enter a sentence: ')\n",
    "Processed_sentence = word_preprocess(Sentence)\n",
    "word_count(Processed_sentence)"
   ]
  },
  {
   "cell_type": "raw",
   "id": "c5b46ab9",
   "metadata": {},
   "source": [
    "Homework Question:\n",
    "\n",
    "1. Count the number of numbers present in a sentence, use userdefined functions and develop it in such way that it can take in any sentence as an input and gives you the correct result"
   ]
  },
  {
   "cell_type": "code",
   "execution_count": null,
   "id": "bd351da8",
   "metadata": {},
   "outputs": [],
   "source": [
    "# type your code here\n"
   ]
  },
  {
   "cell_type": "markdown",
   "id": "7cfbdeab",
   "metadata": {},
   "source": [
    "# 2. List\n",
    "\n",
    "- Can have hetrogenious values\n",
    "- It is mutable and iterable"
   ]
  },
  {
   "cell_type": "code",
   "execution_count": 46,
   "id": "b6516587",
   "metadata": {
    "scrolled": true
   },
   "outputs": [
    {
     "name": "stdout",
     "output_type": "stream",
     "text": [
      "The values in the list:  [1, 2, 3, 4, 5]\n",
      "The values in the 2nd location:  3\n",
      "index of number 2 in the list:  4\n"
     ]
    }
   ],
   "source": [
    "List_of_number = [1,2,3,4,5]\n",
    "print('The values in the list: ',List_of_number)\n",
    "print('The values in the 2nd location: ',List_of_number[2])\n",
    "print('index of number 2 in the list: ',List_of_number.index(5))"
   ]
  },
  {
   "cell_type": "code",
   "execution_count": 47,
   "id": "474c4ebd",
   "metadata": {},
   "outputs": [
    {
     "name": "stdout",
     "output_type": "stream",
     "text": [
      "Multi data type characters can be added to the List:  ['name1', 'name2', 120.34, 340]\n"
     ]
    }
   ],
   "source": [
    "Multi_character = ['name1','name2',120.34, 340]\n",
    "print('Multi data type characters can be added to the List: ',Multi_character)"
   ]
  },
  {
   "cell_type": "code",
   "execution_count": 53,
   "id": "567668e4",
   "metadata": {},
   "outputs": [
    {
     "name": "stdout",
     "output_type": "stream",
     "text": [
      "The values in the list:  [1, 2, 3, 4, 5, [7, 8]]\n",
      "index of [7,8] : 5\n"
     ]
    }
   ],
   "source": [
    "List_of_number = [1,2,3,4,5]\n",
    "# List_of_number.append(6)\n",
    "# print('The values in the list: ',List_of_number)\n",
    "# print('index of 6 is : ',List_of_number.index(6))\n",
    "\n",
    "#intentional error\n",
    "List_of_number.append([7,8])\n",
    "print('The values in the list: ',List_of_number)\n",
    "# print('index of [7] :',List_of_number.index(7))\n",
    "print('index of [7,8] :',List_of_number.index([7,8]))"
   ]
  },
  {
   "cell_type": "code",
   "execution_count": 54,
   "id": "720b3801",
   "metadata": {},
   "outputs": [
    {
     "name": "stdout",
     "output_type": "stream",
     "text": [
      "The values in the list:  [1, 2, 3, 4, 5, 6, 7, 8]\n",
      "index of [7] : 6\n"
     ]
    }
   ],
   "source": [
    "# the correct way\n",
    "List_of_number = [1,2,3,4,5,6]\n",
    "List_of_number.extend([7,8])\n",
    "print('The values in the list: ',List_of_number)\n",
    "print('index of [7] :',List_of_number.index(7))"
   ]
  },
  {
   "cell_type": "raw",
   "id": "d3562892",
   "metadata": {},
   "source": [
    "Nested lists:\n",
    "                 ________ ________ ________\n",
    "                |  1 , 2 |  3 , 4 |  5 , 6 |\n",
    "                 ____ ___ ____ ___ ____ ___\n",
    " Sub-Indexes :     0   1    0   1    0   1\n",
    "                 ________ ________ ________\n",
    " Indexed     :       0        1        2"
   ]
  },
  {
   "cell_type": "code",
   "execution_count": 56,
   "id": "416167de",
   "metadata": {},
   "outputs": [
    {
     "name": "stdout",
     "output_type": "stream",
     "text": [
      "Element(s) in the 1st location : [3, 4]\n",
      "Element in the 1st location of the 1st location: 4\n"
     ]
    }
   ],
   "source": [
    "# nested lists:\n",
    "nested_list = [[1,2],[3,4],[5,6]]\n",
    "print('Element(s) in the 1st location :',nested_list[1])\n",
    "print('Element in the 1st location of the 1st location:',nested_list[1][1])"
   ]
  },
  {
   "cell_type": "code",
   "execution_count": 57,
   "id": "27c57f40",
   "metadata": {},
   "outputs": [
    {
     "name": "stdout",
     "output_type": "stream",
     "text": [
      "1\t2\t3\t4\t5\t6\t"
     ]
    }
   ],
   "source": [
    "# printing all the values in the list\n",
    "nested_list = [[1,2],[3,4],[5,6]]\n",
    "for i in range(len(nested_list)):  # 0,<len =10 -> 9\n",
    "    for j in range(len(nested_list[i])):\n",
    "        print(nested_list[i][j], end ='\\t')"
   ]
  },
  {
   "cell_type": "markdown",
   "id": "0af413b5",
   "metadata": {},
   "source": [
    "##### Q. Print all the 1st elements for all the items present in the nested list. \n",
    "- [[1,2],[3,4],[5,6]]"
   ]
  },
  {
   "cell_type": "code",
   "execution_count": 58,
   "id": "b80aaed4",
   "metadata": {
    "scrolled": true
   },
   "outputs": [
    {
     "name": "stdout",
     "output_type": "stream",
     "text": [
      "2\t4\t6\t"
     ]
    }
   ],
   "source": [
    "nested_list = [[1,2],[3,4],[5,6]]\n",
    "for i in range(len(nested_list)):\n",
    "        print(nested_list[i][1], end ='\\t')"
   ]
  },
  {
   "cell_type": "raw",
   "id": "8140ff87",
   "metadata": {},
   "source": [
    "Home work Question:\n",
    "Q Print all the 0th elements for all the items present in the nested list.\n",
    "[[1,2],[3,4],[5,6]]"
   ]
  },
  {
   "cell_type": "code",
   "execution_count": null,
   "id": "5c1de4a7",
   "metadata": {},
   "outputs": [],
   "source": [
    "# type your code here\n"
   ]
  },
  {
   "cell_type": "code",
   "execution_count": 63,
   "id": "0121e74f",
   "metadata": {},
   "outputs": [
    {
     "name": "stdout",
     "output_type": "stream",
     "text": [
      "Ascending order:  [2, 5, 34, 123, 123, 634, 5324]\n"
     ]
    }
   ],
   "source": [
    "# sorting the list:\n",
    "numeric_list = [123, 5324, 123, 2, 5, 34, 634]\n",
    "\n",
    "# the difficult way:\n",
    "for i in range(len(numeric_list)-1): # len-1 -> 9 for -> 0 - 8; 8+1 = 9 \n",
    "    for j in range(len(numeric_list)-1):\n",
    "        if(numeric_list[j] > numeric_list[j+1]):\n",
    "            temp = numeric_list[j]                 # temp -> 8, [j+1] -> 7\n",
    "            numeric_list[j] = numeric_list[j+1]    # [j] -> [j+1] = 7 \n",
    "            numeric_list[j+1] = temp               # [j+1] -> temp\n",
    "            \n",
    "print('Ascending order: ',numeric_list)"
   ]
  },
  {
   "cell_type": "code",
   "execution_count": 60,
   "id": "16f83c4a",
   "metadata": {},
   "outputs": [
    {
     "name": "stdout",
     "output_type": "stream",
     "text": [
      "Ascending order:  [2, 5, 34, 123, 123, 634, 5324]\n",
      "Descending order:  [5324, 634, 123, 123, 34, 5, 2]\n"
     ]
    }
   ],
   "source": [
    "# the faster way:\n",
    "\n",
    "numeric_list.sort()\n",
    "print('Ascending order: ',numeric_list)\n",
    "\n",
    "numeric_list.sort(reverse=True)\n",
    "print('Descending order: ',numeric_list)"
   ]
  },
  {
   "cell_type": "markdown",
   "id": "46028c39",
   "metadata": {},
   "source": [
    "# 3. Tuple\n",
    "\n",
    "- Can have hetrogenious values\n",
    "- It is immutable and iterable"
   ]
  },
  {
   "cell_type": "code",
   "execution_count": 64,
   "id": "8a441357",
   "metadata": {},
   "outputs": [
    {
     "name": "stdout",
     "output_type": "stream",
     "text": [
      "Numeric Tuple:  (1, 2, 3, 2)\n",
      "AlphaNumeric Tuple:  ('a', 'b', 1, 2)\n"
     ]
    }
   ],
   "source": [
    "numeric_tuple = (1,2,3,2)\n",
    "alphanumeric_tuple = ('a', 'b', 1, 2)\n",
    "print('Numeric Tuple: ', numeric_tuple)\n",
    "print('AlphaNumeric Tuple: ', alphanumeric_tuple)"
   ]
  },
  {
   "cell_type": "code",
   "execution_count": 65,
   "id": "8de37227",
   "metadata": {},
   "outputs": [
    {
     "name": "stdout",
     "output_type": "stream",
     "text": [
      "element in the 1st index :  2\n"
     ]
    }
   ],
   "source": [
    "print('element in the 1st index : ',numeric_tuple[1])"
   ]
  },
  {
   "cell_type": "code",
   "execution_count": 66,
   "id": "ffd35558",
   "metadata": {},
   "outputs": [
    {
     "name": "stdout",
     "output_type": "stream",
     "text": [
      "element in the 1st index :  b\n"
     ]
    }
   ],
   "source": [
    "print('element in the 1st index : ',alphanumeric_tuple[1])"
   ]
  },
  {
   "cell_type": "code",
   "execution_count": 68,
   "id": "b9d0138a",
   "metadata": {},
   "outputs": [
    {
     "name": "stdout",
     "output_type": "stream",
     "text": [
      "Index of the the number 2:  1\n",
      "Count of the number 2:  2\n"
     ]
    }
   ],
   "source": [
    "# The only functions of tuple\n",
    "print('Index of the the number 2: ',numeric_tuple.index(2))\n",
    "print('Count of the number 2: ',numeric_tuple.count(2))"
   ]
  },
  {
   "cell_type": "code",
   "execution_count": 70,
   "id": "65da262c",
   "metadata": {
    "collapsed": true
   },
   "outputs": [
    {
     "ename": "TypeError",
     "evalue": "'tuple' object does not support item assignment",
     "output_type": "error",
     "traceback": [
      "\u001b[1;31m---------------------------------------------------------------------------\u001b[0m",
      "\u001b[1;31mTypeError\u001b[0m                                 Traceback (most recent call last)",
      "\u001b[1;32m<ipython-input-70-6f7271344897>\u001b[0m in \u001b[0;36m<module>\u001b[1;34m\u001b[0m\n\u001b[0;32m      2\u001b[0m \u001b[1;31m# intentional error.\u001b[0m\u001b[1;33m\u001b[0m\u001b[1;33m\u001b[0m\u001b[1;33m\u001b[0m\u001b[0m\n\u001b[0;32m      3\u001b[0m \u001b[1;33m\u001b[0m\u001b[0m\n\u001b[1;32m----> 4\u001b[1;33m \u001b[0mnumeric_tuple\u001b[0m\u001b[1;33m[\u001b[0m\u001b[1;36m1\u001b[0m\u001b[1;33m]\u001b[0m \u001b[1;33m=\u001b[0m \u001b[1;36m3\u001b[0m\u001b[1;33m\u001b[0m\u001b[1;33m\u001b[0m\u001b[0m\n\u001b[0m\u001b[0;32m      5\u001b[0m \u001b[0mprint\u001b[0m\u001b[1;33m(\u001b[0m\u001b[1;34m'The 1st element in the tuple: '\u001b[0m\u001b[1;33m,\u001b[0m\u001b[0mnumeric_tuple\u001b[0m\u001b[1;33m[\u001b[0m\u001b[1;36m1\u001b[0m\u001b[1;33m]\u001b[0m\u001b[1;33m)\u001b[0m\u001b[1;33m\u001b[0m\u001b[1;33m\u001b[0m\u001b[0m\n",
      "\u001b[1;31mTypeError\u001b[0m: 'tuple' object does not support item assignment"
     ]
    }
   ],
   "source": [
    "# what makes it differnt from Lists:\n",
    "# intentional error.\n",
    "\n",
    "numeric_tuple[1] = 3\n",
    "print('The 1st element in the tuple: ',numeric_tuple[1])"
   ]
  },
  {
   "cell_type": "markdown",
   "id": "8cf0f9ee",
   "metadata": {},
   "source": [
    "# 4. Dictinary     "
   ]
  },
  {
   "cell_type": "raw",
   "id": "c041c852",
   "metadata": {},
   "source": [
    "- it has a key value pair structure.\n",
    "\n",
    "   | name_1  |  70   |\n",
    "    --------- -------\n",
    "   |   key   | value |\n",
    "\n",
    "- the values are overwritten if there is a new value assigned to it. \n",
    "- it is iterable and mutable."
   ]
  },
  {
   "cell_type": "code",
   "execution_count": 71,
   "id": "d1e6a865",
   "metadata": {},
   "outputs": [
    {
     "name": "stdout",
     "output_type": "stream",
     "text": [
      "{'name_1': 70, 'name_2': 80, 'name_3': 90}\n"
     ]
    }
   ],
   "source": [
    "math_students = {'name_1':70,\n",
    "                 'name_2':80,\n",
    "                 'name_3':90}\n",
    "print(math_students)"
   ]
  },
  {
   "cell_type": "code",
   "execution_count": 72,
   "id": "88b5b42d",
   "metadata": {},
   "outputs": [
    {
     "name": "stdout",
     "output_type": "stream",
     "text": [
      "math marks of the student for name_1 : 70\n"
     ]
    }
   ],
   "source": [
    "print('math marks of the student for name_1 :',math_students['name_1'])"
   ]
  },
  {
   "cell_type": "code",
   "execution_count": 73,
   "id": "586a05c0",
   "metadata": {
    "scrolled": true
   },
   "outputs": [
    {
     "name": "stdout",
     "output_type": "stream",
     "text": [
      "math marks of the student for name_1 : 75\n",
      "\n",
      "all the student names present:\n",
      "dict_keys(['name_1', 'name_2', 'name_3'])\n",
      "\n",
      "all the student marks present:\n",
      "dict_values([75, 80, 90])\n"
     ]
    }
   ],
   "source": [
    "math_students['name_1'] = 75\n",
    "print('math marks of the student for name_1 :',math_students['name_1'],end='\\n\\n')\n",
    "print('all the student names present:', math_students.keys(),sep='\\n', end='\\n\\n')\n",
    "\n",
    "print('all the student marks present:', math_students.values(),sep='\\n')"
   ]
  },
  {
   "cell_type": "code",
   "execution_count": 74,
   "id": "b4f8ca7b",
   "metadata": {
    "scrolled": true
   },
   "outputs": [
    {
     "name": "stdout",
     "output_type": "stream",
     "text": [
      "all the items in the list: \n",
      "{'name_1': 75, 'name_2': 80, 'name_3': 90}\n",
      "\n",
      "all the items in the list: \n",
      "dict_items([('name_1', 75), ('name_2', 80), ('name_3', 90)])\n",
      "\n"
     ]
    }
   ],
   "source": [
    "print('all the items in the list: ', math_students, sep='\\n', end='\\n\\n')\n",
    "print('all the items in the list: ', math_students.items(), sep='\\n', end='\\n\\n')"
   ]
  },
  {
   "cell_type": "code",
   "execution_count": 75,
   "id": "42bbee3d",
   "metadata": {
    "scrolled": true
   },
   "outputs": [
    {
     "ename": "ValueError",
     "evalue": "too many values to unpack (expected 2)",
     "output_type": "error",
     "traceback": [
      "\u001b[1;31m---------------------------------------------------------------------------\u001b[0m",
      "\u001b[1;31mValueError\u001b[0m                                Traceback (most recent call last)",
      "\u001b[1;32m<ipython-input-75-8c3a2d5cabb4>\u001b[0m in \u001b[0;36m<module>\u001b[1;34m\u001b[0m\n\u001b[0;32m      1\u001b[0m \u001b[1;31m#intentional error\u001b[0m\u001b[1;33m\u001b[0m\u001b[1;33m\u001b[0m\u001b[1;33m\u001b[0m\u001b[0m\n\u001b[1;32m----> 2\u001b[1;33m \u001b[1;32mfor\u001b[0m \u001b[0mkey\u001b[0m\u001b[1;33m,\u001b[0m \u001b[0mvalue\u001b[0m \u001b[1;32min\u001b[0m \u001b[0mmath_students\u001b[0m\u001b[1;33m:\u001b[0m\u001b[1;33m\u001b[0m\u001b[1;33m\u001b[0m\u001b[0m\n\u001b[0m\u001b[0;32m      3\u001b[0m     \u001b[0mprint\u001b[0m\u001b[1;33m(\u001b[0m\u001b[0mkey\u001b[0m\u001b[1;33m,\u001b[0m\u001b[1;34m'\\t'\u001b[0m\u001b[1;33m,\u001b[0m\u001b[0mvalue\u001b[0m\u001b[1;33m)\u001b[0m\u001b[1;33m\u001b[0m\u001b[1;33m\u001b[0m\u001b[0m\n",
      "\u001b[1;31mValueError\u001b[0m: too many values to unpack (expected 2)"
     ]
    }
   ],
   "source": [
    "#intentional error\n",
    "for key, value in math_students:\n",
    "    print(key,'\\t',value)"
   ]
  },
  {
   "cell_type": "code",
   "execution_count": 76,
   "id": "d32b19eb",
   "metadata": {
    "scrolled": false
   },
   "outputs": [
    {
     "name": "stdout",
     "output_type": "stream",
     "text": [
      "name_1 \t 75\n",
      "name_2 \t 80\n",
      "name_3 \t 90\n"
     ]
    }
   ],
   "source": [
    "# solution\n",
    "for key, value in math_students.items():\n",
    "    print(key,'\\t',value)"
   ]
  },
  {
   "cell_type": "markdown",
   "id": "a78a388c",
   "metadata": {},
   "source": [
    "##### Q return the names of the students with marks grater than 75."
   ]
  },
  {
   "cell_type": "code",
   "execution_count": 79,
   "id": "88a63681",
   "metadata": {},
   "outputs": [
    {
     "name": "stdout",
     "output_type": "stream",
     "text": [
      "name_2\n",
      "name_3\n"
     ]
    }
   ],
   "source": [
    "for key, value in math_students.items():\n",
    "    if(value > 75):\n",
    "        print(key)"
   ]
  }
 ],
 "metadata": {
  "kernelspec": {
   "display_name": "Python 3",
   "language": "python",
   "name": "python3"
  },
  "language_info": {
   "codemirror_mode": {
    "name": "ipython",
    "version": 3
   },
   "file_extension": ".py",
   "mimetype": "text/x-python",
   "name": "python",
   "nbconvert_exporter": "python",
   "pygments_lexer": "ipython3",
   "version": "3.8.8"
  }
 },
 "nbformat": 4,
 "nbformat_minor": 5
}
