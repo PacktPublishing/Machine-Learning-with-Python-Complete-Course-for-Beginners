{
 "cells": [
  {
   "cell_type": "markdown",
   "id": "d4280f7b",
   "metadata": {},
   "source": [
    "<center><h1>NumPy</h1></center>\n",
    "\n",
    "### What is NumPy?\n",
    "> NumPy is the fundamental package for scientific computing in Python. It is a Python library that provides a multidimensional array object, various derived objects (such as masked arrays and matrices), and an assortment of routines for fast operations on arrays, including mathematical, logical, shape manipulation, sorting, selecting, I/O, discrete Fourier transforms (audio analytics), basic linear algebra, basic statistical operations, random simulation and much more.\n",
    "- NumPy stands for <b>NUM</b>erical <b>PY</b>thon\n",
    "- Basically used for numerical computations.\n",
    "- It is iterable.\n",
    "- It is mutable.\n",
    "- It can only have homogeneous data in it (i.e. all the elements have to be of the same datatype.)\n",
    "\n",
    "### Why Numpy arrays overs lists and tuples?\n",
    "> - Vectorization describes the absence of any explicit looping, indexing, etc., in the code - these things are taking place, of course, just “behind the scenes” in optimized, pre-compiled C code.\n",
    "> - It is faster compared to List and Tuple when it comes to large datasets.\n",
    "> - It is convinient for a lot of tasks having more number of dimentions\n",
    "> - it consumes less memory\n",
    "\n",
    "> Documnetation Link : https://numpy.org/doc/stable/index.html"
   ]
  },
  {
   "cell_type": "code",
   "execution_count": 1,
   "id": "3924fa36",
   "metadata": {},
   "outputs": [],
   "source": [
    "# to install packages directly from the notebook.\n",
    "# !pip install numpy"
   ]
  },
  {
   "cell_type": "code",
   "execution_count": 2,
   "id": "af21e1f9",
   "metadata": {},
   "outputs": [
    {
     "name": "stdout",
     "output_type": "stream",
     "text": [
      "package successfully imported\n"
     ]
    }
   ],
   "source": [
    "# import the library for using it in the notebook\n",
    "# np is an alias that makes it easier to use (you can provide any other alias)\n",
    "\n",
    "import numpy as np\n",
    "print('package successfully imported')"
   ]
  },
  {
   "cell_type": "code",
   "execution_count": 3,
   "id": "1923f36d",
   "metadata": {},
   "outputs": [
    {
     "name": "stdout",
     "output_type": "stream",
     "text": [
      "<class 'list'>\n",
      "[1, 2, 3, 4, 5]\n",
      "\n",
      "<class 'numpy.ndarray'>\n",
      "[1 2 3 4 5]\n"
     ]
    }
   ],
   "source": [
    "# creating a 1D array from a list\n",
    "\n",
    "list_var = [1,2,3,4,5]\n",
    "print(type(list_var))\n",
    "print(list_var,end='\\n\\n')\n",
    "\n",
    "list_to_array = np.array([1,2,3,4,5])\n",
    "print(type(list_to_array))\n",
    "print(list_to_array)"
   ]
  },
  {
   "cell_type": "code",
   "execution_count": 4,
   "id": "f9766cfa",
   "metadata": {},
   "outputs": [
    {
     "name": "stdout",
     "output_type": "stream",
     "text": [
      "<class 'tuple'>\n",
      "(1, 2, 3, 4, 5)\n",
      "\n",
      "<class 'numpy.ndarray'>\n",
      "[1 2 3 4 5]\n"
     ]
    }
   ],
   "source": [
    "# creating a 1D array from a tuple\n",
    "\n",
    "tuple_var = (1,2,3,4,5)\n",
    "print(type(tuple_var))\n",
    "print(tuple_var,end='\\n\\n')\n",
    "\n",
    "tuple_to_array = np.array((1,2,3,4,5))\n",
    "print(type(tuple_to_array))\n",
    "print(list_to_array)"
   ]
  },
  {
   "cell_type": "code",
   "execution_count": 5,
   "id": "1b5221bd",
   "metadata": {},
   "outputs": [
    {
     "name": "stdout",
     "output_type": "stream",
     "text": [
      "<class 'list'>\n",
      "[1, 2, 3, 4, 5.5, 6.0]\n",
      "\n",
      "<class 'numpy.ndarray'>\n",
      "[1.  2.  3.  4.  5.5 6. ]\n"
     ]
    }
   ],
   "source": [
    "# homogenious data:\n",
    "# decimal numbers have a greater order compared to whole numbers\n",
    "\n",
    "list_var = [1, 2, 3, 4, 5.5, 6.0]\n",
    "print(type(list_var))\n",
    "print(list_var,end='\\n\\n')\n",
    "\n",
    "list_to_array = np.array(list_var)\n",
    "print(type(list_to_array))\n",
    "print(list_to_array)"
   ]
  },
  {
   "cell_type": "code",
   "execution_count": 6,
   "id": "d70cc42f",
   "metadata": {},
   "outputs": [
    {
     "name": "stdout",
     "output_type": "stream",
     "text": [
      "<class 'list'>\n",
      "[1, 2, 3, 4, 5.5, 6.0, 'e']\n",
      "\n",
      "<class 'numpy.ndarray'>\n",
      "['1' '2' '3' '4' '5.5' '6.0' 'e']\n"
     ]
    }
   ],
   "source": [
    "# string data type have a greater order than decimal and whole numbers\n",
    "list_var = [1,2,3,4,5.5, 6.0, 'e']\n",
    "print(type(list_var))\n",
    "print(list_var,end='\\n\\n')\n",
    "\n",
    "list_to_array = np.array(list_var)\n",
    "print(type(list_to_array))\n",
    "print(list_to_array)"
   ]
  },
  {
   "cell_type": "markdown",
   "id": "4441269c",
   "metadata": {},
   "source": [
    "# Dimentions in arrays:\n",
    "<img src='https://predictivehacks.com/wp-content/uploads/2020/08/numpy_arrays.png' width=500dp>\n",
    "\n",
    "\n",
    "Image Reference: https://predictivehacks.com/"
   ]
  },
  {
   "cell_type": "code",
   "execution_count": 7,
   "id": "68715400",
   "metadata": {
    "scrolled": true
   },
   "outputs": [
    {
     "name": "stdout",
     "output_type": "stream",
     "text": [
      "array_2d: \n",
      "\n",
      "[[5.2 3.  4.5]\n",
      " [9.1 0.1 0.3]]\n"
     ]
    }
   ],
   "source": [
    "# 2d Array: multiple 1d array will make a 2d array.\n",
    "\n",
    "array_2d = np.array([[5.2, 3.0, 4.5],[9.1, 0.1, 0.3]])\n",
    "print('array_2d: ',array_2d, sep='\\n\\n')"
   ]
  },
  {
   "cell_type": "code",
   "execution_count": 8,
   "id": "bae00d26",
   "metadata": {
    "scrolled": true
   },
   "outputs": [
    {
     "name": "stdout",
     "output_type": "stream",
     "text": [
      "array_3d:\n",
      "\n",
      "[[[ 1  2  3]\n",
      "  [ 4  5  6]]\n",
      "\n",
      " [[ 7  8  9]\n",
      "  [10 11 12]]]\n"
     ]
    }
   ],
   "source": [
    "# 3d Array: Multiple 2d arrays will make a 3d array\n",
    "\n",
    "array_3d = np.array([[[1,2,3],[4,5,6]],[[7,8,9],[10,11,12]]])\n",
    "print('array_3d:',array_3d,sep='\\n\\n')"
   ]
  },
  {
   "cell_type": "markdown",
   "id": "7fb432d4",
   "metadata": {},
   "source": [
    "### How is Numpy better"
   ]
  },
  {
   "cell_type": "raw",
   "id": "ba938dc6",
   "metadata": {},
   "source": [
    "Q. add each list element index to index and create a new list.\n",
    "list 1 = [1, 2, 3, 4, 5]\n",
    "list 2 = [6, 7, 8, 9, 10]"
   ]
  },
  {
   "cell_type": "code",
   "execution_count": 14,
   "id": "2fd4836e",
   "metadata": {},
   "outputs": [
    {
     "name": "stdout",
     "output_type": "stream",
     "text": [
      "Sum list:\n",
      "[7, 9, 11, 13, 15, 20]\n"
     ]
    }
   ],
   "source": [
    "list_1 = [1, 2, 3, 4, 5, 9]\n",
    "list_2 = [6, 7, 8, 9, 10, 11]\n",
    "sum_list = []\n",
    "\n",
    "# the shotter way:\n",
    "length_1 = len(list_1)\n",
    "length_2 = len(list_2)\n",
    "min_length = min(length_1, length_2)\n",
    "\n",
    "for i in range(0, length_1):\n",
    "    sum_list.append(list_1[i]+list_2[i])\n",
    "    \n",
    "print(\"Sum list:\", sum_list, sep='\\n')"
   ]
  },
  {
   "cell_type": "code",
   "execution_count": 16,
   "id": "7e9f50f6",
   "metadata": {},
   "outputs": [
    {
     "name": "stdout",
     "output_type": "stream",
     "text": [
      "Sum list:\n",
      "[7, 9, 11, 13, 15]\n"
     ]
    }
   ],
   "source": [
    "# optimal method:\n",
    "list_1 = [1, 2, 3, 4, 5, 10]\n",
    "list_2 = [6, 7, 8, 9, 10]\n",
    "sum_list = []\n",
    "\n",
    "sum_list = list(map(lambda x, y : x+y, list_1, list_2))\n",
    "print(\"Sum list:\", sum_list, sep='\\n')"
   ]
  },
  {
   "cell_type": "code",
   "execution_count": 19,
   "id": "3bba1cdd",
   "metadata": {},
   "outputs": [
    {
     "name": "stdout",
     "output_type": "stream",
     "text": [
      "Sum list:\n",
      "[ 7  9 11 13 15]\n"
     ]
    }
   ],
   "source": [
    "# using numpy: Vectorised Code\n",
    "array_1 = np.array([1, 2, 3, 4, 5])\n",
    "array_2 = np.array([6, 7, 8, 9, 10])\n",
    "sum_list = array_1+array_2\n",
    "\n",
    "print(\"Sum list:\", sum_list, sep='\\n')"
   ]
  },
  {
   "cell_type": "code",
   "execution_count": 20,
   "id": "8965f2e9",
   "metadata": {},
   "outputs": [
    {
     "name": "stdout",
     "output_type": "stream",
     "text": [
      "checking for the condition: [False False  True  True  True]\n",
      "\n",
      "what are the values that satisfy the condtion:  [3 4 5]\n"
     ]
    }
   ],
   "source": [
    "# conditon to check \n",
    "array_1_bool = array_1 >= 3\n",
    "print('checking for the condition:', array_1_bool,end='\\n\\n')\n",
    "print('what are the values that satisfy the condtion: ',array_1[array_1_bool])"
   ]
  },
  {
   "cell_type": "code",
   "execution_count": 21,
   "id": "2c0300db",
   "metadata": {},
   "outputs": [
    {
     "data": {
      "text/plain": [
       "array([3, 4, 5])"
      ]
     },
     "execution_count": 21,
     "metadata": {},
     "output_type": "execute_result"
    }
   ],
   "source": [
    "# simplyfing the above cloud:\n",
    "array_1[array_1>2]"
   ]
  },
  {
   "cell_type": "code",
   "execution_count": 22,
   "id": "3543b2d2",
   "metadata": {},
   "outputs": [
    {
     "name": "stdout",
     "output_type": "stream",
     "text": [
      "1st array: \n",
      "[[1 2 3]\n",
      " [4 5 6]]\n",
      "\n",
      "2nd array: \n",
      "[[11 12 13]\n",
      " [14 15 16]]\n",
      "\n",
      "final array: \n",
      "[[10 10 10]\n",
      " [10 10 10]]\n",
      "\n"
     ]
    }
   ],
   "source": [
    "# operations on higher levels:\n",
    "arr1 = np.array([[1,2,3],[4,5,6]])\n",
    "arr2 = np.array([[11,12,13],[14,15,16]])\n",
    "\n",
    "print('1st array: ',arr1, sep='\\n', end='\\n\\n')\n",
    "print('2nd array: ',arr2, sep='\\n', end='\\n\\n')\n",
    "print('final array: ',arr2-arr1, sep='\\n', end='\\n\\n')"
   ]
  },
  {
   "cell_type": "markdown",
   "id": "48a5fea5",
   "metadata": {},
   "source": [
    "### Functions:"
   ]
  },
  {
   "cell_type": "code",
   "execution_count": 23,
   "id": "0f7638de",
   "metadata": {},
   "outputs": [
    {
     "name": "stdout",
     "output_type": "stream",
     "text": [
      "using complex nested functions:  [ 1  3  5  7  9 11 13]\n",
      "\n",
      "using simple numpy functions:  [ 1  3  5  7  9 11 13]\n"
     ]
    }
   ],
   "source": [
    "# Arange function. (increment factor)\n",
    "arange_array = np.array(list(range(1,15,2)))\n",
    "print('using complex nested functions: ', arange_array, end='\\n\\n')\n",
    "\n",
    "arange_array = np.arange(1,15,2)\n",
    "print('using simple numpy functions: ', arange_array)"
   ]
  },
  {
   "cell_type": "code",
   "execution_count": 25,
   "id": "bd4d990a",
   "metadata": {},
   "outputs": [
    {
     "name": "stdout",
     "output_type": "stream",
     "text": [
      "using simple numpy functions:  [15 13 11  9  7  5  3  1]\n"
     ]
    }
   ],
   "source": [
    "# Arange function. (decrement factor)\n",
    "arange_array = np.arange(15,0,-2)\n",
    "print('using simple numpy functions: ', arange_array)"
   ]
  },
  {
   "cell_type": "code",
   "execution_count": 31,
   "id": "2bdca008",
   "metadata": {
    "scrolled": false
   },
   "outputs": [
    {
     "name": "stdout",
     "output_type": "stream",
     "text": [
      "1D array:\n",
      "[0. 0. 0. 0. 0.]\n",
      "\n",
      "2D array:\n",
      "[[0 0 0 0 0]\n",
      " [0 0 0 0 0]\n",
      " [0 0 0 0 0]\n",
      " [0 0 0 0 0]\n",
      " [0 0 0 0 0]]\n",
      "\n"
     ]
    }
   ],
   "source": [
    "# an array with only zeros:\n",
    "zero_array_1d = np.zeros(5)\n",
    "print('1D array:', zero_array_1d,sep='\\n', end='\\n\\n')\n",
    "\n",
    "zero_array_2d = np.zeros([5,5], dtype=int)\n",
    "print('2D array:', zero_array_2d,sep='\\n', end='\\n\\n')"
   ]
  },
  {
   "cell_type": "code",
   "execution_count": 32,
   "id": "5810c333",
   "metadata": {
    "scrolled": false
   },
   "outputs": [
    {
     "name": "stdout",
     "output_type": "stream",
     "text": [
      "1D array:\n",
      "[1. 1. 1. 1. 1.]\n",
      "\n",
      "2D array:\n",
      "[[1 1 1 1 1]\n",
      " [1 1 1 1 1]\n",
      " [1 1 1 1 1]\n",
      " [1 1 1 1 1]\n",
      " [1 1 1 1 1]]\n",
      "\n"
     ]
    }
   ],
   "source": [
    "# an array with only ones:\n",
    "one_array_1d = np.ones(5)\n",
    "print('1D array:', one_array_1d,sep='\\n', end='\\n\\n')\n",
    "\n",
    "one_array_2d = np.ones((5,5), dtype=int)\n",
    "print('2D array:', one_array_2d,sep='\\n', end='\\n\\n')"
   ]
  },
  {
   "cell_type": "code",
   "execution_count": 33,
   "id": "9245dcd6",
   "metadata": {},
   "outputs": [
    {
     "name": "stdout",
     "output_type": "stream",
     "text": [
      "[5 5 5 5 5]\n",
      "\n",
      "[[3 3 3 3 3]\n",
      " [3 3 3 3 3]\n",
      " [3 3 3 3 3]\n",
      " [3 3 3 3 3]\n",
      " [3 3 3 3 3]]\n"
     ]
    }
   ],
   "source": [
    "# for numbers other than 1 and 0\n",
    "print(np.full(shape = 5, fill_value=5), end='\\n\\n')\n",
    "print(np.full(shape = (5,5), fill_value=3))"
   ]
  },
  {
   "cell_type": "code",
   "execution_count": 36,
   "id": "5023c74b",
   "metadata": {},
   "outputs": [
    {
     "data": {
      "text/plain": [
       "array([[0.72782105, 0.26105014, 0.67546676],\n",
       "       [0.06422386, 0.87701604, 0.9557208 ],\n",
       "       [0.59421917, 0.41441455, 0.05570997]])"
      ]
     },
     "execution_count": 36,
     "metadata": {},
     "output_type": "execute_result"
    }
   ],
   "source": [
    "# random value\n",
    "np.random.random((3,3))"
   ]
  },
  {
   "cell_type": "code",
   "execution_count": 45,
   "id": "0daa7cae",
   "metadata": {
    "scrolled": true
   },
   "outputs": [
    {
     "name": "stdout",
     "output_type": "stream",
     "text": [
      "[ 9 14  9  7 12  3 12  9  8  3]\n"
     ]
    },
    {
     "data": {
      "text/plain": [
       "array([[ 2, 12,  6],\n",
       "       [11,  5, 13],\n",
       "       [ 5,  6,  8]])"
      ]
     },
     "execution_count": 45,
     "metadata": {},
     "output_type": "execute_result"
    }
   ],
   "source": [
    "# random.randint and seed significance.\n",
    "np.random.seed(2)\n",
    "print(np.random.randint(low = 1, high = 15, size = 10))\n",
    "np.random.randint(low = 1, high = 15, size = (3,3))"
   ]
  },
  {
   "cell_type": "code",
   "execution_count": 51,
   "id": "bc5cf5a2",
   "metadata": {
    "scrolled": true
   },
   "outputs": [
    {
     "data": {
      "text/plain": [
       "array([[1, 0, 0, 0, 0],\n",
       "       [0, 1, 0, 0, 0],\n",
       "       [0, 0, 1, 0, 0],\n",
       "       [0, 0, 0, 1, 0],\n",
       "       [0, 0, 0, 0, 1]])"
      ]
     },
     "execution_count": 51,
     "metadata": {},
     "output_type": "execute_result"
    }
   ],
   "source": [
    "# identity matrix\n",
    "# important\n",
    "np.eye(5, dtype=int)"
   ]
  },
  {
   "cell_type": "code",
   "execution_count": 57,
   "id": "c5c9f5f3",
   "metadata": {},
   "outputs": [
    {
     "name": "stdout",
     "output_type": "stream",
     "text": [
      "[ 1  8 16 24 32 40]\n"
     ]
    },
    {
     "data": {
      "text/plain": [
       "(6,)"
      ]
     },
     "execution_count": 57,
     "metadata": {},
     "output_type": "execute_result"
    }
   ],
   "source": [
    "# we use linspace when the range and the size of the output is known but the stepsize is not known.\n",
    "# important\n",
    "arr_1 = np.linspace(1,40,6, dtype=int)\n",
    "print(arr_1)\n",
    "arr_1.shape"
   ]
  },
  {
   "cell_type": "code",
   "execution_count": 59,
   "id": "9b475af2",
   "metadata": {},
   "outputs": [
    {
     "data": {
      "text/plain": [
       "array([[ 1,  8, 16],\n",
       "       [24, 32, 40]])"
      ]
     },
     "execution_count": 59,
     "metadata": {},
     "output_type": "execute_result"
    }
   ],
   "source": [
    "# make the linspace array into 2 dimentions array\n",
    "np.linspace(1,40,6, dtype=int).reshape(2,3)"
   ]
  },
  {
   "cell_type": "code",
   "execution_count": 61,
   "id": "51cd7fdb",
   "metadata": {
    "scrolled": true
   },
   "outputs": [
    {
     "name": "stdout",
     "output_type": "stream",
     "text": [
      "1D: \n",
      "[1 2 3 1 2 3]\n",
      "\n",
      "2D: \n",
      "[[1 2 3 1 2 3 1 2 3]\n",
      " [1 2 3 1 2 3 1 2 3]\n",
      " [1 2 3 1 2 3 1 2 3]]\n"
     ]
    }
   ],
   "source": [
    "# repeat a squence to create a new array\n",
    "print('1D: ',np.tile([1,2,3],2),sep='\\n',end='\\n\\n')\n",
    "\n",
    "print('2D: ',np.tile([1,2,3],(3,3)), sep='\\n')"
   ]
  },
  {
   "cell_type": "raw",
   "id": "91b4c1f3",
   "metadata": {},
   "source": [
    "Q Generate 2 arrays as shown below and add then together to generate a new array.\n",
    "[[1 2 3           [[2  4  6\n",
    "  1 2 3     +       8  10 12      \n",
    "  1 2 3]]           14 16 18]]"
   ]
  },
  {
   "cell_type": "code",
   "execution_count": 62,
   "id": "aae0e16a",
   "metadata": {
    "scrolled": true
   },
   "outputs": [
    {
     "name": "stdout",
     "output_type": "stream",
     "text": [
      "array 1:\n",
      "[[1 2 3]\n",
      " [1 2 3]\n",
      " [1 2 3]]\n",
      "\n",
      "array 2:\n",
      "[[ 2  4  6]\n",
      " [ 8 10 12]\n",
      " [14 16 18]]\n",
      "\n",
      "final array:\n",
      "[[ 3  6  9]\n",
      " [ 9 12 15]\n",
      " [15 18 21]]\n"
     ]
    }
   ],
   "source": [
    "array_1 = np.tile([1,2,3],(3,1))\n",
    "array_2 = np.arange(2,19,2).reshape(3,3)\n",
    "\n",
    "print('array 1:',array_1,sep='\\n',end='\\n\\n')\n",
    "print('array 2:',array_2,sep='\\n',end='\\n\\n')\n",
    "print('final array:',array_1+array_2,sep='\\n')"
   ]
  },
  {
   "cell_type": "raw",
   "id": "524ce09d",
   "metadata": {},
   "source": [
    "Homework:\n",
    "Q Generate 2 arrays as shown below and multiply them together to generate a new array\n",
    "[[1 2 3           [[1  1  1\n",
    "  1 2 3     x       1  1  1      \n",
    "  1 2 3]]           1  1  1]]"
   ]
  },
  {
   "cell_type": "code",
   "execution_count": null,
   "id": "164cd597",
   "metadata": {},
   "outputs": [],
   "source": [
    "# your code goes here\n"
   ]
  },
  {
   "cell_type": "markdown",
   "id": "2e63bfdb",
   "metadata": {},
   "source": [
    "### Structure :"
   ]
  },
  {
   "cell_type": "code",
   "execution_count": 64,
   "id": "0ef27411",
   "metadata": {},
   "outputs": [
    {
     "name": "stdout",
     "output_type": "stream",
     "text": [
      "[[1 2 3]\n",
      " [1 2 3]\n",
      " [1 2 3]]\n",
      "\n",
      "data type int32\n",
      "data shape (3, 3)\n",
      "data number of dimentions 2\n"
     ]
    }
   ],
   "source": [
    "array = np.tile([1,2,3],(3,1))\n",
    "print(array, end='\\n\\n')\n",
    "print('data type',array.dtype)\n",
    "print('data shape',array.shape)\n",
    "print('data number of dimentions',array.ndim)"
   ]
  },
  {
   "cell_type": "code",
   "execution_count": 72,
   "id": "1c42e0ed",
   "metadata": {},
   "outputs": [
    {
     "name": "stdout",
     "output_type": "stream",
     "text": [
      "first row:  [1 2 3]\n",
      "0th elements:  1\n",
      "0th elements:  1\n",
      "first 2 elements :  [1 2]\n",
      "reverse of the first row:  [3 2 1]\n"
     ]
    }
   ],
   "source": [
    "# Indexing subsetting and slicing\n",
    "\n",
    "print('first row: ',array[1])\n",
    "print('0th elements: ',array[1][0])\n",
    "print('0th elements: ',array[1,0])\n",
    "print('first 2 elements : ',array[1,:2])\n",
    "print('reverse of the first row: ',array[0,::-1])"
   ]
  },
  {
   "cell_type": "raw",
   "id": "fef1af70",
   "metadata": {},
   "source": [
    "Homework:\n",
    "Q print the 0th row.\n",
    "  print the 0th value of the 0th row\n",
    "  print the last 2 values of the 0th row\n",
    "  print the reverse of the last row.\n",
    "  \n",
    "[[1 2 3\n",
    "  1 2 3     \n",
    "  1 2 3]]"
   ]
  },
  {
   "cell_type": "code",
   "execution_count": null,
   "id": "cb19bc22",
   "metadata": {},
   "outputs": [],
   "source": [
    "# your code goes here\n"
   ]
  },
  {
   "cell_type": "markdown",
   "id": "546c60fe",
   "metadata": {},
   "source": [
    "## Testing the execution speed:"
   ]
  },
  {
   "cell_type": "code",
   "execution_count": 74,
   "id": "ed6f3323",
   "metadata": {},
   "outputs": [],
   "source": [
    "# this is another pre-built module in python which helps you measure time.\n",
    "import time "
   ]
  },
  {
   "cell_type": "code",
   "execution_count": 75,
   "id": "b53c8736",
   "metadata": {},
   "outputs": [
    {
     "name": "stdout",
     "output_type": "stream",
     "text": [
      "total time consumed:  0.028917551040649414\n"
     ]
    }
   ],
   "source": [
    "# performing an operation for list\n",
    "list_1 = [i for i in range(200000)]\n",
    "list_2 = [j**2 for j in range(200000)]\n",
    "\n",
    "# starting the clock\n",
    "list_start_time = time.time()\n",
    "list_mul = list(map(lambda x, y: x*y, list_1, list_2))\n",
    "list_end_time = time.time()\n",
    "print('total time consumed: ', list_end_time - list_start_time)"
   ]
  },
  {
   "cell_type": "code",
   "execution_count": 76,
   "id": "9d186829",
   "metadata": {},
   "outputs": [
    {
     "name": "stdout",
     "output_type": "stream",
     "text": [
      "total time consumed:  0.0009975433349609375\n"
     ]
    }
   ],
   "source": [
    "# performing an operation for array\n",
    "array_1 = np.array([i for i in range(200000)])\n",
    "array_2 = np.array([j**2 for j in range(200000)])\n",
    "\n",
    "# starting the clock\n",
    "array_start_time = time.time()\n",
    "array_mul = array_1*array_2\n",
    "array_end_time = time.time()\n",
    "print('total time consumed: ', array_end_time - array_start_time)"
   ]
  },
  {
   "cell_type": "code",
   "execution_count": 77,
   "id": "4d35b8d5",
   "metadata": {},
   "outputs": [
    {
     "name": "stdout",
     "output_type": "stream",
     "text": [
      "0.027920007705688477\n"
     ]
    }
   ],
   "source": [
    "list_time = list_end_time - list_start_time\n",
    "array_time = array_end_time - array_start_time\n",
    "print(list_time - array_time)"
   ]
  }
 ],
 "metadata": {
  "kernelspec": {
   "display_name": "Python 3",
   "language": "python",
   "name": "python3"
  },
  "language_info": {
   "codemirror_mode": {
    "name": "ipython",
    "version": 3
   },
   "file_extension": ".py",
   "mimetype": "text/x-python",
   "name": "python",
   "nbconvert_exporter": "python",
   "pygments_lexer": "ipython3",
   "version": "3.8.8"
  }
 },
 "nbformat": 4,
 "nbformat_minor": 5
}
